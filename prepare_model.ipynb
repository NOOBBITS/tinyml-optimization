{
  "cells": [
    {
      "attachments": {},
      "cell_type": "markdown",
      "metadata": {
        "id": "7xc2grXmGVo4"
      },
      "source": [
        "# Chapter 5 - Indoor Scene Classification with TFLu and the Arduino Nano"
      ]
    },
    {
      "cell_type": "code",
      "execution_count": 2,
      "metadata": {
        "id": "bAenHrKFofOR"
      },
      "outputs": [
        {
          "name": "stderr",
          "output_type": "stream",
          "text": [
            "UsageError: Line magic function `%tensorflow_version` not found.\n"
          ]
        }
      ],
      "source": [
        "%tensorflow_version 2.x"
      ]
    },
    {
      "attachments": {},
      "cell_type": "markdown",
      "metadata": {
        "id": "bCS8r9jvlfFi"
      },
      "source": [
        "### Python libraries"
      ]
    },
    {
      "cell_type": "code",
      "execution_count": 3,
      "metadata": {
        "id": "9IzYsIvDlgx_"
      },
      "outputs": [
        {
          "name": "stderr",
          "output_type": "stream",
          "text": [
            "2023-07-06 11:50:30.994477: I tensorflow/core/platform/cpu_feature_guard.cc:193] This TensorFlow binary is optimized with oneAPI Deep Neural Network Library (oneDNN) to use the following CPU instructions in performance-critical operations:  AVX2 FMA\n",
            "To enable them in other operations, rebuild TensorFlow with the appropriate compiler flags.\n",
            "2023-07-06 11:50:31.489095: W tensorflow/compiler/xla/stream_executor/platform/default/dso_loader.cc:64] Could not load dynamic library 'libcudart.so.11.0'; dlerror: libcudart.so.11.0: cannot open shared object file: No such file or directory\n",
            "2023-07-06 11:50:31.489160: I tensorflow/compiler/xla/stream_executor/cuda/cudart_stub.cc:29] Ignore above cudart dlerror if you do not have a GPU set up on your machine.\n",
            "2023-07-06 11:50:33.317414: W tensorflow/compiler/xla/stream_executor/platform/default/dso_loader.cc:64] Could not load dynamic library 'libnvinfer.so.7'; dlerror: libnvinfer.so.7: cannot open shared object file: No such file or directory\n",
            "2023-07-06 11:50:33.317515: W tensorflow/compiler/xla/stream_executor/platform/default/dso_loader.cc:64] Could not load dynamic library 'libnvinfer_plugin.so.7'; dlerror: libnvinfer_plugin.so.7: cannot open shared object file: No such file or directory\n",
            "2023-07-06 11:50:33.317522: W tensorflow/compiler/tf2tensorrt/utils/py_utils.cc:38] TF-TRT Warning: Cannot dlopen some TensorRT libraries. If you would like to use Nvidia GPU with TensorRT, please make sure the missing libraries mentioned above are installed properly.\n"
          ]
        }
      ],
      "source": [
        "import numpy as np\n",
        "import pathlib\n",
        "#!export PROTOCOL_BUFFERS_PYTHON_IMPLEMENTATION=python\n",
        "import tensorflow as tf\n",
        "#import tensorflow_datasets as tfds\n",
        "import zipfile\n",
        "from tensorflow.keras.applications.mobilenet_v2 import MobileNetV2\n",
        "# from tensorflow.keras.models import Model\n",
        "import matplotlib.pyplot as plt"
      ]
    },
    {
      "attachments": {},
      "cell_type": "markdown",
      "metadata": {
        "id": "EJchRFEmnwvl"
      },
      "source": [
        "### Constants"
      ]
    },
    {
      "cell_type": "code",
      "execution_count": 4,
      "metadata": {
        "id": "6VGtgqiVFaY1"
      },
      "outputs": [],
      "source": [
        "MODEL_ALPHA = 0.35\n",
        "MODEL_INPUT_WIDTH = 48\n",
        "MODEL_INPUT_HEIGHT = 48\n",
        "TFL_MODEL_FILE = \"indoor_scene_recognition.tflite\"\n",
        "TFL_MODEL_HEADER_FILE = \"indoor_scene_recognition_model.h\"\n",
        "TF_MODEL = \"indoor_scene_recognition\""
      ]
    },
    {
      "attachments": {},
      "cell_type": "markdown",
      "metadata": {
        "id": "3J8L3YW_htYw"
      },
      "source": [
        "## Transfer learning with Keras"
      ]
    },
    {
      "attachments": {},
      "cell_type": "markdown",
      "metadata": {
        "id": "YSlp-mPQhwuY"
      },
      "source": [
        "### Unzip the dataset (dataset.zip) SKIP THIS STEP\n"
      ]
    },
    {
      "cell_type": "code",
      "execution_count": 5,
      "metadata": {
        "id": "Tp1VN1OZGuEn"
      },
      "outputs": [],
      "source": [
        "# with zipfile.ZipFile(\"dataset.zip\", 'r') as zip_ref:\n",
        "#   zip_ref.extractall(\".\")\n",
        "# data_dir = \"dataset\""
      ]
    },
    {
      "attachments": {},
      "cell_type": "markdown",
      "metadata": {
        "id": "HMqMhiuvGpam"
      },
      "source": [
        "### Prepare the train (80%) and validation (20%) datasets"
      ]
    },
    {
      "cell_type": "code",
      "execution_count": 6,
      "metadata": {
        "id": "jKZ4L-wsBktr"
      },
      "outputs": [
        {
          "name": "stdout",
          "output_type": "stream",
          "text": [
            "Found 111 files belonging to 3 classes.\n",
            "Using 89 files for training.\n",
            "Found 111 files belonging to 3 classes.\n",
            "Using 22 files for validation.\n"
          ]
        },
        {
          "name": "stderr",
          "output_type": "stream",
          "text": [
            "2023-07-06 11:50:36.522274: W tensorflow/compiler/xla/stream_executor/platform/default/dso_loader.cc:64] Could not load dynamic library 'libcudart.so.11.0'; dlerror: libcudart.so.11.0: cannot open shared object file: No such file or directory\n",
            "2023-07-06 11:50:36.522367: W tensorflow/compiler/xla/stream_executor/platform/default/dso_loader.cc:64] Could not load dynamic library 'libcublas.so.11'; dlerror: libcublas.so.11: cannot open shared object file: No such file or directory\n",
            "2023-07-06 11:50:36.522417: W tensorflow/compiler/xla/stream_executor/platform/default/dso_loader.cc:64] Could not load dynamic library 'libcublasLt.so.11'; dlerror: libcublasLt.so.11: cannot open shared object file: No such file or directory\n",
            "2023-07-06 11:50:36.522667: W tensorflow/compiler/xla/stream_executor/platform/default/dso_loader.cc:64] Could not load dynamic library 'libcufft.so.10'; dlerror: libcufft.so.10: cannot open shared object file: No such file or directory\n",
            "2023-07-06 11:50:36.522908: W tensorflow/compiler/xla/stream_executor/platform/default/dso_loader.cc:64] Could not load dynamic library 'libcurand.so.10'; dlerror: libcurand.so.10: cannot open shared object file: No such file or directory\n",
            "2023-07-06 11:50:36.522952: W tensorflow/compiler/xla/stream_executor/platform/default/dso_loader.cc:64] Could not load dynamic library 'libcusolver.so.11'; dlerror: libcusolver.so.11: cannot open shared object file: No such file or directory\n",
            "2023-07-06 11:50:36.522985: W tensorflow/compiler/xla/stream_executor/platform/default/dso_loader.cc:64] Could not load dynamic library 'libcusparse.so.11'; dlerror: libcusparse.so.11: cannot open shared object file: No such file or directory\n",
            "2023-07-06 11:50:36.523014: W tensorflow/compiler/xla/stream_executor/platform/default/dso_loader.cc:64] Could not load dynamic library 'libcudnn.so.8'; dlerror: libcudnn.so.8: cannot open shared object file: No such file or directory\n",
            "2023-07-06 11:50:36.523199: W tensorflow/core/common_runtime/gpu/gpu_device.cc:1934] Cannot dlopen some GPU libraries. Please make sure the missing libraries mentioned above are installed properly if you would like to use GPU. Follow the guide at https://www.tensorflow.org/install/gpu for how to download and setup the required libraries for your platform.\n",
            "Skipping registering GPU devices...\n",
            "2023-07-06 11:50:36.524380: I tensorflow/core/platform/cpu_feature_guard.cc:193] This TensorFlow binary is optimized with oneAPI Deep Neural Network Library (oneDNN) to use the following CPU instructions in performance-critical operations:  AVX2 FMA\n",
            "To enable them in other operations, rebuild TensorFlow with the appropriate compiler flags.\n"
          ]
        }
      ],
      "source": [
        "data_dir=\"dataset\"\n",
        "train_ds = tf.keras.utils.image_dataset_from_directory(\n",
        "  data_dir,\n",
        "  validation_split=0.2,\n",
        "  subset=\"training\",\n",
        "  seed=123,\n",
        "  interpolation=\"bilinear\",\n",
        "  image_size=(MODEL_INPUT_WIDTH, MODEL_INPUT_HEIGHT)\n",
        "  )\n",
        "\n",
        "val_ds = tf.keras.utils.image_dataset_from_directory(\n",
        "  data_dir,\n",
        "  validation_split=0.2,\n",
        "  subset=\"validation\",\n",
        "  seed=123,\n",
        "  interpolation=\"bilinear\",\n",
        "  image_size=(MODEL_INPUT_WIDTH, MODEL_INPUT_HEIGHT)\n",
        "  )"
      ]
    },
    {
      "attachments": {},
      "cell_type": "markdown",
      "metadata": {
        "id": "mWxKsXM0iMxj"
      },
      "source": [
        "### Get the name of the classes"
      ]
    },
    {
      "cell_type": "code",
      "execution_count": 7,
      "metadata": {
        "id": "zLWkCbjYDVHJ"
      },
      "outputs": [
        {
          "name": "stdout",
          "output_type": "stream",
          "text": [
            "['paper', 'rock', 'scissors']\n"
          ]
        }
      ],
      "source": [
        "class_names = train_ds.class_names\n",
        "num_classes = len(class_names)\n",
        "print(class_names)"
      ]
    },
    {
      "attachments": {},
      "cell_type": "markdown",
      "metadata": {
        "id": "vEsZQCsUHaeb"
      },
      "source": [
        "### Rescale the pixel values from [0, 255] tp [-1, 1]"
      ]
    },
    {
      "cell_type": "code",
      "execution_count": 8,
      "metadata": {
        "id": "-lFJZj50HhMV"
      },
      "outputs": [
        {
          "name": "stdout",
          "output_type": "stream",
          "text": [
            "WARNING:tensorflow:From /home/aditya/.local/lib/python3.10/site-packages/tensorflow/python/autograph/pyct/static_analysis/liveness.py:83: Analyzer.lamba_check (from tensorflow.python.autograph.pyct.static_analysis.liveness) is deprecated and will be removed after 2023-09-23.\n",
            "Instructions for updating:\n",
            "Lambda fuctions will be no more assumed to be used in the statement where they are used, or at least in the same block. https://github.com/tensorflow/tensorflow/issues/56089\n"
          ]
        }
      ],
      "source": [
        "rescale = tf.keras.layers.Rescaling(1./255, offset= -1)\n",
        "train_ds = train_ds.map(lambda x, y: (rescale(x), y))\n",
        "val_ds   = val_ds.map(lambda x, y: (rescale(x), y))"
      ]
    },
    {
      "attachments": {},
      "cell_type": "markdown",
      "metadata": {
        "id": "OK0nFgtFSwsF"
      },
      "source": [
        "### Import the MobileNet v2 pre-trained model"
      ]
    },
    {
      "cell_type": "code",
      "execution_count": 9,
      "metadata": {
        "id": "DbhSn1Bl-LZ7"
      },
      "outputs": [
        {
          "name": "stdout",
          "output_type": "stream",
          "text": [
            "WARNING:tensorflow:`input_shape` is undefined or non-square, or `rows` is not in [96, 128, 160, 192, 224]. Weights for input shape (224, 224) will be loaded as the default.\n"
          ]
        }
      ],
      "source": [
        "# https://github.com/keras-team/keras-applications/blob/master/keras_applications/mobilenet_v2.py\n",
        "base_model = MobileNetV2(input_shape=(MODEL_INPUT_WIDTH, MODEL_INPUT_HEIGHT, 3),\n",
        "                         include_top=False,\n",
        "                         weights='imagenet',\n",
        "                         alpha=0.35)\n",
        "base_model.trainable = False\n",
        "\n",
        "feat_extr = base_model"
      ]
    },
    {
      "attachments": {},
      "cell_type": "markdown",
      "metadata": {
        "id": "lOCL5dx-MmlD"
      },
      "source": [
        "### Augment the input data"
      ]
    },
    {
      "cell_type": "code",
      "execution_count": 10,
      "metadata": {
        "id": "7ebIppPRjUKF"
      },
      "outputs": [
        {
          "name": "stdout",
          "output_type": "stream",
          "text": [
            "WARNING:tensorflow:Using a while_loop for converting RngReadAndSkip cause there is no registered converter for this op.\n",
            "WARNING:tensorflow:Using a while_loop for converting Bitcast cause there is no registered converter for this op.\n",
            "WARNING:tensorflow:Using a while_loop for converting Bitcast cause there is no registered converter for this op.\n",
            "WARNING:tensorflow:Using a while_loop for converting StatelessRandomUniformV2 cause there is no registered converter for this op.\n",
            "WARNING:tensorflow:Using a while_loop for converting ImageProjectiveTransformV3 cause there is no registered converter for this op.\n",
            "WARNING:tensorflow:Using a while_loop for converting RngReadAndSkip cause there is no registered converter for this op.\n",
            "WARNING:tensorflow:Using a while_loop for converting Bitcast cause there is no registered converter for this op.\n",
            "WARNING:tensorflow:Using a while_loop for converting Bitcast cause there is no registered converter for this op.\n",
            "WARNING:tensorflow:Using a while_loop for converting StatelessRandomUniformV2 cause there is no registered converter for this op.\n",
            "WARNING:tensorflow:Using a while_loop for converting RngReadAndSkip cause there is no registered converter for this op.\n",
            "WARNING:tensorflow:Using a while_loop for converting Bitcast cause there is no registered converter for this op.\n",
            "WARNING:tensorflow:Using a while_loop for converting Bitcast cause there is no registered converter for this op.\n",
            "WARNING:tensorflow:Using a while_loop for converting StatelessRandomUniformV2 cause there is no registered converter for this op.\n",
            "WARNING:tensorflow:Using a while_loop for converting RngReadAndSkip cause there is no registered converter for this op.\n",
            "WARNING:tensorflow:Using a while_loop for converting Bitcast cause there is no registered converter for this op.\n",
            "WARNING:tensorflow:Using a while_loop for converting Bitcast cause there is no registered converter for this op.\n",
            "WARNING:tensorflow:Using a while_loop for converting StatelessRandomUniformV2 cause there is no registered converter for this op.\n",
            "WARNING:tensorflow:Using a while_loop for converting ImageProjectiveTransformV3 cause there is no registered converter for this op.\n",
            "WARNING:tensorflow:Using a while_loop for converting RngReadAndSkip cause there is no registered converter for this op.\n",
            "WARNING:tensorflow:Using a while_loop for converting Bitcast cause there is no registered converter for this op.\n",
            "WARNING:tensorflow:Using a while_loop for converting Bitcast cause there is no registered converter for this op.\n",
            "WARNING:tensorflow:Using a while_loop for converting StatelessRandomUniformV2 cause there is no registered converter for this op.\n",
            "WARNING:tensorflow:Using a while_loop for converting RngReadAndSkip cause there is no registered converter for this op.\n",
            "WARNING:tensorflow:Using a while_loop for converting Bitcast cause there is no registered converter for this op.\n",
            "WARNING:tensorflow:Using a while_loop for converting Bitcast cause there is no registered converter for this op.\n",
            "WARNING:tensorflow:Using a while_loop for converting StatelessRandomUniformV2 cause there is no registered converter for this op.\n",
            "WARNING:tensorflow:Using a while_loop for converting RngReadAndSkip cause there is no registered converter for this op.\n",
            "WARNING:tensorflow:Using a while_loop for converting Bitcast cause there is no registered converter for this op.\n",
            "WARNING:tensorflow:Using a while_loop for converting Bitcast cause there is no registered converter for this op.\n",
            "WARNING:tensorflow:Using a while_loop for converting StatelessRandomUniformV2 cause there is no registered converter for this op.\n",
            "WARNING:tensorflow:Using a while_loop for converting ImageProjectiveTransformV3 cause there is no registered converter for this op.\n",
            "WARNING:tensorflow:Using a while_loop for converting RngReadAndSkip cause there is no registered converter for this op.\n",
            "WARNING:tensorflow:Using a while_loop for converting Bitcast cause there is no registered converter for this op.\n",
            "WARNING:tensorflow:Using a while_loop for converting Bitcast cause there is no registered converter for this op.\n",
            "WARNING:tensorflow:Using a while_loop for converting StatelessRandomUniformV2 cause there is no registered converter for this op.\n",
            "WARNING:tensorflow:Using a while_loop for converting RngReadAndSkip cause there is no registered converter for this op.\n",
            "WARNING:tensorflow:Using a while_loop for converting Bitcast cause there is no registered converter for this op.\n",
            "WARNING:tensorflow:Using a while_loop for converting Bitcast cause there is no registered converter for this op.\n",
            "WARNING:tensorflow:Using a while_loop for converting StatelessRandomUniformV2 cause there is no registered converter for this op.\n"
          ]
        }
      ],
      "source": [
        "augmen = tf.keras.Sequential([\n",
        "  tf.keras.layers.experimental.preprocessing.RandomRotation(0.2),\n",
        "  tf.keras.layers.experimental.preprocessing.RandomFlip('horizontal_and_vertical'),\n",
        "  #tf.keras.layers.experimental.preprocessing.RandomZoom(0.1, 0.1),\n",
        "  tf.keras.layers.experimental.preprocessing.RandomTranslation(0.1, 0.1)\n",
        "])\n",
        "\n",
        "train_ds = train_ds.map(lambda x, y: (augmen(x), y))\n",
        "val_ds   = val_ds.map(lambda x, y: (augmen(x), y))"
      ]
    },
    {
      "attachments": {},
      "cell_type": "markdown",
      "metadata": {
        "id": "Qhw11eldjZoz"
      },
      "source": [
        "### Prepare the classification head"
      ]
    },
    {
      "cell_type": "code",
      "execution_count": 11,
      "metadata": {
        "id": "gC5CVjRNMn7q"
      },
      "outputs": [],
      "source": [
        "global_avg_layer = tf.keras.layers.GlobalAveragePooling2D()\n",
        "dense_layer = tf.keras.layers.Dense(num_classes, activation='softmax')"
      ]
    },
    {
      "attachments": {},
      "cell_type": "markdown",
      "metadata": {
        "id": "IZYMkd0yM5tb"
      },
      "source": [
        "### Build the model architecture"
      ]
    },
    {
      "cell_type": "code",
      "execution_count": 12,
      "metadata": {
        "id": "r-DTz_x5M7bg"
      },
      "outputs": [],
      "source": [
        "inputs = tf.keras.Input(shape=(MODEL_INPUT_WIDTH, MODEL_INPUT_HEIGHT, 3))\n",
        "x = global_avg_layer(feat_extr.layers[-1].output)\n",
        "x = tf.keras.layers.Dropout(0.3)(x)\n",
        "outputs = dense_layer(x)\n",
        "model = tf.keras.Model(inputs=feat_extr.inputs, outputs=outputs)"
      ]
    },
    {
      "attachments": {},
      "cell_type": "markdown",
      "metadata": {
        "id": "X4AoQHO1j1a3"
      },
      "source": [
        "### Compile the model with a 0.0005 learning rate"
      ]
    },
    {
      "cell_type": "code",
      "execution_count": 13,
      "metadata": {
        "id": "ZHPUqQNijqE5"
      },
      "outputs": [],
      "source": [
        "lr = 0.0005\n",
        "model.compile(\n",
        "  optimizer=tf.keras.optimizers.Adam(learning_rate=lr),\n",
        "  loss=tf.losses.SparseCategoricalCrossentropy(from_logits=False),\n",
        "  metrics=['accuracy'])"
      ]
    },
    {
      "attachments": {},
      "cell_type": "markdown",
      "metadata": {
        "id": "x4M-8ftzj89-"
      },
      "source": [
        "### Model summary"
      ]
    },
    {
      "cell_type": "code",
      "execution_count": 14,
      "metadata": {
        "id": "WFXJSd6fj415"
      },
      "outputs": [],
      "source": [
        "# model.summary()"
      ]
    },
    {
      "attachments": {},
      "cell_type": "markdown",
      "metadata": {
        "id": "25W5CUAVj_I9"
      },
      "source": [
        "### Train the model with 10 epochs"
      ]
    },
    {
      "cell_type": "code",
      "execution_count": 15,
      "metadata": {
        "id": "na0GBGTQkavr"
      },
      "outputs": [
        {
          "name": "stdout",
          "output_type": "stream",
          "text": [
            "Epoch 1/100\n",
            "3/3 [==============================] - 4s 1s/step - loss: 1.8246 - accuracy: 0.2022 - val_loss: 1.3550 - val_accuracy: 0.1364\n",
            "Epoch 2/100\n",
            "3/3 [==============================] - 1s 478ms/step - loss: 1.6461 - accuracy: 0.3034 - val_loss: 1.2305 - val_accuracy: 0.5000\n",
            "Epoch 3/100\n",
            "3/3 [==============================] - 1s 651ms/step - loss: 1.5211 - accuracy: 0.3146 - val_loss: 1.2905 - val_accuracy: 0.4545\n",
            "Epoch 4/100\n",
            "3/3 [==============================] - 1s 425ms/step - loss: 1.6056 - accuracy: 0.2809 - val_loss: 1.4826 - val_accuracy: 0.2273\n",
            "Epoch 5/100\n",
            "3/3 [==============================] - 1s 578ms/step - loss: 1.5024 - accuracy: 0.3596 - val_loss: 1.3194 - val_accuracy: 0.3182\n",
            "Epoch 6/100\n",
            "3/3 [==============================] - 1s 475ms/step - loss: 1.4329 - accuracy: 0.3258 - val_loss: 1.1896 - val_accuracy: 0.5000\n",
            "Epoch 7/100\n",
            "3/3 [==============================] - 1s 409ms/step - loss: 1.4089 - accuracy: 0.3933 - val_loss: 1.2887 - val_accuracy: 0.4091\n",
            "Epoch 8/100\n",
            "3/3 [==============================] - 1s 401ms/step - loss: 1.2932 - accuracy: 0.4157 - val_loss: 1.2933 - val_accuracy: 0.3182\n",
            "Epoch 9/100\n",
            "3/3 [==============================] - 1s 367ms/step - loss: 1.2207 - accuracy: 0.4270 - val_loss: 1.1888 - val_accuracy: 0.4091\n",
            "Epoch 10/100\n",
            "3/3 [==============================] - 1s 397ms/step - loss: 1.3405 - accuracy: 0.3933 - val_loss: 1.3756 - val_accuracy: 0.3182\n",
            "Epoch 11/100\n",
            "3/3 [==============================] - 1s 372ms/step - loss: 1.2398 - accuracy: 0.4270 - val_loss: 1.1073 - val_accuracy: 0.4545\n",
            "Epoch 12/100\n",
            "3/3 [==============================] - 1s 373ms/step - loss: 1.1229 - accuracy: 0.4270 - val_loss: 1.2012 - val_accuracy: 0.5000\n",
            "Epoch 13/100\n",
            "3/3 [==============================] - 1s 405ms/step - loss: 1.1269 - accuracy: 0.4719 - val_loss: 1.2583 - val_accuracy: 0.3182\n",
            "Epoch 14/100\n",
            "3/3 [==============================] - 1s 394ms/step - loss: 1.1266 - accuracy: 0.5281 - val_loss: 1.2083 - val_accuracy: 0.4545\n",
            "Epoch 15/100\n",
            "3/3 [==============================] - 1s 363ms/step - loss: 1.1698 - accuracy: 0.4944 - val_loss: 1.1791 - val_accuracy: 0.4091\n",
            "Epoch 16/100\n",
            "3/3 [==============================] - 1s 394ms/step - loss: 1.1912 - accuracy: 0.4719 - val_loss: 0.9980 - val_accuracy: 0.5000\n",
            "Epoch 17/100\n",
            "3/3 [==============================] - 1s 381ms/step - loss: 1.1390 - accuracy: 0.4382 - val_loss: 0.7592 - val_accuracy: 0.6364\n",
            "Epoch 18/100\n",
            "3/3 [==============================] - 1s 392ms/step - loss: 1.0508 - accuracy: 0.5393 - val_loss: 1.1347 - val_accuracy: 0.4091\n",
            "Epoch 19/100\n",
            "3/3 [==============================] - 1s 370ms/step - loss: 1.0007 - accuracy: 0.5056 - val_loss: 1.1712 - val_accuracy: 0.3636\n",
            "Epoch 20/100\n",
            "3/3 [==============================] - 1s 378ms/step - loss: 1.0123 - accuracy: 0.5618 - val_loss: 1.0828 - val_accuracy: 0.4545\n",
            "Epoch 21/100\n",
            "3/3 [==============================] - 1s 370ms/step - loss: 0.9253 - accuracy: 0.5618 - val_loss: 0.9728 - val_accuracy: 0.5455\n",
            "Epoch 22/100\n",
            "3/3 [==============================] - 1s 373ms/step - loss: 0.8308 - accuracy: 0.6629 - val_loss: 1.1410 - val_accuracy: 0.5455\n",
            "Epoch 23/100\n",
            "3/3 [==============================] - 1s 408ms/step - loss: 0.9407 - accuracy: 0.5506 - val_loss: 1.0639 - val_accuracy: 0.4545\n",
            "Epoch 24/100\n",
            "3/3 [==============================] - 1s 420ms/step - loss: 0.7780 - accuracy: 0.6517 - val_loss: 1.0774 - val_accuracy: 0.5455\n",
            "Epoch 25/100\n",
            "3/3 [==============================] - 1s 393ms/step - loss: 0.8750 - accuracy: 0.5618 - val_loss: 1.1475 - val_accuracy: 0.5000\n",
            "Epoch 26/100\n",
            "3/3 [==============================] - 1s 376ms/step - loss: 0.9533 - accuracy: 0.5169 - val_loss: 0.9010 - val_accuracy: 0.5455\n",
            "Epoch 27/100\n",
            "3/3 [==============================] - 1s 371ms/step - loss: 0.8874 - accuracy: 0.6292 - val_loss: 1.2001 - val_accuracy: 0.5000\n",
            "Epoch 28/100\n",
            "3/3 [==============================] - 1s 376ms/step - loss: 0.8415 - accuracy: 0.6404 - val_loss: 0.9895 - val_accuracy: 0.4545\n",
            "Epoch 29/100\n",
            "3/3 [==============================] - 1s 371ms/step - loss: 0.8810 - accuracy: 0.5955 - val_loss: 0.7913 - val_accuracy: 0.6818\n",
            "Epoch 30/100\n",
            "3/3 [==============================] - 1s 374ms/step - loss: 0.8960 - accuracy: 0.5955 - val_loss: 1.0440 - val_accuracy: 0.4545\n",
            "Epoch 31/100\n",
            "3/3 [==============================] - 1s 369ms/step - loss: 0.9019 - accuracy: 0.5843 - val_loss: 1.2638 - val_accuracy: 0.4091\n",
            "Epoch 32/100\n",
            "3/3 [==============================] - 1s 376ms/step - loss: 0.8810 - accuracy: 0.6517 - val_loss: 1.2567 - val_accuracy: 0.4545\n",
            "Epoch 33/100\n",
            "3/3 [==============================] - 1s 392ms/step - loss: 0.7212 - accuracy: 0.6854 - val_loss: 0.8395 - val_accuracy: 0.5909\n",
            "Epoch 34/100\n",
            "3/3 [==============================] - 1s 371ms/step - loss: 0.9804 - accuracy: 0.5281 - val_loss: 1.0090 - val_accuracy: 0.5455\n",
            "Epoch 35/100\n",
            "3/3 [==============================] - 1s 375ms/step - loss: 0.7839 - accuracy: 0.6854 - val_loss: 0.9211 - val_accuracy: 0.5455\n",
            "Epoch 36/100\n",
            "3/3 [==============================] - 1s 371ms/step - loss: 0.8377 - accuracy: 0.5843 - val_loss: 1.0096 - val_accuracy: 0.5909\n",
            "Epoch 37/100\n",
            "3/3 [==============================] - 1s 380ms/step - loss: 0.7605 - accuracy: 0.6854 - val_loss: 0.7311 - val_accuracy: 0.6364\n",
            "Epoch 38/100\n",
            "3/3 [==============================] - 1s 436ms/step - loss: 0.7724 - accuracy: 0.6854 - val_loss: 1.1622 - val_accuracy: 0.4545\n",
            "Epoch 39/100\n",
            "3/3 [==============================] - 1s 647ms/step - loss: 0.6735 - accuracy: 0.7528 - val_loss: 0.9835 - val_accuracy: 0.5455\n",
            "Epoch 40/100\n",
            "3/3 [==============================] - 1s 539ms/step - loss: 0.7876 - accuracy: 0.6629 - val_loss: 1.0770 - val_accuracy: 0.5000\n",
            "Epoch 41/100\n",
            "3/3 [==============================] - 1s 491ms/step - loss: 0.8132 - accuracy: 0.6404 - val_loss: 0.8912 - val_accuracy: 0.5909\n",
            "Epoch 42/100\n",
            "3/3 [==============================] - 1s 504ms/step - loss: 0.8391 - accuracy: 0.6517 - val_loss: 1.0372 - val_accuracy: 0.5455\n",
            "Epoch 43/100\n",
            "3/3 [==============================] - 1s 446ms/step - loss: 0.8135 - accuracy: 0.6517 - val_loss: 1.1362 - val_accuracy: 0.4545\n",
            "Epoch 44/100\n",
            "3/3 [==============================] - 1s 451ms/step - loss: 0.6925 - accuracy: 0.7191 - val_loss: 1.1143 - val_accuracy: 0.4091\n",
            "Epoch 45/100\n",
            "3/3 [==============================] - 1s 665ms/step - loss: 0.6165 - accuracy: 0.7416 - val_loss: 1.1995 - val_accuracy: 0.5909\n",
            "Epoch 46/100\n",
            "3/3 [==============================] - 1s 529ms/step - loss: 0.7188 - accuracy: 0.6517 - val_loss: 1.0783 - val_accuracy: 0.5455\n",
            "Epoch 47/100\n",
            "3/3 [==============================] - 1s 468ms/step - loss: 0.6773 - accuracy: 0.6742 - val_loss: 1.0711 - val_accuracy: 0.5455\n",
            "Epoch 48/100\n",
            "3/3 [==============================] - 1s 437ms/step - loss: 0.7864 - accuracy: 0.6966 - val_loss: 0.8815 - val_accuracy: 0.5000\n",
            "Epoch 49/100\n",
            "3/3 [==============================] - 1s 487ms/step - loss: 0.7697 - accuracy: 0.6180 - val_loss: 0.8603 - val_accuracy: 0.5909\n",
            "Epoch 50/100\n",
            "3/3 [==============================] - 1s 459ms/step - loss: 0.8392 - accuracy: 0.6180 - val_loss: 1.0686 - val_accuracy: 0.5000\n",
            "Epoch 51/100\n",
            "3/3 [==============================] - 1s 455ms/step - loss: 0.6940 - accuracy: 0.7191 - val_loss: 0.8926 - val_accuracy: 0.5000\n",
            "Epoch 52/100\n",
            "3/3 [==============================] - 1s 454ms/step - loss: 0.6340 - accuracy: 0.7416 - val_loss: 1.0204 - val_accuracy: 0.4545\n",
            "Epoch 53/100\n",
            "3/3 [==============================] - 1s 442ms/step - loss: 0.6611 - accuracy: 0.7191 - val_loss: 1.0338 - val_accuracy: 0.5455\n",
            "Epoch 54/100\n",
            "3/3 [==============================] - 1s 428ms/step - loss: 0.7026 - accuracy: 0.7303 - val_loss: 1.0887 - val_accuracy: 0.6364\n",
            "Epoch 55/100\n",
            "3/3 [==============================] - 1s 426ms/step - loss: 0.6738 - accuracy: 0.7079 - val_loss: 1.0845 - val_accuracy: 0.5000\n",
            "Epoch 56/100\n",
            "3/3 [==============================] - 1s 431ms/step - loss: 0.7626 - accuracy: 0.7191 - val_loss: 1.0602 - val_accuracy: 0.5909\n",
            "Epoch 57/100\n",
            "3/3 [==============================] - 1s 417ms/step - loss: 0.6749 - accuracy: 0.7416 - val_loss: 0.7809 - val_accuracy: 0.7273\n",
            "Epoch 58/100\n",
            "3/3 [==============================] - 1s 422ms/step - loss: 0.7299 - accuracy: 0.6629 - val_loss: 1.0669 - val_accuracy: 0.4545\n",
            "Epoch 59/100\n",
            "3/3 [==============================] - 1s 419ms/step - loss: 0.7394 - accuracy: 0.7528 - val_loss: 1.1197 - val_accuracy: 0.5000\n",
            "Epoch 60/100\n",
            "3/3 [==============================] - 1s 424ms/step - loss: 0.6436 - accuracy: 0.7865 - val_loss: 0.9198 - val_accuracy: 0.5455\n",
            "Epoch 61/100\n",
            "3/3 [==============================] - 1s 418ms/step - loss: 0.6336 - accuracy: 0.7416 - val_loss: 1.4048 - val_accuracy: 0.4091\n",
            "Epoch 62/100\n",
            "3/3 [==============================] - 1s 421ms/step - loss: 0.6267 - accuracy: 0.7865 - val_loss: 1.0835 - val_accuracy: 0.5000\n",
            "Epoch 63/100\n",
            "3/3 [==============================] - 1s 416ms/step - loss: 0.6292 - accuracy: 0.7640 - val_loss: 0.8987 - val_accuracy: 0.5000\n",
            "Epoch 64/100\n",
            "3/3 [==============================] - 1s 423ms/step - loss: 0.6731 - accuracy: 0.7303 - val_loss: 0.7387 - val_accuracy: 0.5909\n",
            "Epoch 65/100\n",
            "3/3 [==============================] - 1s 485ms/step - loss: 0.6118 - accuracy: 0.7079 - val_loss: 1.0409 - val_accuracy: 0.5455\n",
            "Epoch 66/100\n",
            "3/3 [==============================] - 1s 689ms/step - loss: 0.5182 - accuracy: 0.7865 - val_loss: 1.0046 - val_accuracy: 0.4091\n",
            "Epoch 67/100\n",
            "3/3 [==============================] - 2s 735ms/step - loss: 0.5668 - accuracy: 0.7753 - val_loss: 0.8576 - val_accuracy: 0.7273\n",
            "Epoch 68/100\n",
            "3/3 [==============================] - 3s 1s/step - loss: 0.6689 - accuracy: 0.7528 - val_loss: 1.0701 - val_accuracy: 0.5000\n",
            "Epoch 69/100\n",
            "3/3 [==============================] - 1s 531ms/step - loss: 0.6499 - accuracy: 0.7191 - val_loss: 1.1820 - val_accuracy: 0.5000\n",
            "Epoch 70/100\n",
            "3/3 [==============================] - 1s 432ms/step - loss: 0.6681 - accuracy: 0.6966 - val_loss: 0.8901 - val_accuracy: 0.6364\n",
            "Epoch 71/100\n",
            "3/3 [==============================] - 1s 430ms/step - loss: 0.5789 - accuracy: 0.7416 - val_loss: 0.8657 - val_accuracy: 0.6818\n",
            "Epoch 72/100\n",
            "3/3 [==============================] - 1s 487ms/step - loss: 0.6197 - accuracy: 0.7303 - val_loss: 0.8888 - val_accuracy: 0.5455\n",
            "Epoch 73/100\n",
            "3/3 [==============================] - 1s 554ms/step - loss: 0.7227 - accuracy: 0.6742 - val_loss: 1.1389 - val_accuracy: 0.5909\n",
            "Epoch 74/100\n",
            "3/3 [==============================] - 1s 666ms/step - loss: 0.5843 - accuracy: 0.7528 - val_loss: 1.3083 - val_accuracy: 0.4545\n",
            "Epoch 75/100\n",
            "3/3 [==============================] - 1s 537ms/step - loss: 0.6108 - accuracy: 0.7528 - val_loss: 0.8232 - val_accuracy: 0.5455\n",
            "Epoch 76/100\n",
            "3/3 [==============================] - 1s 442ms/step - loss: 0.7618 - accuracy: 0.6966 - val_loss: 0.9702 - val_accuracy: 0.5909\n",
            "Epoch 77/100\n",
            "3/3 [==============================] - 1s 434ms/step - loss: 0.5145 - accuracy: 0.7978 - val_loss: 1.1529 - val_accuracy: 0.5909\n",
            "Epoch 78/100\n",
            "3/3 [==============================] - 1s 443ms/step - loss: 0.6560 - accuracy: 0.7528 - val_loss: 0.9900 - val_accuracy: 0.5455\n",
            "Epoch 79/100\n",
            "3/3 [==============================] - 1s 430ms/step - loss: 0.6110 - accuracy: 0.7640 - val_loss: 0.9419 - val_accuracy: 0.5909\n",
            "Epoch 80/100\n",
            "3/3 [==============================] - 1s 441ms/step - loss: 0.6307 - accuracy: 0.7640 - val_loss: 1.0324 - val_accuracy: 0.4091\n",
            "Epoch 81/100\n",
            "3/3 [==============================] - 1s 464ms/step - loss: 0.6356 - accuracy: 0.7528 - val_loss: 0.9953 - val_accuracy: 0.5455\n",
            "Epoch 82/100\n",
            "3/3 [==============================] - 1s 433ms/step - loss: 0.5797 - accuracy: 0.7303 - val_loss: 0.9184 - val_accuracy: 0.5909\n",
            "Epoch 83/100\n",
            "3/3 [==============================] - 1s 436ms/step - loss: 0.4785 - accuracy: 0.8090 - val_loss: 0.7963 - val_accuracy: 0.6364\n",
            "Epoch 84/100\n",
            "3/3 [==============================] - 1s 435ms/step - loss: 0.5490 - accuracy: 0.8090 - val_loss: 0.7729 - val_accuracy: 0.6818\n",
            "Epoch 85/100\n",
            "3/3 [==============================] - 1s 438ms/step - loss: 0.6069 - accuracy: 0.7303 - val_loss: 1.0656 - val_accuracy: 0.3636\n",
            "Epoch 86/100\n",
            "3/3 [==============================] - 1s 430ms/step - loss: 0.4748 - accuracy: 0.8427 - val_loss: 0.7202 - val_accuracy: 0.6364\n",
            "Epoch 87/100\n",
            "3/3 [==============================] - 1s 441ms/step - loss: 0.5420 - accuracy: 0.8090 - val_loss: 0.9478 - val_accuracy: 0.5909\n",
            "Epoch 88/100\n",
            "3/3 [==============================] - 1s 500ms/step - loss: 0.4835 - accuracy: 0.7865 - val_loss: 0.6718 - val_accuracy: 0.6818\n",
            "Epoch 89/100\n",
            "3/3 [==============================] - 1s 469ms/step - loss: 0.5645 - accuracy: 0.8090 - val_loss: 1.0801 - val_accuracy: 0.5909\n",
            "Epoch 90/100\n",
            "3/3 [==============================] - 1s 526ms/step - loss: 0.5438 - accuracy: 0.7865 - val_loss: 0.8404 - val_accuracy: 0.6364\n",
            "Epoch 91/100\n",
            "3/3 [==============================] - 1s 494ms/step - loss: 0.6317 - accuracy: 0.7416 - val_loss: 0.8995 - val_accuracy: 0.5455\n",
            "Epoch 92/100\n",
            "3/3 [==============================] - 1s 468ms/step - loss: 0.5152 - accuracy: 0.7865 - val_loss: 0.7068 - val_accuracy: 0.6818\n",
            "Epoch 93/100\n",
            "3/3 [==============================] - 1s 465ms/step - loss: 0.5297 - accuracy: 0.8090 - val_loss: 0.8765 - val_accuracy: 0.5909\n",
            "Epoch 94/100\n",
            "3/3 [==============================] - 1s 498ms/step - loss: 0.6405 - accuracy: 0.7753 - val_loss: 0.8100 - val_accuracy: 0.5909\n",
            "Epoch 95/100\n",
            "3/3 [==============================] - 1s 442ms/step - loss: 0.5401 - accuracy: 0.7640 - val_loss: 0.9504 - val_accuracy: 0.6364\n",
            "Epoch 96/100\n",
            "3/3 [==============================] - 1s 455ms/step - loss: 0.5646 - accuracy: 0.7865 - val_loss: 0.9264 - val_accuracy: 0.6364\n",
            "Epoch 97/100\n",
            "3/3 [==============================] - 1s 544ms/step - loss: 0.5791 - accuracy: 0.7303 - val_loss: 0.9233 - val_accuracy: 0.5909\n",
            "Epoch 98/100\n",
            "3/3 [==============================] - 1s 642ms/step - loss: 0.6327 - accuracy: 0.7303 - val_loss: 0.8356 - val_accuracy: 0.6364\n",
            "Epoch 99/100\n",
            "3/3 [==============================] - 1s 539ms/step - loss: 0.5352 - accuracy: 0.7416 - val_loss: 1.1815 - val_accuracy: 0.4545\n",
            "Epoch 100/100\n",
            "3/3 [==============================] - 1s 516ms/step - loss: 0.4802 - accuracy: 0.8090 - val_loss: 1.1677 - val_accuracy: 0.5000\n"
          ]
        }
      ],
      "source": [
        "history=model.fit(\n",
        "  train_ds,\n",
        "  validation_data=val_ds,\n",
        "  epochs=100,\n",
        " # batch_size=2\n",
        ")"
      ]
    },
    {
      "cell_type": "code",
      "execution_count": 16,
      "metadata": {},
      "outputs": [
        {
          "data": {
            "image/png": "[encoded data removed]",
            "text/plain": [
              "<Figure size 640x480 with 1 Axes>"
            ]
          },
          "metadata": {},
          "output_type": "display_data"
        }
      ],
      "source": [
        "plt.plot(history.history['accuracy'])\n",
        "plt.plot(history.history['val_accuracy'])\n",
        "plt.title('model accuracy')\n",
        "plt.ylabel('accuracy')\n",
        "plt.xlabel('epoch')\n",
        "plt.legend(['train', 'val'], loc='upper left')\n",
        "plt.show()"
      ]
    },
    {
      "cell_type": "code",
      "execution_count": 17,
      "metadata": {},
      "outputs": [
        {
          "data": {
            "image/png": "[encoded data removed]",
            "text/plain": [
              "<Figure size 640x480 with 1 Axes>"
            ]
          },
          "metadata": {},
          "output_type": "display_data"
        }
      ],
      "source": [
        "plt.plot(history.history['loss'])\n",
        "plt.plot(history.history['val_loss'])\n",
        "plt.title('model loss')\n",
        "plt.ylabel('loss')\n",
        "plt.xlabel('epoch')\n",
        "plt.legend(['train', 'val'], loc='upper left')\n",
        "plt.show()"
      ]
    },
    {
      "attachments": {},
      "cell_type": "markdown",
      "metadata": {
        "id": "U0tsAdGikFa_"
      },
      "source": [
        "### Save the TensorFlow model"
      ]
    },
    {
      "cell_type": "code",
      "execution_count": 18,
      "metadata": {
        "id": "rOUI3vtLtYKh"
      },
      "outputs": [
        {
          "name": "stderr",
          "output_type": "stream",
          "text": [
            "WARNING:absl:Found untraced functions such as _jit_compiled_convolution_op, _jit_compiled_convolution_op, _jit_compiled_convolution_op, _jit_compiled_convolution_op, _jit_compiled_convolution_op while saving (showing 5 of 53). These functions will not be directly callable after loading.\n"
          ]
        },
        {
          "name": "stdout",
          "output_type": "stream",
          "text": [
            "INFO:tensorflow:Assets written to: indoor_scene_recognition/assets\n"
          ]
        },
        {
          "name": "stderr",
          "output_type": "stream",
          "text": [
            "INFO:tensorflow:Assets written to: indoor_scene_recognition/assets\n"
          ]
        }
      ],
      "source": [
        "model.save(TF_MODEL)"
      ]
    },
    {
      "attachments": {},
      "cell_type": "markdown",
      "metadata": {
        "id": "KntdZZ5ruM7Z"
      },
      "source": [
        "## Preparing and testing the quantized TFLite model"
      ]
    },
    {
      "attachments": {},
      "cell_type": "markdown",
      "metadata": {
        "id": "srHkdaf_kk97"
      },
      "source": [
        "### Unzip the test dataset (test_samples.zip)"
      ]
    },
    {
      "cell_type": "code",
      "execution_count": 19,
      "metadata": {
        "id": "ZxnVbqxkkspY"
      },
      "outputs": [],
      "source": [
        "# with zipfile.ZipFile(\"test_samples.zip\", 'r') as zip_ref:\n",
        "#     zip_ref.extractall(\".\")\n",
        "# test_dir = \"dataset\""
      ]
    },
    {
      "attachments": {},
      "cell_type": "markdown",
      "metadata": {
        "id": "jzTiU6qQk_Bv"
      },
      "source": [
        "### Rescale the pixel values from [0, 255] to [-1, 1]"
      ]
    },
    {
      "cell_type": "code",
      "execution_count": 20,
      "metadata": {
        "id": "vYHpua21lGXp"
      },
      "outputs": [
        {
          "name": "stdout",
          "output_type": "stream",
          "text": [
            "Found 111 files belonging to 3 classes.\n"
          ]
        }
      ],
      "source": [
        "test_dir=\"dataset\"\n",
        "test_ds = tf.keras.utils.image_dataset_from_directory(test_dir,\n",
        "                                                      interpolation=\"bilinear\",\n",
        "                                                      image_size=(MODEL_INPUT_WIDTH, MODEL_INPUT_HEIGHT))\n",
        "test_ds  = test_ds.map(lambda x, y: (rescale(x), y))"
      ]
    },
    {
      "attachments": {},
      "cell_type": "markdown",
      "metadata": {
        "id": "riqPFiWllkdg"
      },
      "source": [
        "### Quantize the TensorFlow model with the TFLite converter"
      ]
    },
    {
      "cell_type": "code",
      "execution_count": 21,
      "metadata": {
        "id": "ALWbwZKBuNl8"
      },
      "outputs": [
        {
          "name": "stderr",
          "output_type": "stream",
          "text": [
            "2023-07-06 11:53:42.848236: W tensorflow/compiler/mlir/lite/python/tf_tfl_flatbuffer_helpers.cc:362] Ignored output_format.\n",
            "2023-07-06 11:53:42.848380: W tensorflow/compiler/mlir/lite/python/tf_tfl_flatbuffer_helpers.cc:365] Ignored drop_control_dependency.\n",
            "2023-07-06 11:53:42.855201: I tensorflow/cc/saved_model/reader.cc:45] Reading SavedModel from: indoor_scene_recognition\n",
            "2023-07-06 11:53:42.879634: I tensorflow/cc/saved_model/reader.cc:89] Reading meta graph with tags { serve }\n",
            "2023-07-06 11:53:42.879826: I tensorflow/cc/saved_model/reader.cc:130] Reading SavedModel debug info (if present) from: indoor_scene_recognition\n",
            "2023-07-06 11:53:42.968076: I tensorflow/compiler/mlir/mlir_graph_optimization_pass.cc:357] MLIR V1 optimization pass is not enabled\n",
            "2023-07-06 11:53:44.272558: I tensorflow/compiler/mlir/tensorflow/utils/dump_mlir_util.cc:268] disabling MLIR crash reproducer, set env var `MLIR_CRASH_REPRODUCER_DIRECTORY` to enable.\n",
            "fully_quantize: 0, inference_type: 6, input_inference_type: INT8, output_inference_type: FLOAT32\n"
          ]
        }
      ],
      "source": [
        "repr_ds = test_ds.unbatch()\n",
        "\n",
        "def representative_data_gen():\n",
        "  for i_value, o_value in repr_ds.batch(1).take(48):\n",
        "    yield [i_value]\n",
        "\n",
        "converter = tf.lite.TFLiteConverter.from_saved_model(TF_MODEL)\n",
        "converter.representative_dataset = tf.lite.RepresentativeDataset(representative_data_gen)\n",
        "converter.optimizations = [tf.lite.Optimize.DEFAULT]\n",
        "converter.target_spec.supported_ops = [tf.lite.OpsSet.TFLITE_BUILTINS_INT8]\n",
        "converter.inference_input_type = tf.int8\n",
        "\n",
        "tfl_model = converter.convert()"
      ]
    },
    {
      "attachments": {},
      "cell_type": "markdown",
      "metadata": {
        "id": "nQg4FbwzluB8"
      },
      "source": [
        "### Get the TFLite model size in bytes"
      ]
    },
    {
      "cell_type": "code",
      "execution_count": 22,
      "metadata": {
        "id": "IFIpV1uUlxiZ"
      },
      "outputs": [
        {
          "name": "stdout",
          "output_type": "stream",
          "text": [
            "618664 bytes\n"
          ]
        }
      ],
      "source": [
        "size_tfl_model = len(tfl_model)\n",
        "print(len(tfl_model), \"bytes\")"
      ]
    },
    {
      "attachments": {},
      "cell_type": "markdown",
      "metadata": {
        "id": "1Br6hq8Cl4nU"
      },
      "source": [
        "### Initialize the TFLite interpreter"
      ]
    },
    {
      "cell_type": "code",
      "execution_count": 23,
      "metadata": {
        "id": "ACsaQjxzP2Wd"
      },
      "outputs": [
        {
          "name": "stderr",
          "output_type": "stream",
          "text": [
            "INFO: Created TensorFlow Lite XNNPACK delegate for CPU.\n"
          ]
        }
      ],
      "source": [
        "# Initialize the TFLite interpreter\n",
        "interpreter = tf.lite.Interpreter(model_content=tfl_model)\n",
        "\n",
        "# Allocate the tensors\n",
        "interpreter.allocate_tensors()"
      ]
    },
    {
      "attachments": {},
      "cell_type": "markdown",
      "metadata": {
        "id": "OxxhFk-7l9J2"
      },
      "source": [
        "### Get input quantization parameters"
      ]
    },
    {
      "cell_type": "code",
      "execution_count": 24,
      "metadata": {
        "id": "nrH3uM8Gl_Hg"
      },
      "outputs": [],
      "source": [
        "# Get input/output layer information\n",
        "i_details = interpreter.get_input_details()[0]\n",
        "o_details = interpreter.get_output_details()[0]\n",
        "\n",
        "# Get input quantization parameters.\n",
        "i_quant = i_details[\"quantization_parameters\"]\n",
        "i_scale      = i_quant['scales'][0]\n",
        "i_zero_point = i_quant['zero_points'][0]"
      ]
    },
    {
      "attachments": {},
      "cell_type": "markdown",
      "metadata": {
        "id": "WQcFhKfumT1B"
      },
      "source": [
        "### Evaluate the accuracy of the quantized TFLite model"
      ]
    },
    {
      "cell_type": "code",
      "execution_count": 25,
      "metadata": {
        "id": "1vlIBfMHmWT-"
      },
      "outputs": [
        {
          "name": "stdout",
          "output_type": "stream",
          "text": [
            "Accuracy: 0.45454545454545453\n"
          ]
        }
      ],
      "source": [
        "test_ds0 = val_ds.unbatch()\n",
        "\n",
        "num_correct_samples = 0\n",
        "num_total_samples   = len(list(test_ds0.batch(1)))\n",
        "\n",
        "for i_value, o_value in test_ds0.batch(1):\n",
        "  i_value = (i_value / i_scale) + i_zero_point\n",
        "  i_value = tf.cast(i_value, dtype=tf.int8)\n",
        "  interpreter.set_tensor(i_details[\"index\"], i_value)\n",
        "  interpreter.invoke()\n",
        "  o_pred = interpreter.get_tensor(o_details[\"index\"])[0]\n",
        "\n",
        "  if np.argmax(o_pred) == o_value:\n",
        "    num_correct_samples += 1\n",
        "\n",
        "print(\"Accuracy:\", num_correct_samples/num_total_samples)"
      ]
    },
    {
      "attachments": {},
      "cell_type": "markdown",
      "metadata": {
        "id": "tM-ZaNUHmkBm"
      },
      "source": [
        "### Convert the TFLite model to C-byte array with xxd"
      ]
    },
    {
      "cell_type": "code",
      "execution_count": 26,
      "metadata": {
        "id": "3kAnQgmI0QK_"
      },
      "outputs": [
        {
          "name": "stdout",
          "output_type": "stream",
          "text": [
            "Reading package lists... Done\n",
            "E: Could not open lock file /var/lib/apt/lists/lock - open (13: Permission denied)\n",
            "E: Unable to lock directory /var/lib/apt/lists/\n",
            "W: Problem unlinking the file /var/cache/apt/pkgcache.bin - RemoveCaches (13: Permission denied)\n",
            "W: Problem unlinking the file /var/cache/apt/srcpkgcache.bin - RemoveCaches (13: Permission denied)\n"
          ]
        },
        {
          "ename": "",
          "evalue": "",
          "output_type": "error",
          "traceback": [
            "\u001b[1;31mThe Kernel crashed while executing code in the the current cell or a previous cell. Please review the code in the cell(s) to identify a possible cause of the failure. Click <a href='https://aka.ms/vscodeJupyterKernelCrash'>here</a> for more info. View Jupyter <a href='command:jupyter.viewOutput'>log</a> for further details."
          ]
        }
      ],
      "source": [
        "open(\"model.tflite\", \"wb\").write(tfl_model)\n",
        "!apt-get update && apt-get -qq install xxd\n",
        "!xxd -c 60 -i model.tflite > modelv50.cpp"
      ]
    },
    {
      "cell_type": "code",
      "execution_count": null,
      "metadata": {},
      "outputs": [],
      "source": []
    },
    {
      "cell_type": "code",
      "execution_count": null,
      "metadata": {},
      "outputs": [],
      "source": []
    },
    {
      "cell_type": "code",
      "execution_count": null,
      "metadata": {},
      "outputs": [],
      "source": []
    },
    {
      "cell_type": "code",
      "execution_count": null,
      "metadata": {},
      "outputs": [],
      "source": []
    }
  ],
  "metadata": {
    "accelerator": "GPU",
    "colab": {
      "collapsed_sections": [],
      "name": "chapter05.ipynb",
      "provenance": []
    },
    "kernelspec": {
      "display_name": "Python 3",
      "name": "python3"
    },
    "language_info": {
      "codemirror_mode": {
        "name": "ipython",
        "version": 3
      },
      "file_extension": ".py",
      "mimetype": "text/x-python",
      "name": "python",
      "nbconvert_exporter": "python",
      "pygments_lexer": "ipython3",
      "version": "3.10.6"
    }
  },
  "nbformat": 4,
  "nbformat_minor": 0
}
