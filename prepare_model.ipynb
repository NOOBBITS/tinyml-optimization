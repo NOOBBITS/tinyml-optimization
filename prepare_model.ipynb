{
  "cells": [
    {
      "attachments": {},
      "cell_type": "markdown",
      "metadata": {
        "id": "7xc2grXmGVo4"
      },
      "source": [
        "# Chapter 5 - Indoor Scene Classification with TFLu and the Arduino Nano"
      ]
    },
    {
      "cell_type": "code",
      "execution_count": 172,
      "metadata": {
        "id": "bAenHrKFofOR"
      },
      "outputs": [
        {
          "name": "stderr",
          "output_type": "stream",
          "text": [
            "UsageError: Line magic function `%tensorflow_version` not found.\n"
          ]
        }
      ],
      "source": [
        "%tensorflow_version 2.x"
      ]
    },
    {
      "attachments": {},
      "cell_type": "markdown",
      "metadata": {
        "id": "bCS8r9jvlfFi"
      },
      "source": [
        "### Python libraries"
      ]
    },
    {
      "cell_type": "code",
      "execution_count": 173,
      "metadata": {
        "id": "9IzYsIvDlgx_"
      },
      "outputs": [],
      "source": [
        "import numpy as np\n",
        "import pathlib\n",
        "#!export PROTOCOL_BUFFERS_PYTHON_IMPLEMENTATION=python\n",
        "import tensorflow as tf\n",
        "#import tensorflow_model_optimization as tfmot\n",
        "#import tensorflow_datasets as tfds\n",
        "import zipfile\n",
        "from tensorflow.keras.applications.mobilenet_v2 import MobileNetV2\n",
        "# from tensorflow.keras.models import Model\n",
        "import matplotlib.pyplot as plt"
      ]
    },
    {
      "attachments": {},
      "cell_type": "markdown",
      "metadata": {
        "id": "EJchRFEmnwvl"
      },
      "source": [
        "### Constants"
      ]
    },
    {
      "cell_type": "code",
      "execution_count": 187,
      "metadata": {
        "id": "6VGtgqiVFaY1"
      },
      "outputs": [],
      "source": [
        "MODEL_ALPHA = 0.35\n",
        "MODEL_INPUT_WIDTH = 60\n",
        "MODEL_INPUT_HEIGHT = 60\n",
        "TFL_MODEL_FILE = \"temp5.tflite\"\n",
        "TFL_MODEL_HEADER_FILE = \"temp6_model.h\"\n",
        "TF_MODEL = \"model60x60v4\""
      ]
    },
    {
      "attachments": {},
      "cell_type": "markdown",
      "metadata": {
        "id": "3J8L3YW_htYw"
      },
      "source": [
        "## Transfer learning with Keras"
      ]
    },
    {
      "attachments": {},
      "cell_type": "markdown",
      "metadata": {
        "id": "YSlp-mPQhwuY"
      },
      "source": [
        "### Unzip the dataset (dataset.zip) SKIP THIS STEP\n"
      ]
    },
    {
      "cell_type": "code",
      "execution_count": 175,
      "metadata": {
        "id": "Tp1VN1OZGuEn"
      },
      "outputs": [],
      "source": [
        "# with zipfile.ZipFile(\"dataset.zip\", 'r') as zip_ref:\n",
        "#   zip_ref.extractall(\".\")\n",
        "# data_dir = \"dataset\""
      ]
    },
    {
      "attachments": {},
      "cell_type": "markdown",
      "metadata": {
        "id": "HMqMhiuvGpam"
      },
      "source": [
        "### Prepare the train (80%) and validation (20%) datasets"
      ]
    },
    {
      "cell_type": "code",
      "execution_count": 176,
      "metadata": {
        "id": "jKZ4L-wsBktr"
      },
      "outputs": [
        {
          "name": "stdout",
          "output_type": "stream",
          "text": [
            "Found 115 files belonging to 3 classes.\n",
            "Found 30 files belonging to 3 classes.\n"
          ]
        }
      ],
      "source": [
        "data_dir=\"datasetv2v1hqequal\"\n",
        "train_ds = tf.keras.utils.image_dataset_from_directory(\n",
        "  \"edited_dataset_copy\",\n",
        "  validation_split=0,\n",
        "  # subset=\"training\",\n",
        "  seed=123,\n",
        "  interpolation=\"bilinear\",\n",
        "  image_size=(MODEL_INPUT_WIDTH, MODEL_INPUT_HEIGHT)\n",
        "  )\n",
        "\n",
        "valid_ds=tf.keras.utils.image_dataset_from_directory(\n",
        "  \"valid_dataset\",\n",
        "  validation_split=0,\n",
        "  # subset=\"validation\",\n",
        "  seed=123,\n",
        "  interpolation=\"bilinear\",\n",
        "  image_size=(MODEL_INPUT_WIDTH, MODEL_INPUT_HEIGHT)\n",
        "  )\n",
        "# rescale = tf.keras.layers.Rescaling(1./255, offset= -1)\n"
      ]
    },
    {
      "attachments": {},
      "cell_type": "markdown",
      "metadata": {
        "id": "mWxKsXM0iMxj"
      },
      "source": [
        "### Get the name of the classes"
      ]
    },
    {
      "cell_type": "code",
      "execution_count": 177,
      "metadata": {
        "id": "zLWkCbjYDVHJ"
      },
      "outputs": [
        {
          "name": "stdout",
          "output_type": "stream",
          "text": [
            "['paper', 'rock', 'scissors']\n"
          ]
        }
      ],
      "source": [
        "class_names = train_ds.class_names\n",
        "num_classes = len(class_names)\n",
        "print(class_names)"
      ]
    },
    {
      "attachments": {},
      "cell_type": "markdown",
      "metadata": {
        "id": "vEsZQCsUHaeb"
      },
      "source": [
        "### Rescale the pixel values from [0, 255] to [-1, 1]"
      ]
    },
    {
      "cell_type": "code",
      "execution_count": 178,
      "metadata": {
        "id": "-lFJZj50HhMV"
      },
      "outputs": [],
      "source": [
        "rescale = tf.keras.layers.Rescaling(1./127.5, offset= -1)\n",
        "train_ds = train_ds.map(lambda x, y: (rescale(x), y))\n",
        "\n",
        "valid_ds   = valid_ds.map(lambda x, y: (rescale(x), y))\n",
        "# val_ds   = val_ds.map(lambda x, y: (rescale(x), y))"
      ]
    },
    {
      "attachments": {},
      "cell_type": "markdown",
      "metadata": {
        "id": "OK0nFgtFSwsF"
      },
      "source": [
        "### Import the MobileNet v2 pre-trained model"
      ]
    },
    {
      "cell_type": "code",
      "execution_count": 179,
      "metadata": {
        "id": "DbhSn1Bl-LZ7"
      },
      "outputs": [
        {
          "name": "stdout",
          "output_type": "stream",
          "text": [
            "WARNING:tensorflow:`input_shape` is undefined or non-square, or `rows` is not in [96, 128, 160, 192, 224]. Weights for input shape (224, 224) will be loaded as the default.\n"
          ]
        },
        {
          "name": "stderr",
          "output_type": "stream",
          "text": [
            "WARNING:tensorflow:`input_shape` is undefined or non-square, or `rows` is not in [96, 128, 160, 192, 224]. Weights for input shape (224, 224) will be loaded as the default.\n"
          ]
        }
      ],
      "source": [
        "# https://github.com/keras-team/keras-applications/blob/master/keras_applications/mobilenet_v2.py\n",
        "base_model = MobileNetV2(input_shape=(MODEL_INPUT_WIDTH, MODEL_INPUT_HEIGHT, 3),\n",
        "                         include_top=False,\n",
        "                         weights='imagenet',\n",
        "                         alpha=0.35)\n",
        "base_model.trainable = False\n",
        "\n",
        "feat_extr = base_model"
      ]
    },
    {
      "attachments": {},
      "cell_type": "markdown",
      "metadata": {
        "id": "lOCL5dx-MmlD"
      },
      "source": [
        "### Augment the input data"
      ]
    },
    {
      "cell_type": "code",
      "execution_count": 180,
      "metadata": {
        "id": "7ebIppPRjUKF"
      },
      "outputs": [],
      "source": [
        "augmen = tf.keras.Sequential([\n",
        "  tf.keras.layers.experimental.preprocessing.RandomRotation(0.2),\n",
        "  tf.keras.layers.experimental.preprocessing.RandomFlip('horizontal'),\n",
        "  tf.keras.layers.experimental.preprocessing.RandomZoom(0.1, 0.1),\n",
        "  tf.keras.layers.experimental.preprocessing.RandomTranslation(0.1, 0.1)\n",
        "])\n",
        "\n",
        "train_ds = train_ds.map(lambda x, y: (augmen(x), y))\n",
        "# val_ds   = val_ds.map(lambda x, y: (augmen(x), y))"
      ]
    },
    {
      "attachments": {},
      "cell_type": "markdown",
      "metadata": {
        "id": "Qhw11eldjZoz"
      },
      "source": [
        "### Prepare the classification head"
      ]
    },
    {
      "cell_type": "code",
      "execution_count": 181,
      "metadata": {
        "id": "gC5CVjRNMn7q"
      },
      "outputs": [],
      "source": [
        "global_avg_layer = tf.keras.layers.GlobalAveragePooling2D()\n",
        "dense_layer = tf.keras.layers.Dense(num_classes, activation='softmax')"
      ]
    },
    {
      "attachments": {},
      "cell_type": "markdown",
      "metadata": {
        "id": "IZYMkd0yM5tb"
      },
      "source": [
        "### Build the model architecture"
      ]
    },
    {
      "cell_type": "code",
      "execution_count": 182,
      "metadata": {
        "id": "r-DTz_x5M7bg"
      },
      "outputs": [],
      "source": [
        "inputs = tf.keras.Input(shape=(MODEL_INPUT_WIDTH, MODEL_INPUT_HEIGHT, 3))\n",
        "x = global_avg_layer(feat_extr.layers[-1].output)\n",
        "x = tf.keras.layers.Dropout(0.3)(x)\n",
        "outputs = dense_layer(x)\n",
        "model = tf.keras.Model(inputs=feat_extr.inputs, outputs=outputs)"
      ]
    },
    {
      "attachments": {},
      "cell_type": "markdown",
      "metadata": {
        "id": "X4AoQHO1j1a3"
      },
      "source": [
        "### Compile the model with a 0.0005 learning rate"
      ]
    },
    {
      "cell_type": "code",
      "execution_count": 183,
      "metadata": {
        "id": "ZHPUqQNijqE5"
      },
      "outputs": [],
      "source": [
        "lr = 0.0005\n",
        "# initial_learning_rate = 1e-3\n",
        "# lr_schedule = tf.keras.optimizers.schedules.ExponentialDecay(\n",
        "#     initial_learning_rate,\n",
        "#     decay_steps=200,\n",
        "#     decay_rate=0.96,\n",
        "#     staircase=True)\n",
        "model.compile(\n",
        "  optimizer=tf.keras.optimizers.Adam(learning_rate=lr),\n",
        "  loss=tf.losses.SparseCategoricalCrossentropy(from_logits=False),\n",
        "  metrics=['accuracy'])"
      ]
    },
    {
      "attachments": {},
      "cell_type": "markdown",
      "metadata": {
        "id": "x4M-8ftzj89-"
      },
      "source": [
        "### Model summary"
      ]
    },
    {
      "cell_type": "code",
      "execution_count": 139,
      "metadata": {
        "id": "WFXJSd6fj415"
      },
      "outputs": [],
      "source": [
        "# model.summary()"
      ]
    },
    {
      "attachments": {},
      "cell_type": "markdown",
      "metadata": {
        "id": "25W5CUAVj_I9"
      },
      "source": [
        "### Train the model with 10 epochs"
      ]
    },
    {
      "cell_type": "code",
      "execution_count": 140,
      "metadata": {},
      "outputs": [],
      "source": [
        "#model=tfmot.quantization.keras.quantizer_model(model)"
      ]
    },
    {
      "cell_type": "code",
      "execution_count": 184,
      "metadata": {
        "id": "na0GBGTQkavr"
      },
      "outputs": [
        {
          "name": "stderr",
          "output_type": "stream",
          "text": [
            "2023-07-10 22:24:22.201584: I tensorflow/core/common_runtime/executor.cc:1197] [/device:CPU:0] (DEBUG INFO) Executor start aborting (this does not indicate an error and you can ignore this message): INVALID_ARGUMENT: You must feed a value for placeholder tensor 'Placeholder/_20' with dtype resource\n",
            "\t [[{{node Placeholder/_20}}]]\n",
            "2023-07-10 22:24:22.205804: I tensorflow/core/common_runtime/executor.cc:1197] [/device:CPU:0] (DEBUG INFO) Executor start aborting (this does not indicate an error and you can ignore this message): INVALID_ARGUMENT: You must feed a value for placeholder tensor 'Placeholder/_4' with dtype int32 and shape [115]\n",
            "\t [[{{node Placeholder/_4}}]]\n"
          ]
        },
        {
          "name": "stdout",
          "output_type": "stream",
          "text": [
            "Epoch 1/100\n",
            "3/4 [=====================>........] - ETA: 0s - loss: 1.7259 - accuracy: 0.3229"
          ]
        },
        {
          "name": "stderr",
          "output_type": "stream",
          "text": [
            "2023-07-10 22:24:28.453313: I tensorflow/core/common_runtime/executor.cc:1197] [/device:CPU:0] (DEBUG INFO) Executor start aborting (this does not indicate an error and you can ignore this message): INVALID_ARGUMENT: You must feed a value for placeholder tensor 'Placeholder/_4' with dtype int32 and shape [30]\n",
            "\t [[{{node Placeholder/_4}}]]\n",
            "2023-07-10 22:24:28.453925: I tensorflow/core/common_runtime/executor.cc:1197] [/device:CPU:0] (DEBUG INFO) Executor start aborting (this does not indicate an error and you can ignore this message): INVALID_ARGUMENT: You must feed a value for placeholder tensor 'Placeholder/_4' with dtype int32 and shape [30]\n",
            "\t [[{{node Placeholder/_4}}]]\n"
          ]
        },
        {
          "name": "stdout",
          "output_type": "stream",
          "text": [
            "4/4 [==============================] - 6s 532ms/step - loss: 1.6889 - accuracy: 0.2957 - val_loss: 1.3415 - val_accuracy: 0.4000\n",
            "Epoch 2/100\n",
            "4/4 [==============================] - 0s 93ms/step - loss: 1.6221 - accuracy: 0.2696 - val_loss: 1.2689 - val_accuracy: 0.4667\n",
            "Epoch 3/100\n",
            "4/4 [==============================] - 0s 93ms/step - loss: 1.4545 - accuracy: 0.3478 - val_loss: 1.2099 - val_accuracy: 0.4667\n",
            "Epoch 4/100\n",
            "4/4 [==============================] - 0s 99ms/step - loss: 1.4760 - accuracy: 0.3217 - val_loss: 1.1722 - val_accuracy: 0.5000\n",
            "Epoch 5/100\n",
            "4/4 [==============================] - 0s 84ms/step - loss: 1.3007 - accuracy: 0.4348 - val_loss: 1.1019 - val_accuracy: 0.5000\n",
            "Epoch 6/100\n",
            "4/4 [==============================] - 0s 95ms/step - loss: 1.1953 - accuracy: 0.4522 - val_loss: 1.0375 - val_accuracy: 0.6000\n",
            "Epoch 7/100\n",
            "4/4 [==============================] - 0s 96ms/step - loss: 1.1907 - accuracy: 0.4522 - val_loss: 0.9774 - val_accuracy: 0.5333\n",
            "Epoch 8/100\n",
            "4/4 [==============================] - 0s 84ms/step - loss: 1.1309 - accuracy: 0.4348 - val_loss: 0.9326 - val_accuracy: 0.6000\n",
            "Epoch 9/100\n",
            "4/4 [==============================] - 0s 90ms/step - loss: 1.2484 - accuracy: 0.4348 - val_loss: 0.9060 - val_accuracy: 0.6000\n",
            "Epoch 10/100\n",
            "4/4 [==============================] - 0s 88ms/step - loss: 1.1751 - accuracy: 0.4522 - val_loss: 0.8906 - val_accuracy: 0.6000\n",
            "Epoch 11/100\n",
            "4/4 [==============================] - 0s 110ms/step - loss: 1.1711 - accuracy: 0.4609 - val_loss: 0.8791 - val_accuracy: 0.5667\n",
            "Epoch 12/100\n",
            "4/4 [==============================] - 0s 108ms/step - loss: 1.0054 - accuracy: 0.4870 - val_loss: 0.8677 - val_accuracy: 0.5667\n",
            "Epoch 13/100\n",
            "4/4 [==============================] - 0s 107ms/step - loss: 1.0281 - accuracy: 0.5391 - val_loss: 0.8551 - val_accuracy: 0.6000\n",
            "Epoch 14/100\n",
            "4/4 [==============================] - 0s 95ms/step - loss: 0.9420 - accuracy: 0.5739 - val_loss: 0.8431 - val_accuracy: 0.6667\n",
            "Epoch 15/100\n",
            "4/4 [==============================] - 0s 111ms/step - loss: 0.9393 - accuracy: 0.5565 - val_loss: 0.8307 - val_accuracy: 0.6667\n",
            "Epoch 16/100\n",
            "4/4 [==============================] - 1s 117ms/step - loss: 1.0328 - accuracy: 0.5565 - val_loss: 0.8170 - val_accuracy: 0.7000\n",
            "Epoch 17/100\n",
            "4/4 [==============================] - 1s 134ms/step - loss: 0.8996 - accuracy: 0.5913 - val_loss: 0.7989 - val_accuracy: 0.6667\n",
            "Epoch 18/100\n",
            "4/4 [==============================] - 1s 155ms/step - loss: 0.9742 - accuracy: 0.5565 - val_loss: 0.7883 - val_accuracy: 0.6667\n",
            "Epoch 19/100\n",
            "4/4 [==============================] - 0s 96ms/step - loss: 0.9258 - accuracy: 0.6696 - val_loss: 0.7869 - val_accuracy: 0.6667\n",
            "Epoch 20/100\n",
            "4/4 [==============================] - 0s 89ms/step - loss: 0.9232 - accuracy: 0.5565 - val_loss: 0.7847 - val_accuracy: 0.6667\n",
            "Epoch 21/100\n",
            "4/4 [==============================] - 1s 194ms/step - loss: 0.8261 - accuracy: 0.6087 - val_loss: 0.7815 - val_accuracy: 0.7000\n",
            "Epoch 22/100\n",
            "4/4 [==============================] - 1s 112ms/step - loss: 0.8070 - accuracy: 0.6000 - val_loss: 0.7740 - val_accuracy: 0.7000\n",
            "Epoch 23/100\n",
            "4/4 [==============================] - 1s 134ms/step - loss: 0.7951 - accuracy: 0.6783 - val_loss: 0.7667 - val_accuracy: 0.7000\n",
            "Epoch 24/100\n",
            "4/4 [==============================] - 1s 117ms/step - loss: 0.8438 - accuracy: 0.6174 - val_loss: 0.7622 - val_accuracy: 0.7000\n",
            "Epoch 25/100\n",
            "4/4 [==============================] - 0s 100ms/step - loss: 0.8264 - accuracy: 0.6522 - val_loss: 0.7516 - val_accuracy: 0.7000\n",
            "Epoch 26/100\n",
            "4/4 [==============================] - 0s 85ms/step - loss: 0.8049 - accuracy: 0.6435 - val_loss: 0.7481 - val_accuracy: 0.7000\n",
            "Epoch 27/100\n",
            "4/4 [==============================] - 0s 90ms/step - loss: 0.7751 - accuracy: 0.6522 - val_loss: 0.7539 - val_accuracy: 0.7333\n",
            "Epoch 28/100\n",
            "4/4 [==============================] - 1s 217ms/step - loss: 0.7731 - accuracy: 0.6609 - val_loss: 0.7582 - val_accuracy: 0.7000\n",
            "Epoch 29/100\n",
            "4/4 [==============================] - 0s 90ms/step - loss: 0.7698 - accuracy: 0.6609 - val_loss: 0.7600 - val_accuracy: 0.7000\n",
            "Epoch 30/100\n",
            "4/4 [==============================] - 0s 91ms/step - loss: 0.7995 - accuracy: 0.6261 - val_loss: 0.7560 - val_accuracy: 0.7333\n",
            "Epoch 31/100\n",
            "4/4 [==============================] - 1s 171ms/step - loss: 0.8131 - accuracy: 0.6435 - val_loss: 0.7478 - val_accuracy: 0.7333\n",
            "Epoch 32/100\n",
            "4/4 [==============================] - 0s 92ms/step - loss: 0.7754 - accuracy: 0.6435 - val_loss: 0.7395 - val_accuracy: 0.7333\n",
            "Epoch 33/100\n",
            "4/4 [==============================] - 1s 185ms/step - loss: 0.6529 - accuracy: 0.7130 - val_loss: 0.7367 - val_accuracy: 0.7000\n",
            "Epoch 34/100\n",
            "4/4 [==============================] - 0s 86ms/step - loss: 0.7003 - accuracy: 0.7304 - val_loss: 0.7372 - val_accuracy: 0.7000\n",
            "Epoch 35/100\n",
            "4/4 [==============================] - 0s 88ms/step - loss: 0.6847 - accuracy: 0.7478 - val_loss: 0.7403 - val_accuracy: 0.7000\n",
            "Epoch 36/100\n",
            "4/4 [==============================] - 0s 87ms/step - loss: 0.7024 - accuracy: 0.6522 - val_loss: 0.7430 - val_accuracy: 0.7000\n",
            "Epoch 37/100\n",
            "4/4 [==============================] - 0s 87ms/step - loss: 0.6763 - accuracy: 0.7304 - val_loss: 0.7485 - val_accuracy: 0.6667\n",
            "Epoch 38/100\n",
            "4/4 [==============================] - 0s 97ms/step - loss: 0.7890 - accuracy: 0.6522 - val_loss: 0.7539 - val_accuracy: 0.6667\n",
            "Epoch 39/100\n",
            "4/4 [==============================] - 0s 94ms/step - loss: 0.6345 - accuracy: 0.7217 - val_loss: 0.7514 - val_accuracy: 0.6667\n",
            "Epoch 40/100\n",
            "4/4 [==============================] - 0s 87ms/step - loss: 0.6775 - accuracy: 0.7304 - val_loss: 0.7483 - val_accuracy: 0.7000\n",
            "Epoch 41/100\n",
            "4/4 [==============================] - 0s 89ms/step - loss: 0.7366 - accuracy: 0.7043 - val_loss: 0.7417 - val_accuracy: 0.7000\n",
            "Epoch 42/100\n",
            "4/4 [==============================] - 0s 90ms/step - loss: 0.6417 - accuracy: 0.7304 - val_loss: 0.7405 - val_accuracy: 0.7333\n",
            "Epoch 43/100\n",
            "4/4 [==============================] - 0s 88ms/step - loss: 0.7340 - accuracy: 0.6957 - val_loss: 0.7437 - val_accuracy: 0.7333\n",
            "Epoch 44/100\n",
            "4/4 [==============================] - 0s 86ms/step - loss: 0.7355 - accuracy: 0.7043 - val_loss: 0.7403 - val_accuracy: 0.7333\n",
            "Epoch 45/100\n",
            "4/4 [==============================] - 0s 87ms/step - loss: 0.7369 - accuracy: 0.6522 - val_loss: 0.7345 - val_accuracy: 0.7333\n",
            "Epoch 46/100\n",
            "4/4 [==============================] - 0s 92ms/step - loss: 0.6725 - accuracy: 0.7391 - val_loss: 0.7287 - val_accuracy: 0.7000\n",
            "Epoch 47/100\n",
            "4/4 [==============================] - 0s 91ms/step - loss: 0.6583 - accuracy: 0.7478 - val_loss: 0.7228 - val_accuracy: 0.7667\n",
            "Epoch 48/100\n",
            "4/4 [==============================] - 0s 86ms/step - loss: 0.6846 - accuracy: 0.7130 - val_loss: 0.7177 - val_accuracy: 0.7667\n",
            "Epoch 49/100\n",
            "4/4 [==============================] - 0s 95ms/step - loss: 0.6365 - accuracy: 0.7391 - val_loss: 0.7128 - val_accuracy: 0.7667\n",
            "Epoch 50/100\n",
            "4/4 [==============================] - 0s 95ms/step - loss: 0.6709 - accuracy: 0.7217 - val_loss: 0.7194 - val_accuracy: 0.7333\n",
            "Epoch 51/100\n",
            "4/4 [==============================] - 0s 96ms/step - loss: 0.5977 - accuracy: 0.7478 - val_loss: 0.7331 - val_accuracy: 0.7000\n",
            "Epoch 52/100\n",
            "4/4 [==============================] - 0s 89ms/step - loss: 0.6969 - accuracy: 0.6957 - val_loss: 0.7448 - val_accuracy: 0.7000\n",
            "Epoch 53/100\n",
            "4/4 [==============================] - 1s 115ms/step - loss: 0.6819 - accuracy: 0.7304 - val_loss: 0.7507 - val_accuracy: 0.7000\n",
            "Epoch 54/100\n",
            "4/4 [==============================] - 0s 92ms/step - loss: 0.5868 - accuracy: 0.7565 - val_loss: 0.7554 - val_accuracy: 0.7000\n",
            "Epoch 55/100\n",
            "4/4 [==============================] - 0s 123ms/step - loss: 0.5169 - accuracy: 0.8261 - val_loss: 0.7613 - val_accuracy: 0.7000\n",
            "Epoch 56/100\n",
            "4/4 [==============================] - 0s 90ms/step - loss: 0.6636 - accuracy: 0.7130 - val_loss: 0.7551 - val_accuracy: 0.7000\n",
            "Epoch 57/100\n",
            "4/4 [==============================] - 0s 90ms/step - loss: 0.6265 - accuracy: 0.7043 - val_loss: 0.7357 - val_accuracy: 0.7000\n",
            "Epoch 58/100\n",
            "4/4 [==============================] - 0s 93ms/step - loss: 0.6250 - accuracy: 0.7391 - val_loss: 0.7205 - val_accuracy: 0.7000\n",
            "Epoch 59/100\n",
            "4/4 [==============================] - 0s 95ms/step - loss: 0.6625 - accuracy: 0.7130 - val_loss: 0.7247 - val_accuracy: 0.7000\n",
            "Epoch 60/100\n",
            "4/4 [==============================] - 0s 92ms/step - loss: 0.5869 - accuracy: 0.7565 - val_loss: 0.7373 - val_accuracy: 0.7000\n",
            "Epoch 61/100\n",
            "4/4 [==============================] - 0s 92ms/step - loss: 0.6775 - accuracy: 0.7130 - val_loss: 0.7464 - val_accuracy: 0.7000\n",
            "Epoch 62/100\n",
            "4/4 [==============================] - 0s 83ms/step - loss: 0.6569 - accuracy: 0.7217 - val_loss: 0.7510 - val_accuracy: 0.7000\n",
            "Epoch 63/100\n",
            "4/4 [==============================] - 0s 91ms/step - loss: 0.6354 - accuracy: 0.7391 - val_loss: 0.7357 - val_accuracy: 0.7000\n",
            "Epoch 64/100\n",
            "4/4 [==============================] - 0s 86ms/step - loss: 0.6662 - accuracy: 0.7478 - val_loss: 0.7289 - val_accuracy: 0.7000\n",
            "Epoch 65/100\n",
            "4/4 [==============================] - 1s 135ms/step - loss: 0.5990 - accuracy: 0.7304 - val_loss: 0.7161 - val_accuracy: 0.7000\n",
            "Epoch 66/100\n",
            "4/4 [==============================] - 1s 159ms/step - loss: 0.6052 - accuracy: 0.7478 - val_loss: 0.7125 - val_accuracy: 0.7000\n",
            "Epoch 67/100\n",
            "4/4 [==============================] - 0s 90ms/step - loss: 0.6227 - accuracy: 0.7565 - val_loss: 0.7228 - val_accuracy: 0.7000\n",
            "Epoch 68/100\n",
            "4/4 [==============================] - 1s 155ms/step - loss: 0.4782 - accuracy: 0.7913 - val_loss: 0.7432 - val_accuracy: 0.7000\n",
            "Epoch 69/100\n",
            "4/4 [==============================] - 0s 87ms/step - loss: 0.7072 - accuracy: 0.7304 - val_loss: 0.7605 - val_accuracy: 0.7000\n",
            "Epoch 70/100\n",
            "4/4 [==============================] - 1s 130ms/step - loss: 0.6712 - accuracy: 0.7391 - val_loss: 0.7648 - val_accuracy: 0.7000\n",
            "Epoch 71/100\n",
            "4/4 [==============================] - 1s 91ms/step - loss: 0.6301 - accuracy: 0.7565 - val_loss: 0.7751 - val_accuracy: 0.7000\n",
            "Epoch 72/100\n",
            "4/4 [==============================] - 0s 89ms/step - loss: 0.5645 - accuracy: 0.8087 - val_loss: 0.7721 - val_accuracy: 0.7000\n",
            "Epoch 73/100\n",
            "4/4 [==============================] - 0s 100ms/step - loss: 0.6259 - accuracy: 0.7217 - val_loss: 0.7695 - val_accuracy: 0.7000\n",
            "Epoch 74/100\n",
            "4/4 [==============================] - 0s 87ms/step - loss: 0.6690 - accuracy: 0.7130 - val_loss: 0.7784 - val_accuracy: 0.6667\n",
            "Epoch 75/100\n",
            "4/4 [==============================] - 0s 91ms/step - loss: 0.6292 - accuracy: 0.7391 - val_loss: 0.7818 - val_accuracy: 0.6667\n",
            "Epoch 76/100\n",
            "4/4 [==============================] - 0s 87ms/step - loss: 0.5090 - accuracy: 0.7739 - val_loss: 0.7791 - val_accuracy: 0.6667\n",
            "Epoch 77/100\n",
            "4/4 [==============================] - 0s 91ms/step - loss: 0.6020 - accuracy: 0.7478 - val_loss: 0.7824 - val_accuracy: 0.6667\n",
            "Epoch 78/100\n",
            "4/4 [==============================] - 0s 95ms/step - loss: 0.5528 - accuracy: 0.7565 - val_loss: 0.7859 - val_accuracy: 0.7000\n",
            "Epoch 79/100\n",
            "4/4 [==============================] - 0s 89ms/step - loss: 0.5805 - accuracy: 0.7826 - val_loss: 0.7875 - val_accuracy: 0.7000\n",
            "Epoch 80/100\n",
            "4/4 [==============================] - 1s 91ms/step - loss: 0.5703 - accuracy: 0.8087 - val_loss: 0.7836 - val_accuracy: 0.7000\n",
            "Epoch 81/100\n",
            "4/4 [==============================] - 0s 89ms/step - loss: 0.4915 - accuracy: 0.8000 - val_loss: 0.7850 - val_accuracy: 0.7000\n",
            "Epoch 82/100\n",
            "4/4 [==============================] - 0s 84ms/step - loss: 0.6268 - accuracy: 0.7826 - val_loss: 0.7912 - val_accuracy: 0.6667\n",
            "Epoch 83/100\n",
            "4/4 [==============================] - 0s 84ms/step - loss: 0.6136 - accuracy: 0.7565 - val_loss: 0.7948 - val_accuracy: 0.6667\n",
            "Epoch 84/100\n",
            "4/4 [==============================] - 0s 93ms/step - loss: 0.6399 - accuracy: 0.7478 - val_loss: 0.7978 - val_accuracy: 0.6667\n",
            "Epoch 85/100\n",
            "4/4 [==============================] - 0s 87ms/step - loss: 0.4868 - accuracy: 0.8000 - val_loss: 0.7962 - val_accuracy: 0.6667\n",
            "Epoch 86/100\n",
            "4/4 [==============================] - 0s 93ms/step - loss: 0.4864 - accuracy: 0.7826 - val_loss: 0.7796 - val_accuracy: 0.6667\n",
            "Epoch 87/100\n",
            "4/4 [==============================] - 0s 96ms/step - loss: 0.4299 - accuracy: 0.8783 - val_loss: 0.7638 - val_accuracy: 0.7000\n",
            "Epoch 88/100\n",
            "4/4 [==============================] - 0s 86ms/step - loss: 0.5540 - accuracy: 0.8348 - val_loss: 0.7558 - val_accuracy: 0.7000\n",
            "Epoch 89/100\n",
            "4/4 [==============================] - 0s 86ms/step - loss: 0.5121 - accuracy: 0.7826 - val_loss: 0.7711 - val_accuracy: 0.7000\n",
            "Epoch 90/100\n",
            "4/4 [==============================] - 0s 86ms/step - loss: 0.5670 - accuracy: 0.8087 - val_loss: 0.7767 - val_accuracy: 0.7000\n",
            "Epoch 91/100\n",
            "4/4 [==============================] - 0s 88ms/step - loss: 0.5753 - accuracy: 0.7391 - val_loss: 0.7773 - val_accuracy: 0.7000\n",
            "Epoch 92/100\n",
            "4/4 [==============================] - 0s 85ms/step - loss: 0.5809 - accuracy: 0.8174 - val_loss: 0.7879 - val_accuracy: 0.7000\n",
            "Epoch 93/100\n",
            "4/4 [==============================] - 0s 89ms/step - loss: 0.5314 - accuracy: 0.7913 - val_loss: 0.8026 - val_accuracy: 0.7000\n",
            "Epoch 94/100\n",
            "4/4 [==============================] - 0s 85ms/step - loss: 0.5289 - accuracy: 0.7391 - val_loss: 0.8141 - val_accuracy: 0.7000\n",
            "Epoch 95/100\n",
            "4/4 [==============================] - 0s 94ms/step - loss: 0.4445 - accuracy: 0.8174 - val_loss: 0.8124 - val_accuracy: 0.7000\n",
            "Epoch 96/100\n",
            "4/4 [==============================] - 0s 86ms/step - loss: 0.6564 - accuracy: 0.7478 - val_loss: 0.8082 - val_accuracy: 0.7000\n",
            "Epoch 97/100\n",
            "4/4 [==============================] - 0s 96ms/step - loss: 0.5609 - accuracy: 0.7652 - val_loss: 0.7985 - val_accuracy: 0.7000\n",
            "Epoch 98/100\n",
            "4/4 [==============================] - 0s 90ms/step - loss: 0.4568 - accuracy: 0.8087 - val_loss: 0.7930 - val_accuracy: 0.7000\n",
            "Epoch 99/100\n",
            "4/4 [==============================] - 0s 93ms/step - loss: 0.5995 - accuracy: 0.7652 - val_loss: 0.8038 - val_accuracy: 0.7000\n",
            "Epoch 100/100\n",
            "4/4 [==============================] - 0s 90ms/step - loss: 0.4771 - accuracy: 0.8000 - val_loss: 0.8057 - val_accuracy: 0.7000\n"
          ]
        }
      ],
      "source": [
        "history=model.fit(\n",
        "  train_ds,\n",
        "  validation_data=valid_ds,\n",
        "  epochs=100\n",
        ")"
      ]
    },
    {
      "cell_type": "code",
      "execution_count": 185,
      "metadata": {},
      "outputs": [
        {
          "data": {
            "image/png": "[encoded data removed]",
            "text/plain": [
              "<Figure size 640x480 with 1 Axes>"
            ]
          },
          "metadata": {},
          "output_type": "display_data"
        }
      ],
      "source": [
        "plt.plot(history.history['accuracy'])\n",
        "plt.plot(history.history['val_accuracy'])\n",
        "plt.title('model accuracy')\n",
        "plt.ylabel('accuracy')\n",
        "plt.xlabel('epoch')\n",
        "plt.legend(['train', 'val'], loc='upper left')\n",
        "plt.show()"
      ]
    },
    {
      "cell_type": "code",
      "execution_count": 186,
      "metadata": {},
      "outputs": [
        {
          "data": {
            "image/png": "[encoded data removed]",
            "text/plain": [
              "<Figure size 640x480 with 1 Axes>"
            ]
          },
          "metadata": {},
          "output_type": "display_data"
        }
      ],
      "source": [
        "plt.plot(history.history['loss'])\n",
        "plt.plot(history.history['val_loss'])\n",
        "plt.title('model loss')\n",
        "plt.ylabel('loss')\n",
        "plt.xlabel('epoch')\n",
        "plt.legend(['train', 'val'], loc='upper left')\n",
        "plt.show()"
      ]
    },
    {
      "attachments": {},
      "cell_type": "markdown",
      "metadata": {
        "id": "U0tsAdGikFa_"
      },
      "source": [
        "### Save the TensorFlow model"
      ]
    },
    {
      "cell_type": "code",
      "execution_count": 188,
      "metadata": {
        "id": "rOUI3vtLtYKh"
      },
      "outputs": [
        {
          "name": "stderr",
          "output_type": "stream",
          "text": [
            "2023-07-10 22:27:25.527861: I tensorflow/core/common_runtime/executor.cc:1197] [/device:CPU:0] (DEBUG INFO) Executor start aborting (this does not indicate an error and you can ignore this message): INVALID_ARGUMENT: You must feed a value for placeholder tensor 'inputs' with dtype float and shape [?,1280]\n",
            "\t [[{{node inputs}}]]\n",
            "2023-07-10 22:27:35.311805: I tensorflow/core/common_runtime/executor.cc:1197] [/device:CPU:0] (DEBUG INFO) Executor start aborting (this does not indicate an error and you can ignore this message): INVALID_ARGUMENT: You must feed a value for placeholder tensor 'inputs' with dtype float and shape [?,1280]\n",
            "\t [[{{node inputs}}]]\n",
            "WARNING:absl:Found untraced functions such as _jit_compiled_convolution_op, _jit_compiled_convolution_op, _jit_compiled_convolution_op, _jit_compiled_convolution_op, _jit_compiled_convolution_op while saving (showing 5 of 53). These functions will not be directly callable after loading.\n"
          ]
        },
        {
          "name": "stdout",
          "output_type": "stream",
          "text": [
            "INFO:tensorflow:Assets written to: model60x60v4/assets\n"
          ]
        },
        {
          "name": "stderr",
          "output_type": "stream",
          "text": [
            "INFO:tensorflow:Assets written to: model60x60v4/assets\n"
          ]
        }
      ],
      "source": [
        "model.save(TF_MODEL)"
      ]
    },
    {
      "cell_type": "code",
      "execution_count": 189,
      "metadata": {},
      "outputs": [],
      "source": [
        "model=tf.keras.models.load_model(\"model60x60v4\")"
      ]
    },
    {
      "cell_type": "code",
      "execution_count": 190,
      "metadata": {},
      "outputs": [
        {
          "name": "stdout",
          "output_type": "stream",
          "text": [
            "WARNING:tensorflow:5 out of the last 5 calls to <function Model.make_predict_function.<locals>.predict_function at 0x1635ab420> triggered tf.function retracing. Tracing is expensive and the excessive number of tracings could be due to (1) creating @tf.function repeatedly in a loop, (2) passing tensors with different shapes, (3) passing Python objects instead of tensors. For (1), please define your @tf.function outside of the loop. For (2), @tf.function has reduce_retracing=True option that can avoid unnecessary retracing. For (3), please refer to https://www.tensorflow.org/guide/function#controlling_retracing and https://www.tensorflow.org/api_docs/python/tf/function for  more details.\n"
          ]
        },
        {
          "name": "stderr",
          "output_type": "stream",
          "text": [
            "WARNING:tensorflow:5 out of the last 5 calls to <function Model.make_predict_function.<locals>.predict_function at 0x1635ab420> triggered tf.function retracing. Tracing is expensive and the excessive number of tracings could be due to (1) creating @tf.function repeatedly in a loop, (2) passing tensors with different shapes, (3) passing Python objects instead of tensors. For (1), please define your @tf.function outside of the loop. For (2), @tf.function has reduce_retracing=True option that can avoid unnecessary retracing. For (3), please refer to https://www.tensorflow.org/guide/function#controlling_retracing and https://www.tensorflow.org/api_docs/python/tf/function for  more details.\n"
          ]
        },
        {
          "name": "stdout",
          "output_type": "stream",
          "text": [
            "1/1 [==============================] - 1s 1s/step\n",
            "Accuracy: \n",
            "0.7\n"
          ]
        },
        {
          "data": {
            "text/plain": [
              "<tf.Tensor: shape=(3, 3), dtype=int32, numpy=\n",
              "array([[9, 0, 1],\n",
              "       [1, 5, 4],\n",
              "       [2, 1, 7]], dtype=int32)>"
            ]
          },
          "execution_count": 190,
          "metadata": {},
          "output_type": "execute_result"
        }
      ],
      "source": [
        "import os\n",
        "import cv2\n",
        "# real_labels=np.concatenate([y for x, y in val_ds], axis=0)\n",
        "# Folder path containing the images\n",
        "folder_path = \"edited_dataset\"  # Replace with the path to your folder\n",
        "real_labels=[]\n",
        "predicted_labels=[]\n",
        "\n",
        "\n",
        "# Iterate over the images in the folder\n",
        "for image, real_label in valid_ds:\n",
        "    # if filename.endswith(\".png\"):  # Adjust the file extension if needed\n",
        "        # Load and preprocess the image\n",
        "        # image_path = os.path.join(folder_path, filename)\n",
        "        # image = cv2.imread(image_path)\n",
        "        # image = cv2.cvtColor(image, cv2.COLOR_BGR2RGB)  # Convert BGR to RGB\n",
        "        # image = cv2.resize(image, (MODEL_INPUT_WIDTH, MODEL_INPUT_HEIGHT))\n",
        "        # image = image / 255.0  # Normalize the image\n",
        "        # image = np.expand_dims(image, axis=0)  # Add a batch dimension\n",
        "        real_labels.append(real_label)\n",
        "        # Make predictions\n",
        "        predicted_label = np.argmax(model.predict(image), axis=1)\n",
        "        # print(predicted_label)\n",
        "        # predicted_label = class_names[np.argmax(predictions)]\n",
        "        predicted_labels=(predicted_label)\n",
        "        # Display the image and predicted label\n",
        "        # plt.imshow(image[0])\n",
        "        # plt.title(f\"Predicted label: {predicted_label}\")\n",
        "        # plt.axis(\"off\")\n",
        "        # plt.show()\n",
        "sum=0\n",
        "for i in range(len(np.array(real_labels)[0])):\n",
        "        if np.array(real_labels)[0][i]==predicted_labels[i]:\n",
        "                sum+=1\n",
        "\n",
        "print(\"Accuracy: \")\n",
        "print(sum/len(predicted_labels))\n",
        "# print(np.array(real_labels))\n",
        "# print(predicted_labels)\n",
        "tf.math.confusion_matrix(np.array(real_labels)[0], predicted_labels, 3)"
      ]
    },
    {
      "attachments": {},
      "cell_type": "markdown",
      "metadata": {
        "id": "KntdZZ5ruM7Z"
      },
      "source": [
        "## Preparing and testing the quantized TFLite model"
      ]
    },
    {
      "attachments": {},
      "cell_type": "markdown",
      "metadata": {
        "id": "srHkdaf_kk97"
      },
      "source": [
        "### Unzip the test dataset (test_samples.zip)"
      ]
    },
    {
      "cell_type": "code",
      "execution_count": 119,
      "metadata": {
        "id": "ZxnVbqxkkspY"
      },
      "outputs": [],
      "source": [
        "# with zipfile.ZipFile(\"test_samples.zip\", 'r') as zip_ref:\n",
        "#     zip_ref.extractall(\".\")\n",
        "# test_dir = \"dataset\""
      ]
    },
    {
      "attachments": {},
      "cell_type": "markdown",
      "metadata": {
        "id": "jzTiU6qQk_Bv"
      },
      "source": [
        "### Rescale the pixel values from [0, 255] to [-1, 1]"
      ]
    },
    {
      "cell_type": "code",
      "execution_count": 191,
      "metadata": {
        "id": "vYHpua21lGXp"
      },
      "outputs": [
        {
          "name": "stdout",
          "output_type": "stream",
          "text": [
            "Found 115 files belonging to 3 classes.\n"
          ]
        }
      ],
      "source": [
        "test_dir=\"edited_dataset_copy\"\n",
        "test_ds = tf.keras.utils.image_dataset_from_directory(test_dir,\n",
        "                                                      interpolation=\"bilinear\",\n",
        "                                                      image_size=(MODEL_INPUT_WIDTH, MODEL_INPUT_HEIGHT))\n",
        "test_ds  = test_ds.map(lambda x, y: (rescale(x), y))"
      ]
    },
    {
      "attachments": {},
      "cell_type": "markdown",
      "metadata": {
        "id": "riqPFiWllkdg"
      },
      "source": [
        "### Quantize the TensorFlow model with the TFLite converter"
      ]
    },
    {
      "cell_type": "code",
      "execution_count": 192,
      "metadata": {
        "id": "ALWbwZKBuNl8"
      },
      "outputs": [
        {
          "name": "stderr",
          "output_type": "stream",
          "text": [
            "2023-07-10 22:29:36.302386: W tensorflow/compiler/mlir/lite/python/tf_tfl_flatbuffer_helpers.cc:364] Ignored output_format.\n",
            "2023-07-10 22:29:36.302935: W tensorflow/compiler/mlir/lite/python/tf_tfl_flatbuffer_helpers.cc:367] Ignored drop_control_dependency.\n",
            "2023-07-10 22:29:36.305042: I tensorflow/cc/saved_model/reader.cc:45] Reading SavedModel from: model60x60v4\n",
            "2023-07-10 22:29:36.358940: I tensorflow/cc/saved_model/reader.cc:89] Reading meta graph with tags { serve }\n",
            "2023-07-10 22:29:36.358968: I tensorflow/cc/saved_model/reader.cc:130] Reading SavedModel debug info (if present) from: model60x60v4\n",
            "2023-07-10 22:29:36.741506: I tensorflow/cc/saved_model/loader.cc:231] Restoring SavedModel bundle.\n",
            "2023-07-10 22:29:37.735654: I tensorflow/cc/saved_model/loader.cc:215] Running initialization op on SavedModel bundle at path: model60x60v4\n",
            "2023-07-10 22:29:38.013003: I tensorflow/cc/saved_model/loader.cc:314] SavedModel load for tags { serve }; Status: success: OK. Took 1707971 microseconds.\n",
            "2023-07-10 22:29:39.727145: I tensorflow/core/common_runtime/executor.cc:1197] [/device:CPU:0] (DEBUG INFO) Executor start aborting (this does not indicate an error and you can ignore this message): INVALID_ARGUMENT: You must feed a value for placeholder tensor 'Placeholder/_0' with dtype string and shape [115]\n",
            "\t [[{{node Placeholder/_0}}]]\n",
            "2023-07-10 22:29:39.727746: I tensorflow/core/common_runtime/executor.cc:1197] [/device:CPU:0] (DEBUG INFO) Executor start aborting (this does not indicate an error and you can ignore this message): INVALID_ARGUMENT: You must feed a value for placeholder tensor 'Placeholder/_4' with dtype int32 and shape [115]\n",
            "\t [[{{node Placeholder/_4}}]]\n",
            "fully_quantize: 0, inference_type: 6, input_inference_type: INT8, output_inference_type: FLOAT32\n"
          ]
        }
      ],
      "source": [
        "repr_ds = test_ds.unbatch()\n",
        "\n",
        "def representative_data_gen():\n",
        "  for i_value, o_value in repr_ds.batch(1).take(100):\n",
        "    yield [i_value]\n",
        "\n",
        "converter = tf.lite.TFLiteConverter.from_saved_model(TF_MODEL)\n",
        "converter.representative_dataset = tf.lite.RepresentativeDataset(representative_data_gen)\n",
        "converter.optimizations = [tf.lite.Optimize.DEFAULT]\n",
        "converter.target_spec.supported_ops = [tf.lite.OpsSet.TFLITE_BUILTINS_INT8]\n",
        "converter.inference_input_type = tf.int8\n",
        "\n",
        "tfl_model = converter.convert()"
      ]
    },
    {
      "attachments": {},
      "cell_type": "markdown",
      "metadata": {
        "id": "nQg4FbwzluB8"
      },
      "source": [
        "### Get the TFLite model size in bytes"
      ]
    },
    {
      "cell_type": "code",
      "execution_count": 122,
      "metadata": {
        "id": "IFIpV1uUlxiZ"
      },
      "outputs": [
        {
          "name": "stdout",
          "output_type": "stream",
          "text": [
            "619344 bytes\n"
          ]
        }
      ],
      "source": [
        "size_tfl_model = len(tfl_model)\n",
        "print(len(tfl_model), \"bytes\")"
      ]
    },
    {
      "attachments": {},
      "cell_type": "markdown",
      "metadata": {
        "id": "1Br6hq8Cl4nU"
      },
      "source": [
        "### Initialize the TFLite interpreter"
      ]
    },
    {
      "cell_type": "code",
      "execution_count": 193,
      "metadata": {
        "id": "ACsaQjxzP2Wd"
      },
      "outputs": [],
      "source": [
        "# Initialize the TFLite interpreter\n",
        "interpreter = tf.lite.Interpreter(model_content=tfl_model)\n",
        "\n",
        "# Allocate the tensors\n",
        "interpreter.allocate_tensors()"
      ]
    },
    {
      "attachments": {},
      "cell_type": "markdown",
      "metadata": {
        "id": "OxxhFk-7l9J2"
      },
      "source": [
        "### Get input quantization parameters"
      ]
    },
    {
      "cell_type": "code",
      "execution_count": 194,
      "metadata": {
        "id": "nrH3uM8Gl_Hg"
      },
      "outputs": [
        {
          "name": "stdout",
          "output_type": "stream",
          "text": [
            "{'scales': array([0.00781238], dtype=float32), 'zero_points': array([-1], dtype=int32), 'quantized_dimension': 0}\n",
            "0.00781238\n",
            "-1\n"
          ]
        }
      ],
      "source": [
        "# Get input/output layer information\n",
        "i_details = interpreter.get_input_details()[0]\n",
        "o_details = interpreter.get_output_details()[0]\n",
        "\n",
        "# Get input quantization parameters.\n",
        "i_quant = i_details[\"quantization_parameters\"]\n",
        "i_scale      = i_quant['scales'][0]\n",
        "i_zero_point = i_quant['zero_points'][0]\n",
        "print(i_quant)\n",
        "print(i_scale)\n",
        "print(i_zero_point)"
      ]
    },
    {
      "attachments": {},
      "cell_type": "markdown",
      "metadata": {
        "id": "WQcFhKfumT1B"
      },
      "source": [
        "### Evaluate the accuracy of the quantized TFLite model"
      ]
    },
    {
      "cell_type": "code",
      "execution_count": 195,
      "metadata": {
        "id": "1vlIBfMHmWT-"
      },
      "outputs": [
        {
          "name": "stderr",
          "output_type": "stream",
          "text": [
            "2023-07-10 22:30:12.163634: I tensorflow/core/common_runtime/executor.cc:1197] [/device:CPU:0] (DEBUG INFO) Executor start aborting (this does not indicate an error and you can ignore this message): INVALID_ARGUMENT: You must feed a value for placeholder tensor 'Placeholder/_4' with dtype int32 and shape [30]\n",
            "\t [[{{node Placeholder/_4}}]]\n",
            "2023-07-10 22:30:12.168770: I tensorflow/core/common_runtime/executor.cc:1197] [/device:CPU:0] (DEBUG INFO) Executor start aborting (this does not indicate an error and you can ignore this message): INVALID_ARGUMENT: You must feed a value for placeholder tensor 'Placeholder/_4' with dtype int32 and shape [30]\n",
            "\t [[{{node Placeholder/_4}}]]\n",
            "2023-07-10 22:30:12.304170: I tensorflow/core/common_runtime/executor.cc:1197] [/device:CPU:0] (DEBUG INFO) Executor start aborting (this does not indicate an error and you can ignore this message): INVALID_ARGUMENT: You must feed a value for placeholder tensor 'Placeholder/_4' with dtype int32 and shape [30]\n",
            "\t [[{{node Placeholder/_4}}]]\n",
            "2023-07-10 22:30:12.306924: I tensorflow/core/common_runtime/executor.cc:1197] [/device:CPU:0] (DEBUG INFO) Executor start aborting (this does not indicate an error and you can ignore this message): INVALID_ARGUMENT: You must feed a value for placeholder tensor 'Placeholder/_4' with dtype int32 and shape [30]\n",
            "\t [[{{node Placeholder/_4}}]]\n"
          ]
        },
        {
          "name": "stdout",
          "output_type": "stream",
          "text": [
            "tf.Tensor(\n",
            "[[9 0 1]\n",
            " [0 5 5]\n",
            " [2 1 7]], shape=(3, 3), dtype=int32)\n",
            "Accuracy: 0.7\n"
          ]
        }
      ],
      "source": [
        "test_ds0 = valid_ds.unbatch()\n",
        "\n",
        "num_correct_samples = 0\n",
        "num_total_samples   = len(list(test_ds0.batch(1)))\n",
        "\n",
        "real_labels=[]\n",
        "predicted_labels=[]\n",
        "for i_value, o_value in test_ds0.batch(1):\n",
        "  i_value = (i_value / i_scale) + i_zero_point\n",
        "  i_value = tf.cast(i_value, dtype=tf.int8)\n",
        "  interpreter.set_tensor(i_details[\"index\"], i_value)\n",
        "  interpreter.invoke()\n",
        "  o_pred = interpreter.get_tensor(o_details[\"index\"])[0]\n",
        "\n",
        "  if np.argmax(o_pred) == o_value:\n",
        "    num_correct_samples += 1\n",
        "\n",
        "  real_labels.append(o_value)\n",
        "  predicted_labels.append(np.argmax(o_pred))\n",
        "\n",
        "print(tf.math.confusion_matrix(real_labels, predicted_labels, 3))\n",
        "print(\"Accuracy:\", num_correct_samples/num_total_samples)"
      ]
    },
    {
      "attachments": {},
      "cell_type": "markdown",
      "metadata": {
        "id": "tM-ZaNUHmkBm"
      },
      "source": [
        "### Convert the TFLite model to C-byte array with xxd"
      ]
    },
    {
      "cell_type": "code",
      "execution_count": 196,
      "metadata": {
        "id": "3kAnQgmI0QK_"
      },
      "outputs": [
        {
          "name": "stdout",
          "output_type": "stream",
          "text": [
            "zsh:1: command not found: apt-get\n"
          ]
        }
      ],
      "source": [
        "open(\"model.tflite\", \"wb\").write(tfl_model)\n",
        "!apt-get update && apt-get -qq install xxd\n",
        "!xxd -c 60 -i model.tflite > model60x60v4.cpp"
      ]
    }
  ],
  "metadata": {
    "accelerator": "GPU",
    "colab": {
      "collapsed_sections": [],
      "name": "chapter05.ipynb",
      "provenance": []
    },
    "kernelspec": {
      "display_name": "tiny",
      "language": "python",
      "name": "python3"
    },
    "language_info": {
      "codemirror_mode": {
        "name": "ipython",
        "version": 3
      },
      "file_extension": ".py",
      "mimetype": "text/x-python",
      "name": "python",
      "nbconvert_exporter": "python",
      "pygments_lexer": "ipython3",
      "version": "3.11.3"
    }
  },
  "nbformat": 4,
  "nbformat_minor": 0
}
