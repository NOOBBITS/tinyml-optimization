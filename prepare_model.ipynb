{
  "cells": [
    {
      "attachments": {},
      "cell_type": "markdown",
      "metadata": {
        "id": "7xc2grXmGVo4"
      },
      "source": [
        "# Chapter 5 - Indoor Scene Classification with TFLu and the Arduino Nano"
      ]
    },
    {
      "cell_type": "code",
      "execution_count": 3,
      "metadata": {
        "id": "bAenHrKFofOR"
      },
      "outputs": [
        {
          "name": "stderr",
          "output_type": "stream",
          "text": [
            "UsageError: Line magic function `%tensorflow_version` not found.\n"
          ]
        }
      ],
      "source": [
        "%tensorflow_version 2.x"
      ]
    },
    {
      "attachments": {},
      "cell_type": "markdown",
      "metadata": {
        "id": "bCS8r9jvlfFi"
      },
      "source": [
        "### Python libraries"
      ]
    },
    {
      "cell_type": "code",
      "execution_count": 4,
      "metadata": {
        "id": "9IzYsIvDlgx_"
      },
      "outputs": [
        {
          "name": "stderr",
          "output_type": "stream",
          "text": [
            "2023-06-28 16:19:06.265906: I tensorflow/core/platform/cpu_feature_guard.cc:193] This TensorFlow binary is optimized with oneAPI Deep Neural Network Library (oneDNN) to use the following CPU instructions in performance-critical operations:  AVX2 FMA\n",
            "To enable them in other operations, rebuild TensorFlow with the appropriate compiler flags.\n",
            "2023-06-28 16:19:06.615284: W tensorflow/compiler/xla/stream_executor/platform/default/dso_loader.cc:64] Could not load dynamic library 'libcudart.so.11.0'; dlerror: libcudart.so.11.0: cannot open shared object file: No such file or directory\n",
            "2023-06-28 16:19:06.615317: I tensorflow/compiler/xla/stream_executor/cuda/cudart_stub.cc:29] Ignore above cudart dlerror if you do not have a GPU set up on your machine.\n",
            "2023-06-28 16:19:07.836765: W tensorflow/compiler/xla/stream_executor/platform/default/dso_loader.cc:64] Could not load dynamic library 'libnvinfer.so.7'; dlerror: libnvinfer.so.7: cannot open shared object file: No such file or directory\n",
            "2023-06-28 16:19:07.837187: W tensorflow/compiler/xla/stream_executor/platform/default/dso_loader.cc:64] Could not load dynamic library 'libnvinfer_plugin.so.7'; dlerror: libnvinfer_plugin.so.7: cannot open shared object file: No such file or directory\n",
            "2023-06-28 16:19:07.837198: W tensorflow/compiler/tf2tensorrt/utils/py_utils.cc:38] TF-TRT Warning: Cannot dlopen some TensorRT libraries. If you would like to use Nvidia GPU with TensorRT, please make sure the missing libraries mentioned above are installed properly.\n"
          ]
        }
      ],
      "source": [
        "import numpy as np\n",
        "import pathlib\n",
        "#!export PROTOCOL_BUFFERS_PYTHON_IMPLEMENTATION=python\n",
        "import tensorflow as tf\n",
        "#import tensorflow_datasets as tfds\n",
        "import zipfile\n",
        "from tensorflow.keras.applications.mobilenet_v2 import MobileNetV2\n",
        "# from tensorflow.keras.models import Model\n"
      ]
    },
    {
      "attachments": {},
      "cell_type": "markdown",
      "metadata": {
        "id": "EJchRFEmnwvl"
      },
      "source": [
        "### Constants"
      ]
    },
    {
      "cell_type": "code",
      "execution_count": 6,
      "metadata": {
        "id": "6VGtgqiVFaY1"
      },
      "outputs": [],
      "source": [
        "MODEL_ALPHA = 0.35\n",
        "MODEL_INPUT_WIDTH = 48\n",
        "MODEL_INPUT_HEIGHT = 48\n",
        "TFL_MODEL_FILE = \"indoor_scene_recognition.tflite\"\n",
        "TFL_MODEL_HEADER_FILE = \"indoor_scene_recognition_model.h\"\n",
        "TF_MODEL = \"indoor_scene_recognition\""
      ]
    },
    {
      "attachments": {},
      "cell_type": "markdown",
      "metadata": {
        "id": "3J8L3YW_htYw"
      },
      "source": [
        "## Transfer learning with Keras"
      ]
    },
    {
      "attachments": {},
      "cell_type": "markdown",
      "metadata": {
        "id": "YSlp-mPQhwuY"
      },
      "source": [
        "### Unzip the dataset (dataset.zip) SKIP THIS STEP\n"
      ]
    },
    {
      "cell_type": "code",
      "execution_count": 7,
      "metadata": {
        "id": "Tp1VN1OZGuEn"
      },
      "outputs": [],
      "source": [
        "# with zipfile.ZipFile(\"dataset.zip\", 'r') as zip_ref:\n",
        "#   zip_ref.extractall(\".\")\n",
        "# data_dir = \"dataset\""
      ]
    },
    {
      "attachments": {},
      "cell_type": "markdown",
      "metadata": {
        "id": "HMqMhiuvGpam"
      },
      "source": [
        "### Prepare the train (80%) and validation (20%) datasets"
      ]
    },
    {
      "cell_type": "code",
      "execution_count": 8,
      "metadata": {
        "id": "jKZ4L-wsBktr"
      },
      "outputs": [
        {
          "name": "stdout",
          "output_type": "stream",
          "text": [
            "Found 73 files belonging to 4 classes.\n",
            "Using 59 files for training.\n",
            "Found 73 files belonging to 4 classes.\n",
            "Using 14 files for validation.\n"
          ]
        },
        {
          "name": "stderr",
          "output_type": "stream",
          "text": [
            "2023-06-28 16:19:20.007498: W tensorflow/compiler/xla/stream_executor/platform/default/dso_loader.cc:64] Could not load dynamic library 'libcudart.so.11.0'; dlerror: libcudart.so.11.0: cannot open shared object file: No such file or directory\n",
            "2023-06-28 16:19:20.007633: W tensorflow/compiler/xla/stream_executor/platform/default/dso_loader.cc:64] Could not load dynamic library 'libcublas.so.11'; dlerror: libcublas.so.11: cannot open shared object file: No such file or directory\n",
            "2023-06-28 16:19:20.007676: W tensorflow/compiler/xla/stream_executor/platform/default/dso_loader.cc:64] Could not load dynamic library 'libcublasLt.so.11'; dlerror: libcublasLt.so.11: cannot open shared object file: No such file or directory\n",
            "2023-06-28 16:19:20.007712: W tensorflow/compiler/xla/stream_executor/platform/default/dso_loader.cc:64] Could not load dynamic library 'libcufft.so.10'; dlerror: libcufft.so.10: cannot open shared object file: No such file or directory\n",
            "2023-06-28 16:19:20.007748: W tensorflow/compiler/xla/stream_executor/platform/default/dso_loader.cc:64] Could not load dynamic library 'libcurand.so.10'; dlerror: libcurand.so.10: cannot open shared object file: No such file or directory\n",
            "2023-06-28 16:19:20.007802: W tensorflow/compiler/xla/stream_executor/platform/default/dso_loader.cc:64] Could not load dynamic library 'libcusolver.so.11'; dlerror: libcusolver.so.11: cannot open shared object file: No such file or directory\n",
            "2023-06-28 16:19:20.007841: W tensorflow/compiler/xla/stream_executor/platform/default/dso_loader.cc:64] Could not load dynamic library 'libcusparse.so.11'; dlerror: libcusparse.so.11: cannot open shared object file: No such file or directory\n",
            "2023-06-28 16:19:20.007892: W tensorflow/compiler/xla/stream_executor/platform/default/dso_loader.cc:64] Could not load dynamic library 'libcudnn.so.8'; dlerror: libcudnn.so.8: cannot open shared object file: No such file or directory\n",
            "2023-06-28 16:19:20.007948: W tensorflow/core/common_runtime/gpu/gpu_device.cc:1934] Cannot dlopen some GPU libraries. Please make sure the missing libraries mentioned above are installed properly if you would like to use GPU. Follow the guide at https://www.tensorflow.org/install/gpu for how to download and setup the required libraries for your platform.\n",
            "Skipping registering GPU devices...\n",
            "2023-06-28 16:19:20.009015: I tensorflow/core/platform/cpu_feature_guard.cc:193] This TensorFlow binary is optimized with oneAPI Deep Neural Network Library (oneDNN) to use the following CPU instructions in performance-critical operations:  AVX2 FMA\n",
            "To enable them in other operations, rebuild TensorFlow with the appropriate compiler flags.\n"
          ]
        }
      ],
      "source": [
        "data_dir=\"dataset\"\n",
        "train_ds = tf.keras.utils.image_dataset_from_directory(\n",
        "  data_dir,\n",
        "  validation_split=0.2,\n",
        "  subset=\"training\",\n",
        "  seed=123,\n",
        "  interpolation=\"bilinear\",\n",
        "  image_size=(MODEL_INPUT_WIDTH, MODEL_INPUT_HEIGHT)\n",
        "  )\n",
        "\n",
        "val_ds = tf.keras.utils.image_dataset_from_directory(\n",
        "  data_dir,\n",
        "  validation_split=0.2,\n",
        "  subset=\"validation\",\n",
        "  seed=123,\n",
        "  interpolation=\"bilinear\",\n",
        "  image_size=(MODEL_INPUT_WIDTH, MODEL_INPUT_HEIGHT)\n",
        "  )"
      ]
    },
    {
      "attachments": {},
      "cell_type": "markdown",
      "metadata": {
        "id": "mWxKsXM0iMxj"
      },
      "source": [
        "### Get the name of the classes"
      ]
    },
    {
      "cell_type": "code",
      "execution_count": 9,
      "metadata": {
        "id": "zLWkCbjYDVHJ"
      },
      "outputs": [
        {
          "name": "stdout",
          "output_type": "stream",
          "text": [
            "['paper', 'rock', 'scissors', 'unknown']\n"
          ]
        }
      ],
      "source": [
        "class_names = train_ds.class_names\n",
        "num_classes = len(class_names)\n",
        "print(class_names)"
      ]
    },
    {
      "attachments": {},
      "cell_type": "markdown",
      "metadata": {
        "id": "vEsZQCsUHaeb"
      },
      "source": [
        "### Rescale the pixel values from [0, 255] tp [-1, 1]"
      ]
    },
    {
      "cell_type": "code",
      "execution_count": 10,
      "metadata": {
        "id": "-lFJZj50HhMV"
      },
      "outputs": [
        {
          "name": "stdout",
          "output_type": "stream",
          "text": [
            "WARNING:tensorflow:From /home/aditya/.local/lib/python3.10/site-packages/tensorflow/python/autograph/pyct/static_analysis/liveness.py:83: Analyzer.lamba_check (from tensorflow.python.autograph.pyct.static_analysis.liveness) is deprecated and will be removed after 2023-09-23.\n",
            "Instructions for updating:\n",
            "Lambda fuctions will be no more assumed to be used in the statement where they are used, or at least in the same block. https://github.com/tensorflow/tensorflow/issues/56089\n"
          ]
        }
      ],
      "source": [
        "rescale = tf.keras.layers.Rescaling(1./255, offset= -1)\n",
        "train_ds = train_ds.map(lambda x, y: (rescale(x), y))\n",
        "val_ds   = val_ds.map(lambda x, y: (rescale(x), y))"
      ]
    },
    {
      "attachments": {},
      "cell_type": "markdown",
      "metadata": {
        "id": "OK0nFgtFSwsF"
      },
      "source": [
        "### Import the MobileNet v2 pre-trained model"
      ]
    },
    {
      "cell_type": "code",
      "execution_count": 11,
      "metadata": {
        "id": "DbhSn1Bl-LZ7"
      },
      "outputs": [
        {
          "name": "stdout",
          "output_type": "stream",
          "text": [
            "WARNING:tensorflow:`input_shape` is undefined or non-square, or `rows` is not in [96, 128, 160, 192, 224]. Weights for input shape (224, 224) will be loaded as the default.\n"
          ]
        }
      ],
      "source": [
        "# https://github.com/keras-team/keras-applications/blob/master/keras_applications/mobilenet_v2.py\n",
        "base_model = MobileNetV2(input_shape=(MODEL_INPUT_WIDTH, MODEL_INPUT_HEIGHT, 3),\n",
        "                         include_top=False,\n",
        "                         weights='imagenet',\n",
        "                         alpha=0.35)\n",
        "base_model.trainable = False\n",
        "\n",
        "feat_extr = base_model"
      ]
    },
    {
      "attachments": {},
      "cell_type": "markdown",
      "metadata": {
        "id": "lOCL5dx-MmlD"
      },
      "source": [
        "### Augment the input data"
      ]
    },
    {
      "cell_type": "code",
      "execution_count": 12,
      "metadata": {
        "id": "7ebIppPRjUKF"
      },
      "outputs": [
        {
          "name": "stdout",
          "output_type": "stream",
          "text": [
            "WARNING:tensorflow:Using a while_loop for converting RngReadAndSkip cause there is no registered converter for this op.\n",
            "WARNING:tensorflow:Using a while_loop for converting Bitcast cause there is no registered converter for this op.\n",
            "WARNING:tensorflow:Using a while_loop for converting Bitcast cause there is no registered converter for this op.\n",
            "WARNING:tensorflow:Using a while_loop for converting StatelessRandomUniformV2 cause there is no registered converter for this op.\n",
            "WARNING:tensorflow:Using a while_loop for converting ImageProjectiveTransformV3 cause there is no registered converter for this op.\n",
            "WARNING:tensorflow:Using a while_loop for converting RngReadAndSkip cause there is no registered converter for this op.\n",
            "WARNING:tensorflow:Using a while_loop for converting Bitcast cause there is no registered converter for this op.\n",
            "WARNING:tensorflow:Using a while_loop for converting Bitcast cause there is no registered converter for this op.\n",
            "WARNING:tensorflow:Using a while_loop for converting StatelessRandomUniformV2 cause there is no registered converter for this op.\n",
            "WARNING:tensorflow:Using a while_loop for converting ImageProjectiveTransformV3 cause there is no registered converter for this op.\n",
            "WARNING:tensorflow:Using a while_loop for converting RngReadAndSkip cause there is no registered converter for this op.\n",
            "WARNING:tensorflow:Using a while_loop for converting Bitcast cause there is no registered converter for this op.\n",
            "WARNING:tensorflow:Using a while_loop for converting Bitcast cause there is no registered converter for this op.\n",
            "WARNING:tensorflow:Using a while_loop for converting StatelessRandomUniformV2 cause there is no registered converter for this op.\n",
            "WARNING:tensorflow:Using a while_loop for converting ImageProjectiveTransformV3 cause there is no registered converter for this op.\n"
          ]
        }
      ],
      "source": [
        "augmen = tf.keras.Sequential([\n",
        "  tf.keras.layers.experimental.preprocessing.RandomRotation(0.2),\n",
        "  tf.keras.layers.experimental.preprocessing.RandomFlip('horizontal'),\n",
        "])\n",
        "\n",
        "train_ds = train_ds.map(lambda x, y: (augmen(x), y))\n",
        "val_ds   = val_ds.map(lambda x, y: (augmen(x), y))"
      ]
    },
    {
      "attachments": {},
      "cell_type": "markdown",
      "metadata": {
        "id": "Qhw11eldjZoz"
      },
      "source": [
        "### Prepare the classification head"
      ]
    },
    {
      "cell_type": "code",
      "execution_count": 13,
      "metadata": {
        "id": "gC5CVjRNMn7q"
      },
      "outputs": [],
      "source": [
        "global_avg_layer = tf.keras.layers.GlobalAveragePooling2D()\n",
        "dense_layer = tf.keras.layers.Dense(num_classes, activation='softmax')"
      ]
    },
    {
      "attachments": {},
      "cell_type": "markdown",
      "metadata": {
        "id": "IZYMkd0yM5tb"
      },
      "source": [
        "### Build the model architecture"
      ]
    },
    {
      "cell_type": "code",
      "execution_count": 14,
      "metadata": {
        "id": "r-DTz_x5M7bg"
      },
      "outputs": [],
      "source": [
        "inputs = tf.keras.Input(shape=(MODEL_INPUT_WIDTH, MODEL_INPUT_HEIGHT, 3))\n",
        "x = global_avg_layer(feat_extr.layers[-1].output)\n",
        "x = tf.keras.layers.Dropout(0.2)(x)\n",
        "outputs = dense_layer(x)\n",
        "model = tf.keras.Model(inputs=feat_extr.inputs, outputs=outputs)"
      ]
    },
    {
      "attachments": {},
      "cell_type": "markdown",
      "metadata": {
        "id": "X4AoQHO1j1a3"
      },
      "source": [
        "### Compile the model with a 0.0005 learning rate"
      ]
    },
    {
      "cell_type": "code",
      "execution_count": 15,
      "metadata": {
        "id": "ZHPUqQNijqE5"
      },
      "outputs": [],
      "source": [
        "lr = 0.0005\n",
        "model.compile(\n",
        "  optimizer=tf.keras.optimizers.Adam(learning_rate=lr),\n",
        "  loss=tf.losses.SparseCategoricalCrossentropy(from_logits=False),\n",
        "  metrics=['accuracy'])"
      ]
    },
    {
      "attachments": {},
      "cell_type": "markdown",
      "metadata": {
        "id": "x4M-8ftzj89-"
      },
      "source": [
        "### Model summary"
      ]
    },
    {
      "cell_type": "code",
      "execution_count": 16,
      "metadata": {
        "id": "WFXJSd6fj415"
      },
      "outputs": [
        {
          "name": "stdout",
          "output_type": "stream",
          "text": [
            "Model: \"model\"\n",
            "__________________________________________________________________________________________________\n",
            " Layer (type)                   Output Shape         Param #     Connected to                     \n",
            "==================================================================================================\n",
            " input_1 (InputLayer)           [(None, 48, 48, 3)]  0           []                               \n",
            "                                                                                                  \n",
            " Conv1 (Conv2D)                 (None, 24, 24, 16)   432         ['input_1[0][0]']                \n",
            "                                                                                                  \n",
            " bn_Conv1 (BatchNormalization)  (None, 24, 24, 16)   64          ['Conv1[0][0]']                  \n",
            "                                                                                                  \n",
            " Conv1_relu (ReLU)              (None, 24, 24, 16)   0           ['bn_Conv1[0][0]']               \n",
            "                                                                                                  \n",
            " expanded_conv_depthwise (Depth  (None, 24, 24, 16)  144         ['Conv1_relu[0][0]']             \n",
            " wiseConv2D)                                                                                      \n",
            "                                                                                                  \n",
            " expanded_conv_depthwise_BN (Ba  (None, 24, 24, 16)  64          ['expanded_conv_depthwise[0][0]']\n",
            " tchNormalization)                                                                                \n",
            "                                                                                                  \n",
            " expanded_conv_depthwise_relu (  (None, 24, 24, 16)  0           ['expanded_conv_depthwise_BN[0][0\n",
            " ReLU)                                                           ]']                              \n",
            "                                                                                                  \n",
            " expanded_conv_project (Conv2D)  (None, 24, 24, 8)   128         ['expanded_conv_depthwise_relu[0]\n",
            "                                                                 [0]']                            \n",
            "                                                                                                  \n",
            " expanded_conv_project_BN (Batc  (None, 24, 24, 8)   32          ['expanded_conv_project[0][0]']  \n",
            " hNormalization)                                                                                  \n",
            "                                                                                                  \n",
            " block_1_expand (Conv2D)        (None, 24, 24, 48)   384         ['expanded_conv_project_BN[0][0]'\n",
            "                                                                 ]                                \n",
            "                                                                                                  \n",
            " block_1_expand_BN (BatchNormal  (None, 24, 24, 48)  192         ['block_1_expand[0][0]']         \n",
            " ization)                                                                                         \n",
            "                                                                                                  \n",
            " block_1_expand_relu (ReLU)     (None, 24, 24, 48)   0           ['block_1_expand_BN[0][0]']      \n",
            "                                                                                                  \n",
            " block_1_pad (ZeroPadding2D)    (None, 25, 25, 48)   0           ['block_1_expand_relu[0][0]']    \n",
            "                                                                                                  \n",
            " block_1_depthwise (DepthwiseCo  (None, 12, 12, 48)  432         ['block_1_pad[0][0]']            \n",
            " nv2D)                                                                                            \n",
            "                                                                                                  \n",
            " block_1_depthwise_BN (BatchNor  (None, 12, 12, 48)  192         ['block_1_depthwise[0][0]']      \n",
            " malization)                                                                                      \n",
            "                                                                                                  \n",
            " block_1_depthwise_relu (ReLU)  (None, 12, 12, 48)   0           ['block_1_depthwise_BN[0][0]']   \n",
            "                                                                                                  \n",
            " block_1_project (Conv2D)       (None, 12, 12, 8)    384         ['block_1_depthwise_relu[0][0]'] \n",
            "                                                                                                  \n",
            " block_1_project_BN (BatchNorma  (None, 12, 12, 8)   32          ['block_1_project[0][0]']        \n",
            " lization)                                                                                        \n",
            "                                                                                                  \n",
            " block_2_expand (Conv2D)        (None, 12, 12, 48)   384         ['block_1_project_BN[0][0]']     \n",
            "                                                                                                  \n",
            " block_2_expand_BN (BatchNormal  (None, 12, 12, 48)  192         ['block_2_expand[0][0]']         \n",
            " ization)                                                                                         \n",
            "                                                                                                  \n",
            " block_2_expand_relu (ReLU)     (None, 12, 12, 48)   0           ['block_2_expand_BN[0][0]']      \n",
            "                                                                                                  \n",
            " block_2_depthwise (DepthwiseCo  (None, 12, 12, 48)  432         ['block_2_expand_relu[0][0]']    \n",
            " nv2D)                                                                                            \n",
            "                                                                                                  \n",
            " block_2_depthwise_BN (BatchNor  (None, 12, 12, 48)  192         ['block_2_depthwise[0][0]']      \n",
            " malization)                                                                                      \n",
            "                                                                                                  \n",
            " block_2_depthwise_relu (ReLU)  (None, 12, 12, 48)   0           ['block_2_depthwise_BN[0][0]']   \n",
            "                                                                                                  \n",
            " block_2_project (Conv2D)       (None, 12, 12, 8)    384         ['block_2_depthwise_relu[0][0]'] \n",
            "                                                                                                  \n",
            " block_2_project_BN (BatchNorma  (None, 12, 12, 8)   32          ['block_2_project[0][0]']        \n",
            " lization)                                                                                        \n",
            "                                                                                                  \n",
            " block_2_add (Add)              (None, 12, 12, 8)    0           ['block_1_project_BN[0][0]',     \n",
            "                                                                  'block_2_project_BN[0][0]']     \n",
            "                                                                                                  \n",
            " block_3_expand (Conv2D)        (None, 12, 12, 48)   384         ['block_2_add[0][0]']            \n",
            "                                                                                                  \n",
            " block_3_expand_BN (BatchNormal  (None, 12, 12, 48)  192         ['block_3_expand[0][0]']         \n",
            " ization)                                                                                         \n",
            "                                                                                                  \n",
            " block_3_expand_relu (ReLU)     (None, 12, 12, 48)   0           ['block_3_expand_BN[0][0]']      \n",
            "                                                                                                  \n",
            " block_3_pad (ZeroPadding2D)    (None, 13, 13, 48)   0           ['block_3_expand_relu[0][0]']    \n",
            "                                                                                                  \n",
            " block_3_depthwise (DepthwiseCo  (None, 6, 6, 48)    432         ['block_3_pad[0][0]']            \n",
            " nv2D)                                                                                            \n",
            "                                                                                                  \n",
            " block_3_depthwise_BN (BatchNor  (None, 6, 6, 48)    192         ['block_3_depthwise[0][0]']      \n",
            " malization)                                                                                      \n",
            "                                                                                                  \n",
            " block_3_depthwise_relu (ReLU)  (None, 6, 6, 48)     0           ['block_3_depthwise_BN[0][0]']   \n",
            "                                                                                                  \n",
            " block_3_project (Conv2D)       (None, 6, 6, 16)     768         ['block_3_depthwise_relu[0][0]'] \n",
            "                                                                                                  \n",
            " block_3_project_BN (BatchNorma  (None, 6, 6, 16)    64          ['block_3_project[0][0]']        \n",
            " lization)                                                                                        \n",
            "                                                                                                  \n",
            " block_4_expand (Conv2D)        (None, 6, 6, 96)     1536        ['block_3_project_BN[0][0]']     \n",
            "                                                                                                  \n",
            " block_4_expand_BN (BatchNormal  (None, 6, 6, 96)    384         ['block_4_expand[0][0]']         \n",
            " ization)                                                                                         \n",
            "                                                                                                  \n",
            " block_4_expand_relu (ReLU)     (None, 6, 6, 96)     0           ['block_4_expand_BN[0][0]']      \n",
            "                                                                                                  \n",
            " block_4_depthwise (DepthwiseCo  (None, 6, 6, 96)    864         ['block_4_expand_relu[0][0]']    \n",
            " nv2D)                                                                                            \n",
            "                                                                                                  \n",
            " block_4_depthwise_BN (BatchNor  (None, 6, 6, 96)    384         ['block_4_depthwise[0][0]']      \n",
            " malization)                                                                                      \n",
            "                                                                                                  \n",
            " block_4_depthwise_relu (ReLU)  (None, 6, 6, 96)     0           ['block_4_depthwise_BN[0][0]']   \n",
            "                                                                                                  \n",
            " block_4_project (Conv2D)       (None, 6, 6, 16)     1536        ['block_4_depthwise_relu[0][0]'] \n",
            "                                                                                                  \n",
            " block_4_project_BN (BatchNorma  (None, 6, 6, 16)    64          ['block_4_project[0][0]']        \n",
            " lization)                                                                                        \n",
            "                                                                                                  \n",
            " block_4_add (Add)              (None, 6, 6, 16)     0           ['block_3_project_BN[0][0]',     \n",
            "                                                                  'block_4_project_BN[0][0]']     \n",
            "                                                                                                  \n",
            " block_5_expand (Conv2D)        (None, 6, 6, 96)     1536        ['block_4_add[0][0]']            \n",
            "                                                                                                  \n",
            " block_5_expand_BN (BatchNormal  (None, 6, 6, 96)    384         ['block_5_expand[0][0]']         \n",
            " ization)                                                                                         \n",
            "                                                                                                  \n",
            " block_5_expand_relu (ReLU)     (None, 6, 6, 96)     0           ['block_5_expand_BN[0][0]']      \n",
            "                                                                                                  \n",
            " block_5_depthwise (DepthwiseCo  (None, 6, 6, 96)    864         ['block_5_expand_relu[0][0]']    \n",
            " nv2D)                                                                                            \n",
            "                                                                                                  \n",
            " block_5_depthwise_BN (BatchNor  (None, 6, 6, 96)    384         ['block_5_depthwise[0][0]']      \n",
            " malization)                                                                                      \n",
            "                                                                                                  \n",
            " block_5_depthwise_relu (ReLU)  (None, 6, 6, 96)     0           ['block_5_depthwise_BN[0][0]']   \n",
            "                                                                                                  \n",
            " block_5_project (Conv2D)       (None, 6, 6, 16)     1536        ['block_5_depthwise_relu[0][0]'] \n",
            "                                                                                                  \n",
            " block_5_project_BN (BatchNorma  (None, 6, 6, 16)    64          ['block_5_project[0][0]']        \n",
            " lization)                                                                                        \n",
            "                                                                                                  \n",
            " block_5_add (Add)              (None, 6, 6, 16)     0           ['block_4_add[0][0]',            \n",
            "                                                                  'block_5_project_BN[0][0]']     \n",
            "                                                                                                  \n",
            " block_6_expand (Conv2D)        (None, 6, 6, 96)     1536        ['block_5_add[0][0]']            \n",
            "                                                                                                  \n",
            " block_6_expand_BN (BatchNormal  (None, 6, 6, 96)    384         ['block_6_expand[0][0]']         \n",
            " ization)                                                                                         \n",
            "                                                                                                  \n",
            " block_6_expand_relu (ReLU)     (None, 6, 6, 96)     0           ['block_6_expand_BN[0][0]']      \n",
            "                                                                                                  \n",
            " block_6_pad (ZeroPadding2D)    (None, 7, 7, 96)     0           ['block_6_expand_relu[0][0]']    \n",
            "                                                                                                  \n",
            " block_6_depthwise (DepthwiseCo  (None, 3, 3, 96)    864         ['block_6_pad[0][0]']            \n",
            " nv2D)                                                                                            \n",
            "                                                                                                  \n",
            " block_6_depthwise_BN (BatchNor  (None, 3, 3, 96)    384         ['block_6_depthwise[0][0]']      \n",
            " malization)                                                                                      \n",
            "                                                                                                  \n",
            " block_6_depthwise_relu (ReLU)  (None, 3, 3, 96)     0           ['block_6_depthwise_BN[0][0]']   \n",
            "                                                                                                  \n",
            " block_6_project (Conv2D)       (None, 3, 3, 24)     2304        ['block_6_depthwise_relu[0][0]'] \n",
            "                                                                                                  \n",
            " block_6_project_BN (BatchNorma  (None, 3, 3, 24)    96          ['block_6_project[0][0]']        \n",
            " lization)                                                                                        \n",
            "                                                                                                  \n",
            " block_7_expand (Conv2D)        (None, 3, 3, 144)    3456        ['block_6_project_BN[0][0]']     \n",
            "                                                                                                  \n",
            " block_7_expand_BN (BatchNormal  (None, 3, 3, 144)   576         ['block_7_expand[0][0]']         \n",
            " ization)                                                                                         \n",
            "                                                                                                  \n",
            " block_7_expand_relu (ReLU)     (None, 3, 3, 144)    0           ['block_7_expand_BN[0][0]']      \n",
            "                                                                                                  \n",
            " block_7_depthwise (DepthwiseCo  (None, 3, 3, 144)   1296        ['block_7_expand_relu[0][0]']    \n",
            " nv2D)                                                                                            \n",
            "                                                                                                  \n",
            " block_7_depthwise_BN (BatchNor  (None, 3, 3, 144)   576         ['block_7_depthwise[0][0]']      \n",
            " malization)                                                                                      \n",
            "                                                                                                  \n",
            " block_7_depthwise_relu (ReLU)  (None, 3, 3, 144)    0           ['block_7_depthwise_BN[0][0]']   \n",
            "                                                                                                  \n",
            " block_7_project (Conv2D)       (None, 3, 3, 24)     3456        ['block_7_depthwise_relu[0][0]'] \n",
            "                                                                                                  \n",
            " block_7_project_BN (BatchNorma  (None, 3, 3, 24)    96          ['block_7_project[0][0]']        \n",
            " lization)                                                                                        \n",
            "                                                                                                  \n",
            " block_7_add (Add)              (None, 3, 3, 24)     0           ['block_6_project_BN[0][0]',     \n",
            "                                                                  'block_7_project_BN[0][0]']     \n",
            "                                                                                                  \n",
            " block_8_expand (Conv2D)        (None, 3, 3, 144)    3456        ['block_7_add[0][0]']            \n",
            "                                                                                                  \n",
            " block_8_expand_BN (BatchNormal  (None, 3, 3, 144)   576         ['block_8_expand[0][0]']         \n",
            " ization)                                                                                         \n",
            "                                                                                                  \n",
            " block_8_expand_relu (ReLU)     (None, 3, 3, 144)    0           ['block_8_expand_BN[0][0]']      \n",
            "                                                                                                  \n",
            " block_8_depthwise (DepthwiseCo  (None, 3, 3, 144)   1296        ['block_8_expand_relu[0][0]']    \n",
            " nv2D)                                                                                            \n",
            "                                                                                                  \n",
            " block_8_depthwise_BN (BatchNor  (None, 3, 3, 144)   576         ['block_8_depthwise[0][0]']      \n",
            " malization)                                                                                      \n",
            "                                                                                                  \n",
            " block_8_depthwise_relu (ReLU)  (None, 3, 3, 144)    0           ['block_8_depthwise_BN[0][0]']   \n",
            "                                                                                                  \n",
            " block_8_project (Conv2D)       (None, 3, 3, 24)     3456        ['block_8_depthwise_relu[0][0]'] \n",
            "                                                                                                  \n",
            " block_8_project_BN (BatchNorma  (None, 3, 3, 24)    96          ['block_8_project[0][0]']        \n",
            " lization)                                                                                        \n",
            "                                                                                                  \n",
            " block_8_add (Add)              (None, 3, 3, 24)     0           ['block_7_add[0][0]',            \n",
            "                                                                  'block_8_project_BN[0][0]']     \n",
            "                                                                                                  \n",
            " block_9_expand (Conv2D)        (None, 3, 3, 144)    3456        ['block_8_add[0][0]']            \n",
            "                                                                                                  \n",
            " block_9_expand_BN (BatchNormal  (None, 3, 3, 144)   576         ['block_9_expand[0][0]']         \n",
            " ization)                                                                                         \n",
            "                                                                                                  \n",
            " block_9_expand_relu (ReLU)     (None, 3, 3, 144)    0           ['block_9_expand_BN[0][0]']      \n",
            "                                                                                                  \n",
            " block_9_depthwise (DepthwiseCo  (None, 3, 3, 144)   1296        ['block_9_expand_relu[0][0]']    \n",
            " nv2D)                                                                                            \n",
            "                                                                                                  \n",
            " block_9_depthwise_BN (BatchNor  (None, 3, 3, 144)   576         ['block_9_depthwise[0][0]']      \n",
            " malization)                                                                                      \n",
            "                                                                                                  \n",
            " block_9_depthwise_relu (ReLU)  (None, 3, 3, 144)    0           ['block_9_depthwise_BN[0][0]']   \n",
            "                                                                                                  \n",
            " block_9_project (Conv2D)       (None, 3, 3, 24)     3456        ['block_9_depthwise_relu[0][0]'] \n",
            "                                                                                                  \n",
            " block_9_project_BN (BatchNorma  (None, 3, 3, 24)    96          ['block_9_project[0][0]']        \n",
            " lization)                                                                                        \n",
            "                                                                                                  \n",
            " block_9_add (Add)              (None, 3, 3, 24)     0           ['block_8_add[0][0]',            \n",
            "                                                                  'block_9_project_BN[0][0]']     \n",
            "                                                                                                  \n",
            " block_10_expand (Conv2D)       (None, 3, 3, 144)    3456        ['block_9_add[0][0]']            \n",
            "                                                                                                  \n",
            " block_10_expand_BN (BatchNorma  (None, 3, 3, 144)   576         ['block_10_expand[0][0]']        \n",
            " lization)                                                                                        \n",
            "                                                                                                  \n",
            " block_10_expand_relu (ReLU)    (None, 3, 3, 144)    0           ['block_10_expand_BN[0][0]']     \n",
            "                                                                                                  \n",
            " block_10_depthwise (DepthwiseC  (None, 3, 3, 144)   1296        ['block_10_expand_relu[0][0]']   \n",
            " onv2D)                                                                                           \n",
            "                                                                                                  \n",
            " block_10_depthwise_BN (BatchNo  (None, 3, 3, 144)   576         ['block_10_depthwise[0][0]']     \n",
            " rmalization)                                                                                     \n",
            "                                                                                                  \n",
            " block_10_depthwise_relu (ReLU)  (None, 3, 3, 144)   0           ['block_10_depthwise_BN[0][0]']  \n",
            "                                                                                                  \n",
            " block_10_project (Conv2D)      (None, 3, 3, 32)     4608        ['block_10_depthwise_relu[0][0]']\n",
            "                                                                                                  \n",
            " block_10_project_BN (BatchNorm  (None, 3, 3, 32)    128         ['block_10_project[0][0]']       \n",
            " alization)                                                                                       \n",
            "                                                                                                  \n",
            " block_11_expand (Conv2D)       (None, 3, 3, 192)    6144        ['block_10_project_BN[0][0]']    \n",
            "                                                                                                  \n",
            " block_11_expand_BN (BatchNorma  (None, 3, 3, 192)   768         ['block_11_expand[0][0]']        \n",
            " lization)                                                                                        \n",
            "                                                                                                  \n",
            " block_11_expand_relu (ReLU)    (None, 3, 3, 192)    0           ['block_11_expand_BN[0][0]']     \n",
            "                                                                                                  \n",
            " block_11_depthwise (DepthwiseC  (None, 3, 3, 192)   1728        ['block_11_expand_relu[0][0]']   \n",
            " onv2D)                                                                                           \n",
            "                                                                                                  \n",
            " block_11_depthwise_BN (BatchNo  (None, 3, 3, 192)   768         ['block_11_depthwise[0][0]']     \n",
            " rmalization)                                                                                     \n",
            "                                                                                                  \n",
            " block_11_depthwise_relu (ReLU)  (None, 3, 3, 192)   0           ['block_11_depthwise_BN[0][0]']  \n",
            "                                                                                                  \n",
            " block_11_project (Conv2D)      (None, 3, 3, 32)     6144        ['block_11_depthwise_relu[0][0]']\n",
            "                                                                                                  \n",
            " block_11_project_BN (BatchNorm  (None, 3, 3, 32)    128         ['block_11_project[0][0]']       \n",
            " alization)                                                                                       \n",
            "                                                                                                  \n",
            " block_11_add (Add)             (None, 3, 3, 32)     0           ['block_10_project_BN[0][0]',    \n",
            "                                                                  'block_11_project_BN[0][0]']    \n",
            "                                                                                                  \n",
            " block_12_expand (Conv2D)       (None, 3, 3, 192)    6144        ['block_11_add[0][0]']           \n",
            "                                                                                                  \n",
            " block_12_expand_BN (BatchNorma  (None, 3, 3, 192)   768         ['block_12_expand[0][0]']        \n",
            " lization)                                                                                        \n",
            "                                                                                                  \n",
            " block_12_expand_relu (ReLU)    (None, 3, 3, 192)    0           ['block_12_expand_BN[0][0]']     \n",
            "                                                                                                  \n",
            " block_12_depthwise (DepthwiseC  (None, 3, 3, 192)   1728        ['block_12_expand_relu[0][0]']   \n",
            " onv2D)                                                                                           \n",
            "                                                                                                  \n",
            " block_12_depthwise_BN (BatchNo  (None, 3, 3, 192)   768         ['block_12_depthwise[0][0]']     \n",
            " rmalization)                                                                                     \n",
            "                                                                                                  \n",
            " block_12_depthwise_relu (ReLU)  (None, 3, 3, 192)   0           ['block_12_depthwise_BN[0][0]']  \n",
            "                                                                                                  \n",
            " block_12_project (Conv2D)      (None, 3, 3, 32)     6144        ['block_12_depthwise_relu[0][0]']\n",
            "                                                                                                  \n",
            " block_12_project_BN (BatchNorm  (None, 3, 3, 32)    128         ['block_12_project[0][0]']       \n",
            " alization)                                                                                       \n",
            "                                                                                                  \n",
            " block_12_add (Add)             (None, 3, 3, 32)     0           ['block_11_add[0][0]',           \n",
            "                                                                  'block_12_project_BN[0][0]']    \n",
            "                                                                                                  \n",
            " block_13_expand (Conv2D)       (None, 3, 3, 192)    6144        ['block_12_add[0][0]']           \n",
            "                                                                                                  \n",
            " block_13_expand_BN (BatchNorma  (None, 3, 3, 192)   768         ['block_13_expand[0][0]']        \n",
            " lization)                                                                                        \n",
            "                                                                                                  \n",
            " block_13_expand_relu (ReLU)    (None, 3, 3, 192)    0           ['block_13_expand_BN[0][0]']     \n",
            "                                                                                                  \n",
            " block_13_pad (ZeroPadding2D)   (None, 5, 5, 192)    0           ['block_13_expand_relu[0][0]']   \n",
            "                                                                                                  \n",
            " block_13_depthwise (DepthwiseC  (None, 2, 2, 192)   1728        ['block_13_pad[0][0]']           \n",
            " onv2D)                                                                                           \n",
            "                                                                                                  \n",
            " block_13_depthwise_BN (BatchNo  (None, 2, 2, 192)   768         ['block_13_depthwise[0][0]']     \n",
            " rmalization)                                                                                     \n",
            "                                                                                                  \n",
            " block_13_depthwise_relu (ReLU)  (None, 2, 2, 192)   0           ['block_13_depthwise_BN[0][0]']  \n",
            "                                                                                                  \n",
            " block_13_project (Conv2D)      (None, 2, 2, 56)     10752       ['block_13_depthwise_relu[0][0]']\n",
            "                                                                                                  \n",
            " block_13_project_BN (BatchNorm  (None, 2, 2, 56)    224         ['block_13_project[0][0]']       \n",
            " alization)                                                                                       \n",
            "                                                                                                  \n",
            " block_14_expand (Conv2D)       (None, 2, 2, 336)    18816       ['block_13_project_BN[0][0]']    \n",
            "                                                                                                  \n",
            " block_14_expand_BN (BatchNorma  (None, 2, 2, 336)   1344        ['block_14_expand[0][0]']        \n",
            " lization)                                                                                        \n",
            "                                                                                                  \n",
            " block_14_expand_relu (ReLU)    (None, 2, 2, 336)    0           ['block_14_expand_BN[0][0]']     \n",
            "                                                                                                  \n",
            " block_14_depthwise (DepthwiseC  (None, 2, 2, 336)   3024        ['block_14_expand_relu[0][0]']   \n",
            " onv2D)                                                                                           \n",
            "                                                                                                  \n",
            " block_14_depthwise_BN (BatchNo  (None, 2, 2, 336)   1344        ['block_14_depthwise[0][0]']     \n",
            " rmalization)                                                                                     \n",
            "                                                                                                  \n",
            " block_14_depthwise_relu (ReLU)  (None, 2, 2, 336)   0           ['block_14_depthwise_BN[0][0]']  \n",
            "                                                                                                  \n",
            " block_14_project (Conv2D)      (None, 2, 2, 56)     18816       ['block_14_depthwise_relu[0][0]']\n",
            "                                                                                                  \n",
            " block_14_project_BN (BatchNorm  (None, 2, 2, 56)    224         ['block_14_project[0][0]']       \n",
            " alization)                                                                                       \n",
            "                                                                                                  \n",
            " block_14_add (Add)             (None, 2, 2, 56)     0           ['block_13_project_BN[0][0]',    \n",
            "                                                                  'block_14_project_BN[0][0]']    \n",
            "                                                                                                  \n",
            " block_15_expand (Conv2D)       (None, 2, 2, 336)    18816       ['block_14_add[0][0]']           \n",
            "                                                                                                  \n",
            " block_15_expand_BN (BatchNorma  (None, 2, 2, 336)   1344        ['block_15_expand[0][0]']        \n",
            " lization)                                                                                        \n",
            "                                                                                                  \n",
            " block_15_expand_relu (ReLU)    (None, 2, 2, 336)    0           ['block_15_expand_BN[0][0]']     \n",
            "                                                                                                  \n",
            " block_15_depthwise (DepthwiseC  (None, 2, 2, 336)   3024        ['block_15_expand_relu[0][0]']   \n",
            " onv2D)                                                                                           \n",
            "                                                                                                  \n",
            " block_15_depthwise_BN (BatchNo  (None, 2, 2, 336)   1344        ['block_15_depthwise[0][0]']     \n",
            " rmalization)                                                                                     \n",
            "                                                                                                  \n",
            " block_15_depthwise_relu (ReLU)  (None, 2, 2, 336)   0           ['block_15_depthwise_BN[0][0]']  \n",
            "                                                                                                  \n",
            " block_15_project (Conv2D)      (None, 2, 2, 56)     18816       ['block_15_depthwise_relu[0][0]']\n",
            "                                                                                                  \n",
            " block_15_project_BN (BatchNorm  (None, 2, 2, 56)    224         ['block_15_project[0][0]']       \n",
            " alization)                                                                                       \n",
            "                                                                                                  \n",
            " block_15_add (Add)             (None, 2, 2, 56)     0           ['block_14_add[0][0]',           \n",
            "                                                                  'block_15_project_BN[0][0]']    \n",
            "                                                                                                  \n",
            " block_16_expand (Conv2D)       (None, 2, 2, 336)    18816       ['block_15_add[0][0]']           \n",
            "                                                                                                  \n",
            " block_16_expand_BN (BatchNorma  (None, 2, 2, 336)   1344        ['block_16_expand[0][0]']        \n",
            " lization)                                                                                        \n",
            "                                                                                                  \n",
            " block_16_expand_relu (ReLU)    (None, 2, 2, 336)    0           ['block_16_expand_BN[0][0]']     \n",
            "                                                                                                  \n",
            " block_16_depthwise (DepthwiseC  (None, 2, 2, 336)   3024        ['block_16_expand_relu[0][0]']   \n",
            " onv2D)                                                                                           \n",
            "                                                                                                  \n",
            " block_16_depthwise_BN (BatchNo  (None, 2, 2, 336)   1344        ['block_16_depthwise[0][0]']     \n",
            " rmalization)                                                                                     \n",
            "                                                                                                  \n",
            " block_16_depthwise_relu (ReLU)  (None, 2, 2, 336)   0           ['block_16_depthwise_BN[0][0]']  \n",
            "                                                                                                  \n",
            " block_16_project (Conv2D)      (None, 2, 2, 112)    37632       ['block_16_depthwise_relu[0][0]']\n",
            "                                                                                                  \n",
            " block_16_project_BN (BatchNorm  (None, 2, 2, 112)   448         ['block_16_project[0][0]']       \n",
            " alization)                                                                                       \n",
            "                                                                                                  \n",
            " Conv_1 (Conv2D)                (None, 2, 2, 1280)   143360      ['block_16_project_BN[0][0]']    \n",
            "                                                                                                  \n",
            " Conv_1_bn (BatchNormalization)  (None, 2, 2, 1280)  5120        ['Conv_1[0][0]']                 \n",
            "                                                                                                  \n",
            " out_relu (ReLU)                (None, 2, 2, 1280)   0           ['Conv_1_bn[0][0]']              \n",
            "                                                                                                  \n",
            " global_average_pooling2d (Glob  (None, 1280)        0           ['out_relu[0][0]']               \n",
            " alAveragePooling2D)                                                                              \n",
            "                                                                                                  \n",
            " dropout (Dropout)              (None, 1280)         0           ['global_average_pooling2d[0][0]'\n",
            "                                                                 ]                                \n",
            "                                                                                                  \n",
            " dense (Dense)                  (None, 4)            5124        ['dropout[0][0]']                \n",
            "                                                                                                  \n",
            "==================================================================================================\n",
            "Total params: 415,332\n",
            "Trainable params: 5,124\n",
            "Non-trainable params: 410,208\n",
            "__________________________________________________________________________________________________\n"
          ]
        }
      ],
      "source": [
        "model.summary()"
      ]
    },
    {
      "attachments": {},
      "cell_type": "markdown",
      "metadata": {
        "id": "25W5CUAVj_I9"
      },
      "source": [
        "### Train the model with 10 epochs"
      ]
    },
    {
      "cell_type": "code",
      "execution_count": 19,
      "metadata": {
        "id": "na0GBGTQkavr"
      },
      "outputs": [
        {
          "name": "stdout",
          "output_type": "stream",
          "text": [
            "Epoch 1/100\n",
            "2/2 [==============================] - 0s 358ms/step - loss: 1.5567 - accuracy: 0.3898 - val_loss: 1.6131 - val_accuracy: 0.2857\n",
            "Epoch 2/100\n",
            "2/2 [==============================] - 0s 355ms/step - loss: 1.3153 - accuracy: 0.4746 - val_loss: 1.6956 - val_accuracy: 0.1429\n",
            "Epoch 3/100\n",
            "2/2 [==============================] - 0s 363ms/step - loss: 1.3695 - accuracy: 0.3559 - val_loss: 1.5257 - val_accuracy: 0.2143\n",
            "Epoch 4/100\n",
            "2/2 [==============================] - 0s 380ms/step - loss: 1.3838 - accuracy: 0.3729 - val_loss: 1.6385 - val_accuracy: 0.2857\n",
            "Epoch 5/100\n",
            "2/2 [==============================] - 0s 393ms/step - loss: 1.5013 - accuracy: 0.3220 - val_loss: 1.6639 - val_accuracy: 0.1429\n",
            "Epoch 6/100\n",
            "2/2 [==============================] - 0s 360ms/step - loss: 1.1206 - accuracy: 0.4746 - val_loss: 1.3223 - val_accuracy: 0.4286\n",
            "Epoch 7/100\n",
            "2/2 [==============================] - 0s 383ms/step - loss: 1.3059 - accuracy: 0.4237 - val_loss: 1.4997 - val_accuracy: 0.3571\n",
            "Epoch 8/100\n",
            "2/2 [==============================] - 0s 349ms/step - loss: 1.1527 - accuracy: 0.5254 - val_loss: 1.3134 - val_accuracy: 0.3571\n",
            "Epoch 9/100\n",
            "2/2 [==============================] - 0s 352ms/step - loss: 1.4023 - accuracy: 0.4068 - val_loss: 1.7376 - val_accuracy: 0.2143\n",
            "Epoch 10/100\n",
            "2/2 [==============================] - 0s 357ms/step - loss: 1.1219 - accuracy: 0.4915 - val_loss: 1.3279 - val_accuracy: 0.4286\n",
            "Epoch 11/100\n",
            "2/2 [==============================] - 0s 413ms/step - loss: 1.3192 - accuracy: 0.4576 - val_loss: 1.3761 - val_accuracy: 0.2857\n",
            "Epoch 12/100\n",
            "2/2 [==============================] - 1s 455ms/step - loss: 1.1862 - accuracy: 0.4915 - val_loss: 1.5136 - val_accuracy: 0.2857\n",
            "Epoch 13/100\n",
            "2/2 [==============================] - 0s 355ms/step - loss: 1.0087 - accuracy: 0.5254 - val_loss: 1.3932 - val_accuracy: 0.4286\n",
            "Epoch 14/100\n",
            "2/2 [==============================] - 0s 440ms/step - loss: 1.1219 - accuracy: 0.5254 - val_loss: 1.3326 - val_accuracy: 0.4286\n",
            "Epoch 15/100\n",
            "2/2 [==============================] - 1s 484ms/step - loss: 1.1317 - accuracy: 0.5085 - val_loss: 1.3498 - val_accuracy: 0.3571\n",
            "Epoch 16/100\n",
            "2/2 [==============================] - 1s 551ms/step - loss: 0.9936 - accuracy: 0.5593 - val_loss: 1.3433 - val_accuracy: 0.3571\n",
            "Epoch 17/100\n",
            "2/2 [==============================] - 1s 544ms/step - loss: 0.9853 - accuracy: 0.5593 - val_loss: 1.5835 - val_accuracy: 0.2857\n",
            "Epoch 18/100\n",
            "2/2 [==============================] - 1s 520ms/step - loss: 1.1846 - accuracy: 0.5424 - val_loss: 1.3311 - val_accuracy: 0.3571\n",
            "Epoch 19/100\n",
            "2/2 [==============================] - 1s 576ms/step - loss: 0.9854 - accuracy: 0.5424 - val_loss: 1.4911 - val_accuracy: 0.2857\n",
            "Epoch 20/100\n",
            "2/2 [==============================] - 1s 557ms/step - loss: 1.0111 - accuracy: 0.5593 - val_loss: 1.5019 - val_accuracy: 0.2857\n",
            "Epoch 21/100\n",
            "2/2 [==============================] - 1s 528ms/step - loss: 1.0922 - accuracy: 0.5763 - val_loss: 1.4176 - val_accuracy: 0.4286\n",
            "Epoch 22/100\n",
            "2/2 [==============================] - 1s 724ms/step - loss: 1.0073 - accuracy: 0.5763 - val_loss: 1.2144 - val_accuracy: 0.5714\n",
            "Epoch 23/100\n",
            "2/2 [==============================] - 1s 599ms/step - loss: 0.9264 - accuracy: 0.6441 - val_loss: 1.2670 - val_accuracy: 0.2857\n",
            "Epoch 24/100\n",
            "2/2 [==============================] - 1s 623ms/step - loss: 0.8618 - accuracy: 0.6949 - val_loss: 1.3193 - val_accuracy: 0.4286\n",
            "Epoch 25/100\n",
            "2/2 [==============================] - 1s 517ms/step - loss: 0.8944 - accuracy: 0.6441 - val_loss: 1.4407 - val_accuracy: 0.4286\n",
            "Epoch 26/100\n",
            "2/2 [==============================] - 1s 624ms/step - loss: 1.0339 - accuracy: 0.6441 - val_loss: 1.6838 - val_accuracy: 0.2857\n",
            "Epoch 27/100\n",
            "2/2 [==============================] - 1s 630ms/step - loss: 0.9139 - accuracy: 0.6610 - val_loss: 1.2130 - val_accuracy: 0.2857\n",
            "Epoch 28/100\n",
            "2/2 [==============================] - 1s 627ms/step - loss: 0.8487 - accuracy: 0.6441 - val_loss: 1.4533 - val_accuracy: 0.2857\n",
            "Epoch 29/100\n",
            "2/2 [==============================] - 1s 532ms/step - loss: 0.9146 - accuracy: 0.6271 - val_loss: 1.0250 - val_accuracy: 0.5000\n",
            "Epoch 30/100\n",
            "2/2 [==============================] - 0s 439ms/step - loss: 0.8311 - accuracy: 0.6780 - val_loss: 1.4817 - val_accuracy: 0.3571\n",
            "Epoch 31/100\n",
            "2/2 [==============================] - 0s 439ms/step - loss: 0.9135 - accuracy: 0.6271 - val_loss: 1.3176 - val_accuracy: 0.4286\n",
            "Epoch 32/100\n",
            "2/2 [==============================] - 0s 440ms/step - loss: 0.9510 - accuracy: 0.5932 - val_loss: 1.3068 - val_accuracy: 0.5000\n",
            "Epoch 33/100\n",
            "2/2 [==============================] - 1s 491ms/step - loss: 0.8468 - accuracy: 0.6949 - val_loss: 1.4441 - val_accuracy: 0.4286\n",
            "Epoch 34/100\n",
            "2/2 [==============================] - 0s 424ms/step - loss: 0.8807 - accuracy: 0.6271 - val_loss: 1.9026 - val_accuracy: 0.2857\n",
            "Epoch 35/100\n",
            "2/2 [==============================] - 0s 420ms/step - loss: 0.9522 - accuracy: 0.6441 - val_loss: 1.2988 - val_accuracy: 0.5000\n",
            "Epoch 36/100\n",
            "2/2 [==============================] - 0s 386ms/step - loss: 0.8758 - accuracy: 0.6780 - val_loss: 1.2479 - val_accuracy: 0.4286\n",
            "Epoch 37/100\n",
            "2/2 [==============================] - 0s 317ms/step - loss: 0.9118 - accuracy: 0.6441 - val_loss: 1.3433 - val_accuracy: 0.4286\n",
            "Epoch 38/100\n",
            "2/2 [==============================] - 0s 333ms/step - loss: 0.8086 - accuracy: 0.6102 - val_loss: 1.2344 - val_accuracy: 0.3571\n",
            "Epoch 39/100\n",
            "2/2 [==============================] - 0s 317ms/step - loss: 0.9045 - accuracy: 0.6780 - val_loss: 1.1586 - val_accuracy: 0.5714\n",
            "Epoch 40/100\n",
            "2/2 [==============================] - 0s 328ms/step - loss: 0.7266 - accuracy: 0.7288 - val_loss: 1.3284 - val_accuracy: 0.2857\n",
            "Epoch 41/100\n",
            "2/2 [==============================] - 0s 319ms/step - loss: 0.8873 - accuracy: 0.6102 - val_loss: 1.4312 - val_accuracy: 0.5714\n",
            "Epoch 42/100\n",
            "2/2 [==============================] - 0s 346ms/step - loss: 0.8106 - accuracy: 0.6780 - val_loss: 1.3091 - val_accuracy: 0.3571\n",
            "Epoch 43/100\n",
            "2/2 [==============================] - 0s 329ms/step - loss: 0.6948 - accuracy: 0.6949 - val_loss: 1.3461 - val_accuracy: 0.4286\n",
            "Epoch 44/100\n",
            "2/2 [==============================] - 0s 319ms/step - loss: 0.8482 - accuracy: 0.7119 - val_loss: 1.3520 - val_accuracy: 0.4286\n",
            "Epoch 45/100\n",
            "2/2 [==============================] - 0s 313ms/step - loss: 0.7314 - accuracy: 0.7288 - val_loss: 1.3274 - val_accuracy: 0.4286\n",
            "Epoch 46/100\n",
            "2/2 [==============================] - 0s 336ms/step - loss: 0.8581 - accuracy: 0.6780 - val_loss: 0.9388 - val_accuracy: 0.5000\n",
            "Epoch 47/100\n",
            "2/2 [==============================] - 0s 338ms/step - loss: 0.7196 - accuracy: 0.6949 - val_loss: 1.2797 - val_accuracy: 0.5000\n",
            "Epoch 48/100\n",
            "2/2 [==============================] - 0s 348ms/step - loss: 0.7350 - accuracy: 0.6949 - val_loss: 1.5443 - val_accuracy: 0.4286\n",
            "Epoch 49/100\n",
            "2/2 [==============================] - 0s 330ms/step - loss: 0.6926 - accuracy: 0.7458 - val_loss: 1.4394 - val_accuracy: 0.3571\n",
            "Epoch 50/100\n",
            "2/2 [==============================] - 0s 434ms/step - loss: 0.6278 - accuracy: 0.7458 - val_loss: 1.2555 - val_accuracy: 0.5714\n",
            "Epoch 51/100\n",
            "2/2 [==============================] - 0s 328ms/step - loss: 0.7452 - accuracy: 0.6780 - val_loss: 1.3930 - val_accuracy: 0.4286\n",
            "Epoch 52/100\n",
            "2/2 [==============================] - 0s 361ms/step - loss: 0.7486 - accuracy: 0.6102 - val_loss: 1.1320 - val_accuracy: 0.5000\n",
            "Epoch 53/100\n",
            "2/2 [==============================] - 0s 352ms/step - loss: 0.7436 - accuracy: 0.6780 - val_loss: 1.0989 - val_accuracy: 0.5714\n",
            "Epoch 54/100\n",
            "2/2 [==============================] - 0s 374ms/step - loss: 0.7219 - accuracy: 0.6271 - val_loss: 1.2787 - val_accuracy: 0.5000\n",
            "Epoch 55/100\n",
            "2/2 [==============================] - 0s 376ms/step - loss: 0.7341 - accuracy: 0.6949 - val_loss: 1.4197 - val_accuracy: 0.5000\n",
            "Epoch 56/100\n",
            "2/2 [==============================] - 0s 340ms/step - loss: 0.7219 - accuracy: 0.6949 - val_loss: 1.4787 - val_accuracy: 0.3571\n",
            "Epoch 57/100\n",
            "2/2 [==============================] - 0s 358ms/step - loss: 0.5628 - accuracy: 0.8644 - val_loss: 1.1732 - val_accuracy: 0.5000\n",
            "Epoch 58/100\n",
            "2/2 [==============================] - 0s 341ms/step - loss: 0.7018 - accuracy: 0.7627 - val_loss: 1.0523 - val_accuracy: 0.3571\n",
            "Epoch 59/100\n",
            "2/2 [==============================] - 0s 350ms/step - loss: 0.6541 - accuracy: 0.7288 - val_loss: 1.2553 - val_accuracy: 0.5714\n",
            "Epoch 60/100\n",
            "2/2 [==============================] - 0s 381ms/step - loss: 0.7714 - accuracy: 0.6780 - val_loss: 1.4099 - val_accuracy: 0.4286\n",
            "Epoch 61/100\n",
            "2/2 [==============================] - 0s 390ms/step - loss: 0.6385 - accuracy: 0.7627 - val_loss: 1.7310 - val_accuracy: 0.2143\n",
            "Epoch 62/100\n",
            "2/2 [==============================] - 1s 582ms/step - loss: 0.8125 - accuracy: 0.7119 - val_loss: 1.2794 - val_accuracy: 0.5714\n",
            "Epoch 63/100\n",
            "2/2 [==============================] - 1s 928ms/step - loss: 0.7248 - accuracy: 0.7458 - val_loss: 1.4234 - val_accuracy: 0.5000\n",
            "Epoch 64/100\n",
            "2/2 [==============================] - 1s 890ms/step - loss: 0.5465 - accuracy: 0.7966 - val_loss: 1.3060 - val_accuracy: 0.5000\n",
            "Epoch 65/100\n",
            "2/2 [==============================] - 2s 2s/step - loss: 0.7074 - accuracy: 0.7119 - val_loss: 1.3398 - val_accuracy: 0.4286\n",
            "Epoch 66/100\n",
            "2/2 [==============================] - 3s 3s/step - loss: 0.6344 - accuracy: 0.7458 - val_loss: 0.9913 - val_accuracy: 0.3571\n",
            "Epoch 67/100\n",
            "2/2 [==============================] - 2s 2s/step - loss: 0.6353 - accuracy: 0.6780 - val_loss: 1.3359 - val_accuracy: 0.5000\n",
            "Epoch 68/100\n",
            "2/2 [==============================] - 2s 2s/step - loss: 0.7136 - accuracy: 0.6949 - val_loss: 1.4633 - val_accuracy: 0.3571\n",
            "Epoch 69/100\n",
            "2/2 [==============================] - 1s 1s/step - loss: 0.7131 - accuracy: 0.6949 - val_loss: 1.4308 - val_accuracy: 0.2857\n",
            "Epoch 70/100\n",
            "2/2 [==============================] - 1s 1s/step - loss: 0.6628 - accuracy: 0.6949 - val_loss: 1.5270 - val_accuracy: 0.4286\n",
            "Epoch 71/100\n",
            "2/2 [==============================] - 1s 748ms/step - loss: 0.5580 - accuracy: 0.7966 - val_loss: 1.2824 - val_accuracy: 0.5714\n",
            "Epoch 72/100\n",
            "2/2 [==============================] - 1s 907ms/step - loss: 0.5522 - accuracy: 0.7797 - val_loss: 1.2337 - val_accuracy: 0.2857\n",
            "Epoch 73/100\n",
            "2/2 [==============================] - 1s 517ms/step - loss: 0.5649 - accuracy: 0.8136 - val_loss: 1.2225 - val_accuracy: 0.6429\n",
            "Epoch 74/100\n",
            "2/2 [==============================] - 1s 489ms/step - loss: 0.6822 - accuracy: 0.7458 - val_loss: 1.6435 - val_accuracy: 0.5000\n",
            "Epoch 75/100\n",
            "2/2 [==============================] - 1s 530ms/step - loss: 0.7444 - accuracy: 0.7458 - val_loss: 1.4821 - val_accuracy: 0.5000\n",
            "Epoch 76/100\n",
            "2/2 [==============================] - 1s 530ms/step - loss: 0.6114 - accuracy: 0.7966 - val_loss: 1.3503 - val_accuracy: 0.5000\n",
            "Epoch 77/100\n",
            "2/2 [==============================] - 0s 336ms/step - loss: 0.6971 - accuracy: 0.7288 - val_loss: 1.4266 - val_accuracy: 0.5000\n",
            "Epoch 78/100\n",
            "2/2 [==============================] - 0s 325ms/step - loss: 0.5784 - accuracy: 0.7627 - val_loss: 1.1635 - val_accuracy: 0.4286\n",
            "Epoch 79/100\n",
            "2/2 [==============================] - 0s 313ms/step - loss: 0.6033 - accuracy: 0.7458 - val_loss: 1.5230 - val_accuracy: 0.5000\n",
            "Epoch 80/100\n",
            "2/2 [==============================] - 0s 369ms/step - loss: 0.6065 - accuracy: 0.7288 - val_loss: 1.2896 - val_accuracy: 0.5714\n",
            "Epoch 81/100\n",
            "2/2 [==============================] - 0s 316ms/step - loss: 0.5869 - accuracy: 0.7627 - val_loss: 1.4890 - val_accuracy: 0.2857\n",
            "Epoch 82/100\n",
            "2/2 [==============================] - 0s 398ms/step - loss: 0.6452 - accuracy: 0.8136 - val_loss: 1.0288 - val_accuracy: 0.5714\n",
            "Epoch 83/100\n",
            "2/2 [==============================] - 0s 360ms/step - loss: 0.6081 - accuracy: 0.7627 - val_loss: 1.3198 - val_accuracy: 0.4286\n",
            "Epoch 84/100\n",
            "2/2 [==============================] - 0s 337ms/step - loss: 0.6703 - accuracy: 0.7797 - val_loss: 1.5259 - val_accuracy: 0.5000\n",
            "Epoch 85/100\n",
            "2/2 [==============================] - 0s 355ms/step - loss: 0.5467 - accuracy: 0.7797 - val_loss: 1.8185 - val_accuracy: 0.4286\n",
            "Epoch 86/100\n",
            "2/2 [==============================] - 0s 416ms/step - loss: 0.7543 - accuracy: 0.7288 - val_loss: 1.5165 - val_accuracy: 0.5000\n",
            "Epoch 87/100\n",
            "2/2 [==============================] - 0s 332ms/step - loss: 0.6002 - accuracy: 0.7966 - val_loss: 1.0991 - val_accuracy: 0.5000\n",
            "Epoch 88/100\n",
            "2/2 [==============================] - 0s 319ms/step - loss: 0.5680 - accuracy: 0.8136 - val_loss: 1.6572 - val_accuracy: 0.4286\n",
            "Epoch 89/100\n",
            "2/2 [==============================] - 0s 328ms/step - loss: 0.4957 - accuracy: 0.8136 - val_loss: 1.4424 - val_accuracy: 0.5714\n",
            "Epoch 90/100\n",
            "2/2 [==============================] - 0s 330ms/step - loss: 0.5515 - accuracy: 0.7797 - val_loss: 1.6578 - val_accuracy: 0.4286\n",
            "Epoch 91/100\n",
            "2/2 [==============================] - 0s 327ms/step - loss: 0.5056 - accuracy: 0.8305 - val_loss: 1.4513 - val_accuracy: 0.5000\n",
            "Epoch 92/100\n",
            "2/2 [==============================] - 0s 352ms/step - loss: 0.6054 - accuracy: 0.7797 - val_loss: 1.1821 - val_accuracy: 0.4286\n",
            "Epoch 93/100\n",
            "2/2 [==============================] - 0s 326ms/step - loss: 0.5561 - accuracy: 0.8136 - val_loss: 1.5454 - val_accuracy: 0.4286\n",
            "Epoch 94/100\n",
            "2/2 [==============================] - 0s 317ms/step - loss: 0.6234 - accuracy: 0.8136 - val_loss: 1.0800 - val_accuracy: 0.3571\n",
            "Epoch 95/100\n",
            "2/2 [==============================] - 0s 373ms/step - loss: 0.5678 - accuracy: 0.7288 - val_loss: 1.1223 - val_accuracy: 0.6429\n",
            "Epoch 96/100\n",
            "2/2 [==============================] - 0s 329ms/step - loss: 0.5537 - accuracy: 0.7458 - val_loss: 1.2682 - val_accuracy: 0.5714\n",
            "Epoch 97/100\n",
            "2/2 [==============================] - 0s 325ms/step - loss: 0.5361 - accuracy: 0.7966 - val_loss: 1.5110 - val_accuracy: 0.4286\n",
            "Epoch 98/100\n",
            "2/2 [==============================] - 0s 348ms/step - loss: 0.5174 - accuracy: 0.8136 - val_loss: 1.6206 - val_accuracy: 0.4286\n",
            "Epoch 99/100\n",
            "2/2 [==============================] - 0s 343ms/step - loss: 0.5003 - accuracy: 0.8475 - val_loss: 1.1951 - val_accuracy: 0.4286\n",
            "Epoch 100/100\n",
            "2/2 [==============================] - 0s 335ms/step - loss: 0.6722 - accuracy: 0.7288 - val_loss: 1.3538 - val_accuracy: 0.5000\n"
          ]
        },
        {
          "data": {
            "text/plain": [
              "<keras.callbacks.History at 0x7f698835bbb0>"
            ]
          },
          "execution_count": 19,
          "metadata": {},
          "output_type": "execute_result"
        }
      ],
      "source": [
        "model.fit(\n",
        "  train_ds,\n",
        "  validation_data=val_ds,\n",
        "  epochs=100\n",
        ")"
      ]
    },
    {
      "attachments": {},
      "cell_type": "markdown",
      "metadata": {
        "id": "U0tsAdGikFa_"
      },
      "source": [
        "### Save the TensorFlow model"
      ]
    },
    {
      "cell_type": "code",
      "execution_count": 17,
      "metadata": {
        "id": "rOUI3vtLtYKh"
      },
      "outputs": [
        {
          "name": "stderr",
          "output_type": "stream",
          "text": [
            "WARNING:absl:Found untraced functions such as _jit_compiled_convolution_op, _jit_compiled_convolution_op, _jit_compiled_convolution_op, _jit_compiled_convolution_op, _jit_compiled_convolution_op while saving (showing 5 of 53). These functions will not be directly callable after loading.\n"
          ]
        },
        {
          "name": "stdout",
          "output_type": "stream",
          "text": [
            "INFO:tensorflow:Assets written to: indoor_scene_recognition/assets\n"
          ]
        },
        {
          "name": "stderr",
          "output_type": "stream",
          "text": [
            "INFO:tensorflow:Assets written to: indoor_scene_recognition/assets\n"
          ]
        }
      ],
      "source": [
        "model.save(TF_MODEL)"
      ]
    },
    {
      "attachments": {},
      "cell_type": "markdown",
      "metadata": {
        "id": "KntdZZ5ruM7Z"
      },
      "source": [
        "## Preparing and testing the quantized TFLite model"
      ]
    },
    {
      "attachments": {},
      "cell_type": "markdown",
      "metadata": {
        "id": "srHkdaf_kk97"
      },
      "source": [
        "### Unzip the test dataset (test_samples.zip)"
      ]
    },
    {
      "cell_type": "code",
      "execution_count": null,
      "metadata": {
        "id": "ZxnVbqxkkspY"
      },
      "outputs": [],
      "source": [
        "with zipfile.ZipFile(\"test_samples.zip\", 'r') as zip_ref:\n",
        "    zip_ref.extractall(\".\")\n",
        "test_dir = \"dataset\""
      ]
    },
    {
      "attachments": {},
      "cell_type": "markdown",
      "metadata": {
        "id": "jzTiU6qQk_Bv"
      },
      "source": [
        "### Rescale the pixel values from [0, 255] to [-1, 1]"
      ]
    },
    {
      "cell_type": "code",
      "execution_count": null,
      "metadata": {
        "id": "vYHpua21lGXp"
      },
      "outputs": [],
      "source": [
        "test_ds = tf.keras.utils.image_dataset_from_directory(test_dir,\n",
        "                                                      interpolation=\"bilinear\",\n",
        "                                                      image_size=(MODEL_INPUT_WIDTH, MODEL_INPUT_HEIGHT))\n",
        "test_ds  = test_ds.map(lambda x, y: (rescale(x), y))"
      ]
    },
    {
      "attachments": {},
      "cell_type": "markdown",
      "metadata": {
        "id": "riqPFiWllkdg"
      },
      "source": [
        "### Quantize the TensorFlow model with the TFLite converter"
      ]
    },
    {
      "cell_type": "code",
      "execution_count": null,
      "metadata": {
        "id": "ALWbwZKBuNl8"
      },
      "outputs": [],
      "source": [
        "repr_ds = test_ds.unbatch()\n",
        "\n",
        "def representative_data_gen():\n",
        "  for i_value, o_value in repr_ds.batch(1).take(48):\n",
        "    yield [i_value]\n",
        "\n",
        "converter = tf.lite.TFLiteConverter.from_saved_model(TF_MODEL)\n",
        "converter.representative_dataset = tf.lite.RepresentativeDataset(representative_data_gen)\n",
        "converter.optimizations = [tf.lite.Optimize.DEFAULT]\n",
        "converter.target_spec.supported_ops = [tf.lite.OpsSet.TFLITE_BUILTINS_INT8]\n",
        "converter.inference_input_type = tf.int8\n",
        "\n",
        "tfl_model = converter.convert()"
      ]
    },
    {
      "attachments": {},
      "cell_type": "markdown",
      "metadata": {
        "id": "nQg4FbwzluB8"
      },
      "source": [
        "### Get the TFLite model size in bytes"
      ]
    },
    {
      "cell_type": "code",
      "execution_count": null,
      "metadata": {
        "id": "IFIpV1uUlxiZ"
      },
      "outputs": [],
      "source": [
        "size_tfl_model = len(tfl_model)\n",
        "print(len(tfl_model), \"bytes\")"
      ]
    },
    {
      "attachments": {},
      "cell_type": "markdown",
      "metadata": {
        "id": "1Br6hq8Cl4nU"
      },
      "source": [
        "### Initialize the TFLite interpreter"
      ]
    },
    {
      "cell_type": "code",
      "execution_count": null,
      "metadata": {
        "id": "ACsaQjxzP2Wd"
      },
      "outputs": [],
      "source": [
        "# Initialize the TFLite interpreter\n",
        "interpreter = tf.lite.Interpreter(model_content=tfl_model)\n",
        "\n",
        "# Allocate the tensors\n",
        "interpreter.allocate_tensors()"
      ]
    },
    {
      "attachments": {},
      "cell_type": "markdown",
      "metadata": {
        "id": "OxxhFk-7l9J2"
      },
      "source": [
        "### Get input quantization parameters"
      ]
    },
    {
      "cell_type": "code",
      "execution_count": null,
      "metadata": {
        "id": "nrH3uM8Gl_Hg"
      },
      "outputs": [],
      "source": [
        "# Get input/output layer information\n",
        "i_details = interpreter.get_input_details()[0]\n",
        "o_details = interpreter.get_output_details()[0]\n",
        "\n",
        "# Get input quantization parameters.\n",
        "i_quant = i_details[\"quantization_parameters\"]\n",
        "i_scale      = i_quant['scales'][0]\n",
        "i_zero_point = i_quant['zero_points'][0]"
      ]
    },
    {
      "attachments": {},
      "cell_type": "markdown",
      "metadata": {
        "id": "WQcFhKfumT1B"
      },
      "source": [
        "### Evaluate the accuracy of the quantized TFLite model"
      ]
    },
    {
      "cell_type": "code",
      "execution_count": null,
      "metadata": {
        "id": "1vlIBfMHmWT-"
      },
      "outputs": [],
      "source": [
        "test_ds0 = val_ds.unbatch()\n",
        "\n",
        "num_correct_samples = 0\n",
        "num_total_samples   = len(list(test_ds0.batch(1)))\n",
        "\n",
        "for i_value, o_value in test_ds0.batch(1):\n",
        "  i_value = (i_value / i_scale) + i_zero_point\n",
        "  i_value = tf.cast(i_value, dtype=tf.int8)\n",
        "  interpreter.set_tensor(i_details[\"index\"], i_value)\n",
        "  interpreter.invoke()\n",
        "  o_pred = interpreter.get_tensor(o_details[\"index\"])[0]\n",
        "\n",
        "  if np.argmax(o_pred) == o_value:\n",
        "    num_correct_samples += 1\n",
        "\n",
        "print(\"Accuracy:\", num_correct_samples/num_total_samples)"
      ]
    },
    {
      "attachments": {},
      "cell_type": "markdown",
      "metadata": {
        "id": "tM-ZaNUHmkBm"
      },
      "source": [
        "### Convert the TFLite model to C-byte array with xxd"
      ]
    },
    {
      "cell_type": "code",
      "execution_count": null,
      "metadata": {
        "id": "3kAnQgmI0QK_"
      },
      "outputs": [],
      "source": [
        "open(\"model.tflite\", \"wb\").write(tfl_model)\n",
        "!apt-get update && apt-get -qq install xxd\n",
        "!xxd -c 60 -i model.tflite > indoor_scene_recognition.h"
      ]
    }
  ],
  "metadata": {
    "accelerator": "GPU",
    "colab": {
      "collapsed_sections": [],
      "name": "chapter05.ipynb",
      "provenance": []
    },
    "kernelspec": {
      "display_name": "Python 3",
      "name": "python3"
    },
    "language_info": {
      "codemirror_mode": {
        "name": "ipython",
        "version": 3
      },
      "file_extension": ".py",
      "mimetype": "text/x-python",
      "name": "python",
      "nbconvert_exporter": "python",
      "pygments_lexer": "ipython3",
      "version": "3.10.6"
    }
  },
  "nbformat": 4,
  "nbformat_minor": 0
}
