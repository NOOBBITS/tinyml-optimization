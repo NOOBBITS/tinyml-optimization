{
  "cells": [
    {
      "attachments": {},
      "cell_type": "markdown",
      "metadata": {
        "id": "7xc2grXmGVo4"
      },
      "source": [
        "# Chapter 5 - Indoor Scene Classification with TFLu and the Arduino Nano"
      ]
    },
    {
      "cell_type": "code",
      "execution_count": 44,
      "metadata": {
        "id": "bAenHrKFofOR"
      },
      "outputs": [],
      "source": [
        "# %tensorflow_version 2.x"
      ]
    },
    {
      "attachments": {},
      "cell_type": "markdown",
      "metadata": {
        "id": "bCS8r9jvlfFi"
      },
      "source": [
        "### Python libraries"
      ]
    },
    {
      "cell_type": "code",
      "execution_count": 45,
      "metadata": {
        "id": "9IzYsIvDlgx_"
      },
      "outputs": [],
      "source": [
        "import numpy as np\n",
        "import pathlib\n",
        "#!export PROTOCOL_BUFFERS_PYTHON_IMPLEMENTATION=python\n",
        "import tensorflow as tf\n",
        "#import tensorflow_datasets as tfds\n",
        "import zipfile\n",
        "from tensorflow.keras.applications.mobilenet_v2 import MobileNetV2\n",
        "# from tensorflow.keras.models import Model\n",
        "import matplotlib.pyplot as plt"
      ]
    },
    {
      "attachments": {},
      "cell_type": "markdown",
      "metadata": {
        "id": "EJchRFEmnwvl"
      },
      "source": [
        "### Constants"
      ]
    },
    {
      "cell_type": "code",
      "execution_count": 46,
      "metadata": {
        "id": "6VGtgqiVFaY1"
      },
      "outputs": [],
      "source": [
        "MODEL_ALPHA = 0.35\n",
        "MODEL_INPUT_WIDTH = 64\n",
        "MODEL_INPUT_HEIGHT = 64\n",
        "TFL_MODEL_FILE = \"temp.tflite\"\n",
        "TFL_MODEL_HEADER_FILE = \"temp_model.h\"\n",
        "TF_MODEL = \"temp\""
      ]
    },
    {
      "attachments": {},
      "cell_type": "markdown",
      "metadata": {
        "id": "3J8L3YW_htYw"
      },
      "source": [
        "## Transfer learning with Keras"
      ]
    },
    {
      "attachments": {},
      "cell_type": "markdown",
      "metadata": {
        "id": "YSlp-mPQhwuY"
      },
      "source": [
        "### Unzip the dataset (dataset.zip) SKIP THIS STEP\n"
      ]
    },
    {
      "cell_type": "code",
      "execution_count": 47,
      "metadata": {
        "id": "Tp1VN1OZGuEn"
      },
      "outputs": [],
      "source": [
        "# with zipfile.ZipFile(\"dataset.zip\", 'r') as zip_ref:\n",
        "#   zip_ref.extractall(\".\")\n",
        "# data_dir = \"dataset\""
      ]
    },
    {
      "attachments": {},
      "cell_type": "markdown",
      "metadata": {
        "id": "HMqMhiuvGpam"
      },
      "source": [
        "### Prepare the train (80%) and validation (20%) datasets"
      ]
    },
    {
      "cell_type": "code",
      "execution_count": 48,
      "metadata": {
        "id": "jKZ4L-wsBktr"
      },
      "outputs": [
        {
          "name": "stdout",
          "output_type": "stream",
          "text": [
            "Found 145 files belonging to 3 classes.\n",
            "Using 116 files for training.\n",
            "Found 145 files belonging to 3 classes.\n",
            "Using 29 files for validation.\n"
          ]
        }
      ],
      "source": [
        "data_dir=\"edited_dataset\"\n",
        "train_ds = tf.keras.utils.image_dataset_from_directory(\n",
        "  data_dir,\n",
        "  validation_split=0.2,\n",
        "  subset=\"training\",\n",
        "  seed=123,\n",
        "  interpolation=\"bilinear\",\n",
        "  image_size=(MODEL_INPUT_WIDTH, MODEL_INPUT_HEIGHT)\n",
        "  )\n",
        "\n",
        "val_ds = tf.keras.utils.image_dataset_from_directory(\n",
        "  data_dir,\n",
        "  validation_split=0.2,\n",
        "  subset=\"validation\",\n",
        "  seed=123,\n",
        "  interpolation=\"bilinear\",\n",
        "  image_size=(MODEL_INPUT_WIDTH, MODEL_INPUT_HEIGHT)\n",
        "  )"
      ]
    },
    {
      "attachments": {},
      "cell_type": "markdown",
      "metadata": {
        "id": "mWxKsXM0iMxj"
      },
      "source": [
        "### Get the name of the classes"
      ]
    },
    {
      "cell_type": "code",
      "execution_count": 49,
      "metadata": {
        "id": "zLWkCbjYDVHJ"
      },
      "outputs": [
        {
          "name": "stdout",
          "output_type": "stream",
          "text": [
            "['paper', 'rock', 'scissors']\n"
          ]
        }
      ],
      "source": [
        "class_names = train_ds.class_names\n",
        "num_classes = len(class_names)\n",
        "print(class_names)"
      ]
    },
    {
      "attachments": {},
      "cell_type": "markdown",
      "metadata": {
        "id": "vEsZQCsUHaeb"
      },
      "source": [
        "### Rescale the pixel values from [0, 255] to [-1, 1]"
      ]
    },
    {
      "cell_type": "code",
      "execution_count": 50,
      "metadata": {
        "id": "-lFJZj50HhMV"
      },
      "outputs": [],
      "source": [
        "rescale = tf.keras.layers.Rescaling(1./127.5, offset= -1)\n",
        "train_ds = train_ds.map(lambda x, y: (rescale(x), y))\n",
        "val_ds   = val_ds.map(lambda x, y: (rescale(x), y))"
      ]
    },
    {
      "attachments": {},
      "cell_type": "markdown",
      "metadata": {
        "id": "OK0nFgtFSwsF"
      },
      "source": [
        "### Import the MobileNet v2 pre-trained model"
      ]
    },
    {
      "cell_type": "code",
      "execution_count": 51,
      "metadata": {
        "id": "DbhSn1Bl-LZ7"
      },
      "outputs": [
        {
          "name": "stdout",
          "output_type": "stream",
          "text": [
            "WARNING:tensorflow:`input_shape` is undefined or non-square, or `rows` is not in [96, 128, 160, 192, 224]. Weights for input shape (224, 224) will be loaded as the default.\n"
          ]
        }
      ],
      "source": [
        "# https://github.com/keras-team/keras-applications/blob/master/keras_applications/mobilenet_v2.py\n",
        "base_model = MobileNetV2(input_shape=(MODEL_INPUT_WIDTH, MODEL_INPUT_HEIGHT, 3),\n",
        "                         include_top=False,\n",
        "                         weights='imagenet',\n",
        "                         alpha=MODEL_ALPHA)\n",
        "base_model.trainable = True\n",
        "\n",
        "feat_extr = base_model"
      ]
    },
    {
      "attachments": {},
      "cell_type": "markdown",
      "metadata": {
        "id": "lOCL5dx-MmlD"
      },
      "source": [
        "### Augment the input data"
      ]
    },
    {
      "cell_type": "code",
      "execution_count": 52,
      "metadata": {
        "id": "7ebIppPRjUKF"
      },
      "outputs": [
        {
          "name": "stdout",
          "output_type": "stream",
          "text": [
            "WARNING:tensorflow:Using a while_loop for converting RngReadAndSkip cause there is no registered converter for this op.\n",
            "WARNING:tensorflow:Using a while_loop for converting Bitcast cause there is no registered converter for this op.\n",
            "WARNING:tensorflow:Using a while_loop for converting Bitcast cause there is no registered converter for this op.\n",
            "WARNING:tensorflow:Using a while_loop for converting StatelessRandomUniformV2 cause there is no registered converter for this op.\n",
            "WARNING:tensorflow:Using a while_loop for converting ImageProjectiveTransformV3 cause there is no registered converter for this op.\n",
            "WARNING:tensorflow:Using a while_loop for converting RngReadAndSkip cause there is no registered converter for this op.\n",
            "WARNING:tensorflow:Using a while_loop for converting Bitcast cause there is no registered converter for this op.\n",
            "WARNING:tensorflow:Using a while_loop for converting Bitcast cause there is no registered converter for this op.\n",
            "WARNING:tensorflow:Using a while_loop for converting StatelessRandomUniformV2 cause there is no registered converter for this op.\n",
            "WARNING:tensorflow:Using a while_loop for converting ImageProjectiveTransformV3 cause there is no registered converter for this op.\n"
          ]
        }
      ],
      "source": [
        "augmen = tf.keras.Sequential([\n",
        "  tf.keras.layers.experimental.preprocessing.RandomRotation(0.2),\n",
        "  tf.keras.layers.experimental.preprocessing.RandomFlip('horizontal'),\n",
        "  #tf.keras.layers.experimental.preprocessing.RandomZoom(0.1, 0.1),\n",
        "  # tf.keras.layers.experimental.preprocessing.RandomTranslation(0.1, 0.1)\n",
        "])\n",
        "\n",
        "train_ds = train_ds.map(lambda x, y: (augmen(x), y))\n",
        "# val_ds   = val_ds.map(lambda x, y: (augmen(x), y))"
      ]
    },
    {
      "attachments": {},
      "cell_type": "markdown",
      "metadata": {
        "id": "Qhw11eldjZoz"
      },
      "source": [
        "### Prepare the classification head"
      ]
    },
    {
      "cell_type": "code",
      "execution_count": 53,
      "metadata": {
        "id": "gC5CVjRNMn7q"
      },
      "outputs": [],
      "source": [
        "global_avg_layer = tf.keras.layers.GlobalAveragePooling2D()\n",
        "dense_layer = tf.keras.layers.Dense(num_classes, activation='softmax')"
      ]
    },
    {
      "attachments": {},
      "cell_type": "markdown",
      "metadata": {
        "id": "IZYMkd0yM5tb"
      },
      "source": [
        "### Build the model architecture"
      ]
    },
    {
      "cell_type": "code",
      "execution_count": 54,
      "metadata": {
        "id": "r-DTz_x5M7bg"
      },
      "outputs": [],
      "source": [
        "inputs = tf.keras.Input(shape=(MODEL_INPUT_WIDTH, MODEL_INPUT_HEIGHT, 3))\n",
        "x = global_avg_layer(feat_extr.layers[-1].output)\n",
        "x = tf.keras.layers.Dropout(0.2)(x)\n",
        "outputs = dense_layer(x)\n",
        "model = tf.keras.Model(inputs=feat_extr.inputs, outputs=outputs)"
      ]
    },
    {
      "attachments": {},
      "cell_type": "markdown",
      "metadata": {
        "id": "X4AoQHO1j1a3"
      },
      "source": [
        "### Compile the model with a 0.0005 learning rate"
      ]
    },
    {
      "cell_type": "code",
      "execution_count": 55,
      "metadata": {
        "id": "ZHPUqQNijqE5"
      },
      "outputs": [],
      "source": [
        "lr = 0.0001\n",
        "model.compile(\n",
        "  optimizer=tf.keras.optimizers.Adam(learning_rate=lr),\n",
        "  loss=tf.losses.SparseCategoricalCrossentropy(from_logits=False),\n",
        "  metrics=['accuracy'])"
      ]
    },
    {
      "attachments": {},
      "cell_type": "markdown",
      "metadata": {
        "id": "x4M-8ftzj89-"
      },
      "source": [
        "### Model summary"
      ]
    },
    {
      "cell_type": "code",
      "execution_count": 56,
      "metadata": {
        "id": "WFXJSd6fj415"
      },
      "outputs": [],
      "source": [
        "# model.summary()"
      ]
    },
    {
      "attachments": {},
      "cell_type": "markdown",
      "metadata": {
        "id": "25W5CUAVj_I9"
      },
      "source": [
        "### Train the model with 10 epochs"
      ]
    },
    {
      "cell_type": "code",
      "execution_count": 57,
      "metadata": {
        "id": "na0GBGTQkavr"
      },
      "outputs": [
        {
          "name": "stdout",
          "output_type": "stream",
          "text": [
            "Epoch 1/100\n",
            "4/4 [==============================] - 30s 924ms/step - loss: 1.7311 - accuracy: 0.2759 - val_loss: 1.3973 - val_accuracy: 0.2414\n",
            "Epoch 2/100\n",
            "4/4 [==============================] - 2s 472ms/step - loss: 1.2908 - accuracy: 0.4569 - val_loss: 1.3478 - val_accuracy: 0.3103\n",
            "Epoch 3/100\n",
            "4/4 [==============================] - 1s 251ms/step - loss: 1.3570 - accuracy: 0.4397 - val_loss: 1.2858 - val_accuracy: 0.3103\n",
            "Epoch 4/100\n",
            "4/4 [==============================] - 1s 230ms/step - loss: 1.2951 - accuracy: 0.4655 - val_loss: 1.2192 - val_accuracy: 0.3793\n",
            "Epoch 5/100\n",
            "4/4 [==============================] - 1s 212ms/step - loss: 1.1956 - accuracy: 0.4828 - val_loss: 1.1456 - val_accuracy: 0.4483\n",
            "Epoch 6/100\n",
            "4/4 [==============================] - 1s 211ms/step - loss: 1.1042 - accuracy: 0.5000 - val_loss: 1.0810 - val_accuracy: 0.5172\n",
            "Epoch 7/100\n",
            "4/4 [==============================] - 1s 219ms/step - loss: 0.8705 - accuracy: 0.6121 - val_loss: 1.0456 - val_accuracy: 0.5172\n",
            "Epoch 8/100\n",
            "4/4 [==============================] - 1s 213ms/step - loss: 0.9912 - accuracy: 0.5603 - val_loss: 1.0194 - val_accuracy: 0.5517\n",
            "Epoch 9/100\n",
            "4/4 [==============================] - 1s 221ms/step - loss: 0.8880 - accuracy: 0.6034 - val_loss: 1.0128 - val_accuracy: 0.5517\n",
            "Epoch 10/100\n",
            "4/4 [==============================] - 1s 210ms/step - loss: 0.7609 - accuracy: 0.6552 - val_loss: 1.0220 - val_accuracy: 0.5517\n",
            "Epoch 11/100\n",
            "4/4 [==============================] - 1s 223ms/step - loss: 0.6658 - accuracy: 0.7155 - val_loss: 1.0328 - val_accuracy: 0.5517\n",
            "Epoch 12/100\n",
            "4/4 [==============================] - 1s 223ms/step - loss: 0.7022 - accuracy: 0.6810 - val_loss: 1.0268 - val_accuracy: 0.5517\n",
            "Epoch 13/100\n",
            "4/4 [==============================] - 1s 222ms/step - loss: 0.6341 - accuracy: 0.7155 - val_loss: 1.0127 - val_accuracy: 0.5517\n",
            "Epoch 14/100\n",
            "4/4 [==============================] - 1s 226ms/step - loss: 0.5797 - accuracy: 0.7672 - val_loss: 1.0034 - val_accuracy: 0.5517\n",
            "Epoch 15/100\n",
            "4/4 [==============================] - 1s 215ms/step - loss: 0.5806 - accuracy: 0.7586 - val_loss: 0.9873 - val_accuracy: 0.5517\n",
            "Epoch 16/100\n",
            "4/4 [==============================] - 1s 229ms/step - loss: 0.8126 - accuracy: 0.7069 - val_loss: 0.9591 - val_accuracy: 0.5862\n",
            "Epoch 17/100\n",
            "4/4 [==============================] - 1s 218ms/step - loss: 0.6583 - accuracy: 0.7500 - val_loss: 0.9280 - val_accuracy: 0.5862\n",
            "Epoch 18/100\n",
            "4/4 [==============================] - 1s 217ms/step - loss: 0.6228 - accuracy: 0.7759 - val_loss: 0.9097 - val_accuracy: 0.5862\n",
            "Epoch 19/100\n",
            "4/4 [==============================] - 1s 222ms/step - loss: 0.5728 - accuracy: 0.7414 - val_loss: 0.8791 - val_accuracy: 0.5862\n",
            "Epoch 20/100\n",
            "4/4 [==============================] - 1s 223ms/step - loss: 0.5441 - accuracy: 0.8017 - val_loss: 0.8505 - val_accuracy: 0.6207\n",
            "Epoch 21/100\n",
            "4/4 [==============================] - 1s 215ms/step - loss: 0.5218 - accuracy: 0.7759 - val_loss: 0.8271 - val_accuracy: 0.6552\n",
            "Epoch 22/100\n",
            "4/4 [==============================] - 1s 222ms/step - loss: 0.6330 - accuracy: 0.7500 - val_loss: 0.8160 - val_accuracy: 0.6552\n",
            "Epoch 23/100\n",
            "4/4 [==============================] - 1s 222ms/step - loss: 0.4927 - accuracy: 0.7672 - val_loss: 0.8081 - val_accuracy: 0.6552\n",
            "Epoch 24/100\n",
            "4/4 [==============================] - 1s 216ms/step - loss: 0.4609 - accuracy: 0.8534 - val_loss: 0.8090 - val_accuracy: 0.6552\n",
            "Epoch 25/100\n",
            "4/4 [==============================] - 1s 213ms/step - loss: 0.6320 - accuracy: 0.7672 - val_loss: 0.8064 - val_accuracy: 0.6552\n",
            "Epoch 26/100\n",
            "4/4 [==============================] - 1s 220ms/step - loss: 0.3469 - accuracy: 0.8707 - val_loss: 0.8072 - val_accuracy: 0.6552\n",
            "Epoch 27/100\n",
            "4/4 [==============================] - 1s 206ms/step - loss: 0.4869 - accuracy: 0.8362 - val_loss: 0.8124 - val_accuracy: 0.6552\n",
            "Epoch 28/100\n",
            "4/4 [==============================] - 1s 210ms/step - loss: 0.3909 - accuracy: 0.8621 - val_loss: 0.8080 - val_accuracy: 0.6552\n",
            "Epoch 29/100\n",
            "4/4 [==============================] - 1s 208ms/step - loss: 0.4689 - accuracy: 0.8276 - val_loss: 0.7968 - val_accuracy: 0.6897\n",
            "Epoch 30/100\n",
            "4/4 [==============================] - 1s 213ms/step - loss: 0.4316 - accuracy: 0.8103 - val_loss: 0.7938 - val_accuracy: 0.6897\n",
            "Epoch 31/100\n",
            "4/4 [==============================] - 1s 218ms/step - loss: 0.2886 - accuracy: 0.9052 - val_loss: 0.7962 - val_accuracy: 0.7241\n",
            "Epoch 32/100\n",
            "4/4 [==============================] - 1s 211ms/step - loss: 0.3163 - accuracy: 0.8879 - val_loss: 0.7971 - val_accuracy: 0.7241\n",
            "Epoch 33/100\n",
            "4/4 [==============================] - 1s 216ms/step - loss: 0.3341 - accuracy: 0.8966 - val_loss: 0.8186 - val_accuracy: 0.7241\n",
            "Epoch 34/100\n",
            "4/4 [==============================] - 1s 221ms/step - loss: 0.3520 - accuracy: 0.8793 - val_loss: 0.8289 - val_accuracy: 0.7241\n",
            "Epoch 35/100\n",
            "4/4 [==============================] - 1s 219ms/step - loss: 0.3354 - accuracy: 0.8707 - val_loss: 0.8224 - val_accuracy: 0.7241\n",
            "Epoch 36/100\n",
            "4/4 [==============================] - 1s 216ms/step - loss: 0.2378 - accuracy: 0.9138 - val_loss: 0.7910 - val_accuracy: 0.7241\n",
            "Epoch 37/100\n",
            "4/4 [==============================] - 1s 219ms/step - loss: 0.3244 - accuracy: 0.8707 - val_loss: 0.7530 - val_accuracy: 0.7241\n",
            "Epoch 38/100\n",
            "4/4 [==============================] - 1s 219ms/step - loss: 0.2848 - accuracy: 0.8879 - val_loss: 0.7231 - val_accuracy: 0.7241\n",
            "Epoch 39/100\n",
            "4/4 [==============================] - 1s 214ms/step - loss: 0.2467 - accuracy: 0.8966 - val_loss: 0.7040 - val_accuracy: 0.7241\n",
            "Epoch 40/100\n",
            "4/4 [==============================] - 1s 215ms/step - loss: 0.2712 - accuracy: 0.9052 - val_loss: 0.6865 - val_accuracy: 0.7241\n",
            "Epoch 41/100\n",
            "4/4 [==============================] - 1s 211ms/step - loss: 0.3200 - accuracy: 0.8621 - val_loss: 0.6735 - val_accuracy: 0.7241\n",
            "Epoch 42/100\n",
            "4/4 [==============================] - 1s 215ms/step - loss: 0.1713 - accuracy: 0.9569 - val_loss: 0.6618 - val_accuracy: 0.7586\n",
            "Epoch 43/100\n",
            "4/4 [==============================] - 1s 218ms/step - loss: 0.2294 - accuracy: 0.9224 - val_loss: 0.6522 - val_accuracy: 0.7586\n",
            "Epoch 44/100\n",
            "4/4 [==============================] - 1s 216ms/step - loss: 0.2491 - accuracy: 0.9052 - val_loss: 0.6365 - val_accuracy: 0.7931\n",
            "Epoch 45/100\n",
            "4/4 [==============================] - 1s 211ms/step - loss: 0.4174 - accuracy: 0.8707 - val_loss: 0.6176 - val_accuracy: 0.7931\n",
            "Epoch 46/100\n",
            "4/4 [==============================] - 1s 216ms/step - loss: 0.2173 - accuracy: 0.9138 - val_loss: 0.6021 - val_accuracy: 0.7931\n",
            "Epoch 47/100\n",
            "4/4 [==============================] - 1s 215ms/step - loss: 0.3123 - accuracy: 0.8621 - val_loss: 0.6007 - val_accuracy: 0.7931\n",
            "Epoch 48/100\n",
            "4/4 [==============================] - 1s 215ms/step - loss: 0.1534 - accuracy: 0.9741 - val_loss: 0.5991 - val_accuracy: 0.7931\n",
            "Epoch 49/100\n",
            "4/4 [==============================] - 1s 211ms/step - loss: 0.2739 - accuracy: 0.9052 - val_loss: 0.5972 - val_accuracy: 0.7931\n",
            "Epoch 50/100\n",
            "4/4 [==============================] - 1s 217ms/step - loss: 0.2667 - accuracy: 0.9138 - val_loss: 0.5906 - val_accuracy: 0.7931\n",
            "Epoch 51/100\n",
            "4/4 [==============================] - 1s 212ms/step - loss: 0.2156 - accuracy: 0.9224 - val_loss: 0.5725 - val_accuracy: 0.7931\n",
            "Epoch 52/100\n",
            "4/4 [==============================] - 1s 220ms/step - loss: 0.2836 - accuracy: 0.8966 - val_loss: 0.5660 - val_accuracy: 0.7931\n",
            "Epoch 53/100\n",
            "4/4 [==============================] - 1s 213ms/step - loss: 0.2105 - accuracy: 0.9310 - val_loss: 0.5654 - val_accuracy: 0.7586\n",
            "Epoch 54/100\n",
            "4/4 [==============================] - 1s 211ms/step - loss: 0.2628 - accuracy: 0.8879 - val_loss: 0.5600 - val_accuracy: 0.7931\n",
            "Epoch 55/100\n",
            "4/4 [==============================] - 1s 215ms/step - loss: 0.2049 - accuracy: 0.9310 - val_loss: 0.5444 - val_accuracy: 0.7931\n",
            "Epoch 56/100\n",
            "4/4 [==============================] - 1s 214ms/step - loss: 0.2383 - accuracy: 0.9138 - val_loss: 0.5416 - val_accuracy: 0.7931\n",
            "Epoch 57/100\n",
            "4/4 [==============================] - 1s 203ms/step - loss: 0.2140 - accuracy: 0.9224 - val_loss: 0.5400 - val_accuracy: 0.7931\n",
            "Epoch 58/100\n",
            "4/4 [==============================] - 1s 206ms/step - loss: 0.1586 - accuracy: 0.9397 - val_loss: 0.5289 - val_accuracy: 0.7931\n",
            "Epoch 59/100\n",
            "4/4 [==============================] - 1s 216ms/step - loss: 0.2793 - accuracy: 0.9224 - val_loss: 0.5178 - val_accuracy: 0.8276\n",
            "Epoch 60/100\n",
            "4/4 [==============================] - 1s 216ms/step - loss: 0.1677 - accuracy: 0.9397 - val_loss: 0.5062 - val_accuracy: 0.8276\n",
            "Epoch 61/100\n",
            "4/4 [==============================] - 1s 214ms/step - loss: 0.2336 - accuracy: 0.8879 - val_loss: 0.5070 - val_accuracy: 0.8621\n",
            "Epoch 62/100\n",
            "4/4 [==============================] - 1s 212ms/step - loss: 0.2661 - accuracy: 0.9052 - val_loss: 0.5158 - val_accuracy: 0.8621\n",
            "Epoch 63/100\n",
            "4/4 [==============================] - 1s 216ms/step - loss: 0.1453 - accuracy: 0.9569 - val_loss: 0.5235 - val_accuracy: 0.8621\n",
            "Epoch 64/100\n",
            "4/4 [==============================] - 1s 216ms/step - loss: 0.1445 - accuracy: 0.9569 - val_loss: 0.5240 - val_accuracy: 0.8621\n",
            "Epoch 65/100\n",
            "4/4 [==============================] - 1s 216ms/step - loss: 0.1764 - accuracy: 0.9224 - val_loss: 0.5360 - val_accuracy: 0.8621\n",
            "Epoch 66/100\n",
            "4/4 [==============================] - 1s 217ms/step - loss: 0.1296 - accuracy: 0.9741 - val_loss: 0.5473 - val_accuracy: 0.8621\n",
            "Epoch 67/100\n",
            "4/4 [==============================] - 1s 215ms/step - loss: 0.1669 - accuracy: 0.9483 - val_loss: 0.5486 - val_accuracy: 0.8621\n",
            "Epoch 68/100\n",
            "4/4 [==============================] - 1s 216ms/step - loss: 0.1423 - accuracy: 0.9569 - val_loss: 0.5398 - val_accuracy: 0.8621\n",
            "Epoch 69/100\n",
            "4/4 [==============================] - 1s 217ms/step - loss: 0.1439 - accuracy: 0.9655 - val_loss: 0.5325 - val_accuracy: 0.8621\n",
            "Epoch 70/100\n",
            "4/4 [==============================] - 1s 212ms/step - loss: 0.2941 - accuracy: 0.9052 - val_loss: 0.5203 - val_accuracy: 0.8966\n",
            "Epoch 71/100\n",
            "4/4 [==============================] - 1s 214ms/step - loss: 0.1834 - accuracy: 0.9483 - val_loss: 0.5134 - val_accuracy: 0.8966\n",
            "Epoch 72/100\n",
            "4/4 [==============================] - 1s 218ms/step - loss: 0.1268 - accuracy: 0.9828 - val_loss: 0.5031 - val_accuracy: 0.8966\n",
            "Epoch 73/100\n",
            "4/4 [==============================] - 1s 212ms/step - loss: 0.0977 - accuracy: 0.9741 - val_loss: 0.4907 - val_accuracy: 0.8966\n",
            "Epoch 74/100\n",
            "4/4 [==============================] - 1s 215ms/step - loss: 0.1012 - accuracy: 0.9828 - val_loss: 0.4854 - val_accuracy: 0.8966\n",
            "Epoch 75/100\n",
            "4/4 [==============================] - 1s 218ms/step - loss: 0.1020 - accuracy: 0.9655 - val_loss: 0.4839 - val_accuracy: 0.8966\n",
            "Epoch 76/100\n",
            "4/4 [==============================] - 1s 218ms/step - loss: 0.0783 - accuracy: 0.9914 - val_loss: 0.4827 - val_accuracy: 0.8966\n",
            "Epoch 77/100\n",
            "4/4 [==============================] - 1s 217ms/step - loss: 0.1133 - accuracy: 0.9569 - val_loss: 0.4769 - val_accuracy: 0.8966\n",
            "Epoch 78/100\n",
            "4/4 [==============================] - 1s 216ms/step - loss: 0.1714 - accuracy: 0.9310 - val_loss: 0.4682 - val_accuracy: 0.8966\n",
            "Epoch 79/100\n",
            "4/4 [==============================] - 1s 208ms/step - loss: 0.1656 - accuracy: 0.9483 - val_loss: 0.4616 - val_accuracy: 0.8621\n",
            "Epoch 80/100\n",
            "4/4 [==============================] - 1s 219ms/step - loss: 0.1456 - accuracy: 0.9655 - val_loss: 0.4602 - val_accuracy: 0.8621\n",
            "Epoch 81/100\n",
            "4/4 [==============================] - 1s 218ms/step - loss: 0.0877 - accuracy: 0.9569 - val_loss: 0.4570 - val_accuracy: 0.8621\n",
            "Epoch 82/100\n",
            "4/4 [==============================] - 1s 220ms/step - loss: 0.0951 - accuracy: 0.9655 - val_loss: 0.4549 - val_accuracy: 0.8966\n",
            "Epoch 83/100\n",
            "4/4 [==============================] - 1s 211ms/step - loss: 0.0653 - accuracy: 0.9828 - val_loss: 0.4499 - val_accuracy: 0.8966\n",
            "Epoch 84/100\n",
            "4/4 [==============================] - 1s 221ms/step - loss: 0.1366 - accuracy: 0.9310 - val_loss: 0.4466 - val_accuracy: 0.8966\n",
            "Epoch 85/100\n",
            "4/4 [==============================] - 1s 216ms/step - loss: 0.0830 - accuracy: 0.9741 - val_loss: 0.4416 - val_accuracy: 0.8966\n",
            "Epoch 86/100\n",
            "4/4 [==============================] - 1s 220ms/step - loss: 0.0647 - accuracy: 0.9828 - val_loss: 0.4378 - val_accuracy: 0.8966\n",
            "Epoch 87/100\n",
            "4/4 [==============================] - 1s 215ms/step - loss: 0.0720 - accuracy: 0.9914 - val_loss: 0.4373 - val_accuracy: 0.8966\n",
            "Epoch 88/100\n",
            "4/4 [==============================] - 1s 221ms/step - loss: 0.0779 - accuracy: 0.9828 - val_loss: 0.4403 - val_accuracy: 0.8966\n",
            "Epoch 89/100\n",
            "4/4 [==============================] - 1s 216ms/step - loss: 0.0741 - accuracy: 0.9741 - val_loss: 0.4419 - val_accuracy: 0.8621\n",
            "Epoch 90/100\n",
            "4/4 [==============================] - 1s 220ms/step - loss: 0.1534 - accuracy: 0.9224 - val_loss: 0.4395 - val_accuracy: 0.8621\n",
            "Epoch 91/100\n",
            "4/4 [==============================] - 1s 210ms/step - loss: 0.1775 - accuracy: 0.9483 - val_loss: 0.4337 - val_accuracy: 0.8621\n",
            "Epoch 92/100\n",
            "4/4 [==============================] - 1s 218ms/step - loss: 0.1063 - accuracy: 0.9569 - val_loss: 0.4291 - val_accuracy: 0.8621\n",
            "Epoch 93/100\n",
            "4/4 [==============================] - 1s 212ms/step - loss: 0.0839 - accuracy: 0.9828 - val_loss: 0.4303 - val_accuracy: 0.8621\n",
            "Epoch 94/100\n",
            "4/4 [==============================] - 1s 211ms/step - loss: 0.0730 - accuracy: 0.9828 - val_loss: 0.4401 - val_accuracy: 0.8621\n",
            "Epoch 95/100\n",
            "4/4 [==============================] - 1s 216ms/step - loss: 0.1320 - accuracy: 0.9397 - val_loss: 0.4602 - val_accuracy: 0.8621\n",
            "Epoch 96/100\n",
            "4/4 [==============================] - 1s 216ms/step - loss: 0.0907 - accuracy: 0.9741 - val_loss: 0.4798 - val_accuracy: 0.8621\n",
            "Epoch 97/100\n",
            "4/4 [==============================] - 1s 213ms/step - loss: 0.1251 - accuracy: 0.9483 - val_loss: 0.4918 - val_accuracy: 0.8276\n",
            "Epoch 98/100\n",
            "4/4 [==============================] - 1s 216ms/step - loss: 0.0899 - accuracy: 0.9741 - val_loss: 0.4987 - val_accuracy: 0.8276\n",
            "Epoch 99/100\n",
            "4/4 [==============================] - 1s 218ms/step - loss: 0.1482 - accuracy: 0.9483 - val_loss: 0.5095 - val_accuracy: 0.8276\n",
            "Epoch 100/100\n",
            "4/4 [==============================] - 1s 212ms/step - loss: 0.0525 - accuracy: 0.9828 - val_loss: 0.5216 - val_accuracy: 0.8276\n"
          ]
        }
      ],
      "source": [
        "history=model.fit(\n",
        "  train_ds,\n",
        "  validation_data=val_ds,\n",
        "  epochs=100\n",
        ")"
      ]
    },
    {
      "cell_type": "code",
      "execution_count": 58,
      "metadata": {},
      "outputs": [
        {
          "data": {
            "image/png": "[encoded data removed]",
            "text/plain": [
              "<Figure size 640x480 with 1 Axes>"
            ]
          },
          "metadata": {},
          "output_type": "display_data"
        }
      ],
      "source": [
        "plt.plot(history.history['accuracy'])\n",
        "plt.plot(history.history['val_accuracy'])\n",
        "plt.title('model accuracy')\n",
        "plt.ylabel('accuracy')\n",
        "plt.xlabel('epoch')\n",
        "plt.legend(['train', 'val'], loc='upper left')\n",
        "plt.show()"
      ]
    },
    {
      "cell_type": "code",
      "execution_count": 59,
      "metadata": {},
      "outputs": [
        {
          "data": {
            "image/png": "[encoded data removed]",
            "text/plain": [
              "<Figure size 640x480 with 1 Axes>"
            ]
          },
          "metadata": {},
          "output_type": "display_data"
        }
      ],
      "source": [
        "plt.plot(history.history['loss'])\n",
        "plt.plot(history.history['val_loss'])\n",
        "plt.title('model loss')\n",
        "plt.ylabel('loss')\n",
        "plt.xlabel('epoch')\n",
        "plt.legend(['train', 'val'], loc='upper left')\n",
        "plt.show()"
      ]
    },
    {
      "cell_type": "code",
      "execution_count": 60,
      "metadata": {},
      "outputs": [],
      "source": [
        "# model_copy=tfmot.quantization.keras.quantize_model(model)\n",
        "# model_copy.compile(\n",
        "#   optimizer=tf.keras.optimizers.Adam(learning_rate=lr),\n",
        "#   loss=tf.losses.SparseCategoricalCrossentropy(from_logits=False),\n",
        "#   metrics=['accuracy'])\n",
        "# history=model_copy.fit(\n",
        "#   train_ds,\n",
        "#   validation_data=val_ds,\n",
        "#   epochs=10\n",
        "# )"
      ]
    },
    {
      "attachments": {},
      "cell_type": "markdown",
      "metadata": {
        "id": "U0tsAdGikFa_"
      },
      "source": [
        "### Save the TensorFlow model"
      ]
    },
    {
      "cell_type": "code",
      "execution_count": 61,
      "metadata": {
        "id": "rOUI3vtLtYKh"
      },
      "outputs": [
        {
          "name": "stderr",
          "output_type": "stream",
          "text": [
            "WARNING:absl:Found untraced functions such as _jit_compiled_convolution_op, _jit_compiled_convolution_op, _jit_compiled_convolution_op, _jit_compiled_convolution_op, _jit_compiled_convolution_op while saving (showing 5 of 53). These functions will not be directly callable after loading.\n"
          ]
        },
        {
          "name": "stdout",
          "output_type": "stream",
          "text": [
            "INFO:tensorflow:Assets written to: temp/assets\n"
          ]
        },
        {
          "name": "stderr",
          "output_type": "stream",
          "text": [
            "INFO:tensorflow:Assets written to: temp/assets\n"
          ]
        }
      ],
      "source": [
        "model.save(TF_MODEL)"
      ]
    },
    {
      "attachments": {},
      "cell_type": "markdown",
      "metadata": {
        "id": "KntdZZ5ruM7Z"
      },
      "source": [
        "## Preparing and testing the quantized TFLite model"
      ]
    },
    {
      "attachments": {},
      "cell_type": "markdown",
      "metadata": {
        "id": "srHkdaf_kk97"
      },
      "source": [
        "### Unzip the test dataset (test_samples.zip)"
      ]
    },
    {
      "cell_type": "code",
      "execution_count": 62,
      "metadata": {
        "id": "ZxnVbqxkkspY"
      },
      "outputs": [],
      "source": [
        "# with zipfile.ZipFile(\"test_samples.zip\", 'r') as zip_ref:\n",
        "#     zip_ref.extractall(\".\")\n",
        "# test_dir = \"dataset\""
      ]
    },
    {
      "attachments": {},
      "cell_type": "markdown",
      "metadata": {
        "id": "jzTiU6qQk_Bv"
      },
      "source": [
        "### Rescale the pixel values from [0, 255] to [-1, 1]"
      ]
    },
    {
      "cell_type": "code",
      "execution_count": 63,
      "metadata": {
        "id": "vYHpua21lGXp"
      },
      "outputs": [
        {
          "name": "stdout",
          "output_type": "stream",
          "text": [
            "Found 145 files belonging to 3 classes.\n"
          ]
        }
      ],
      "source": [
        "test_dir=\"edited_dataset\"\n",
        "test_ds = tf.keras.utils.image_dataset_from_directory(test_dir,\n",
        "                                                      interpolation=\"bilinear\",\n",
        "                                                      image_size=(MODEL_INPUT_WIDTH, MODEL_INPUT_HEIGHT))\n",
        "test_ds  = test_ds.map(lambda x, y: (rescale(x), y))"
      ]
    },
    {
      "attachments": {},
      "cell_type": "markdown",
      "metadata": {
        "id": "riqPFiWllkdg"
      },
      "source": [
        "### Quantize the TensorFlow model with the TFLite converter"
      ]
    },
    {
      "cell_type": "code",
      "execution_count": 64,
      "metadata": {
        "id": "ALWbwZKBuNl8"
      },
      "outputs": [
        {
          "name": "stderr",
          "output_type": "stream",
          "text": [
            "2023-07-12 10:54:52.820176: W tensorflow/compiler/mlir/lite/python/tf_tfl_flatbuffer_helpers.cc:362] Ignored output_format.\n",
            "2023-07-12 10:54:52.825567: W tensorflow/compiler/mlir/lite/python/tf_tfl_flatbuffer_helpers.cc:365] Ignored drop_control_dependency.\n",
            "2023-07-12 10:54:52.837153: I tensorflow/cc/saved_model/reader.cc:45] Reading SavedModel from: temp\n",
            "2023-07-12 10:54:52.884054: I tensorflow/cc/saved_model/reader.cc:89] Reading meta graph with tags { serve }\n",
            "2023-07-12 10:54:52.884145: I tensorflow/cc/saved_model/reader.cc:130] Reading SavedModel debug info (if present) from: temp\n",
            "2023-07-12 10:54:53.439938: I tensorflow/compiler/mlir/mlir_graph_optimization_pass.cc:357] MLIR V1 optimization pass is not enabled\n",
            "2023-07-12 10:54:57.608377: I tensorflow/compiler/mlir/tensorflow/utils/dump_mlir_util.cc:268] disabling MLIR crash reproducer, set env var `MLIR_CRASH_REPRODUCER_DIRECTORY` to enable.\n",
            "fully_quantize: 0, inference_type: 6, input_inference_type: INT8, output_inference_type: FLOAT32\n"
          ]
        }
      ],
      "source": [
        "repr_ds = test_ds.unbatch()\n",
        "\n",
        "def representative_data_gen():\n",
        "  for i_value, o_value in repr_ds.batch(1).take(48):\n",
        "    yield [i_value]\n",
        "\n",
        "converter = tf.lite.TFLiteConverter.from_saved_model(TF_MODEL)\n",
        "converter.representative_dataset = tf.lite.RepresentativeDataset(representative_data_gen)\n",
        "converter.optimizations = [tf.lite.Optimize.DEFAULT]\n",
        "converter.target_spec.supported_ops = [tf.lite.OpsSet.TFLITE_BUILTINS_INT8]\n",
        "converter.inference_input_type = tf.int8\n",
        "\n",
        "tfl_model = converter.convert()"
      ]
    },
    {
      "attachments": {},
      "cell_type": "markdown",
      "metadata": {
        "id": "nQg4FbwzluB8"
      },
      "source": [
        "### Get the TFLite model size in bytes"
      ]
    },
    {
      "cell_type": "code",
      "execution_count": 65,
      "metadata": {
        "id": "IFIpV1uUlxiZ"
      },
      "outputs": [
        {
          "name": "stdout",
          "output_type": "stream",
          "text": [
            "619216 bytes\n"
          ]
        }
      ],
      "source": [
        "size_tfl_model = len(tfl_model)\n",
        "print(len(tfl_model), \"bytes\")"
      ]
    },
    {
      "attachments": {},
      "cell_type": "markdown",
      "metadata": {
        "id": "1Br6hq8Cl4nU"
      },
      "source": [
        "### Initialize the TFLite interpreter"
      ]
    },
    {
      "cell_type": "code",
      "execution_count": 66,
      "metadata": {
        "id": "ACsaQjxzP2Wd"
      },
      "outputs": [
        {
          "name": "stderr",
          "output_type": "stream",
          "text": [
            "INFO: Created TensorFlow Lite XNNPACK delegate for CPU.\n"
          ]
        }
      ],
      "source": [
        "# Initialize the TFLite interpreter\n",
        "interpreter = tf.lite.Interpreter(model_content=tfl_model)\n",
        "\n",
        "# Allocate the tensors\n",
        "interpreter.allocate_tensors()"
      ]
    },
    {
      "attachments": {},
      "cell_type": "markdown",
      "metadata": {
        "id": "OxxhFk-7l9J2"
      },
      "source": [
        "### Get input quantization parameters"
      ]
    },
    {
      "cell_type": "code",
      "execution_count": 67,
      "metadata": {
        "id": "nrH3uM8Gl_Hg"
      },
      "outputs": [],
      "source": [
        "# Get input/output layer information\n",
        "i_details = interpreter.get_input_details()[0]\n",
        "o_details = interpreter.get_output_details()[0]\n",
        "\n",
        "# Get input quantization parameters.\n",
        "i_quant = i_details[\"quantization_parameters\"]\n",
        "i_scale      = i_quant['scales'][0]\n",
        "i_zero_point = i_quant['zero_points'][0]"
      ]
    },
    {
      "attachments": {},
      "cell_type": "markdown",
      "metadata": {
        "id": "WQcFhKfumT1B"
      },
      "source": [
        "### Evaluate the accuracy of the quantized TFLite model"
      ]
    },
    {
      "cell_type": "code",
      "execution_count": 68,
      "metadata": {
        "id": "1vlIBfMHmWT-"
      },
      "outputs": [
        {
          "name": "stdout",
          "output_type": "stream",
          "text": [
            "Accuracy: 0.8620689655172413\n"
          ]
        }
      ],
      "source": [
        "test_ds0 = val_ds.unbatch()\n",
        "\n",
        "num_correct_samples = 0\n",
        "num_total_samples   = len(list(test_ds0.batch(1)))\n",
        "\n",
        "for i_value, o_value in test_ds0.batch(1):\n",
        "  i_value = (i_value / i_scale) + i_zero_point\n",
        "  i_value = tf.cast(i_value, dtype=tf.int8)\n",
        "  interpreter.set_tensor(i_details[\"index\"], i_value)\n",
        "  interpreter.invoke()\n",
        "  o_pred = interpreter.get_tensor(o_details[\"index\"])[0]\n",
        "\n",
        "  if np.argmax(o_pred) == o_value:\n",
        "    num_correct_samples += 1\n",
        "\n",
        "print(\"Accuracy:\", num_correct_samples/num_total_samples)"
      ]
    },
    {
      "attachments": {},
      "cell_type": "markdown",
      "metadata": {
        "id": "tM-ZaNUHmkBm"
      },
      "source": [
        "### Convert the TFLite model to C-byte array with xxd"
      ]
    },
    {
      "cell_type": "code",
      "execution_count": 69,
      "metadata": {
        "id": "3kAnQgmI0QK_"
      },
      "outputs": [
        {
          "name": "stdout",
          "output_type": "stream",
          "text": [
            "Reading package lists... Done\n",
            "E: Could not open lock file /var/lib/apt/lists/lock - open (13: Permission denied)\n",
            "E: Unable to lock directory /var/lib/apt/lists/\n",
            "W: Problem unlinking the file /var/cache/apt/pkgcache.bin - RemoveCaches (13: Permission denied)\n",
            "W: Problem unlinking the file /var/cache/apt/srcpkgcache.bin - RemoveCaches (13: Permission denied)\n"
          ]
        },
        {
          "ename": "",
          "evalue": "",
          "output_type": "error",
          "traceback": [
            "\u001b[1;31mThe Kernel crashed while executing code in the the current cell or a previous cell. Please review the code in the cell(s) to identify a possible cause of the failure. Click <a href='https://aka.ms/vscodeJupyterKernelCrash'>here</a> for more info. View Jupyter <a href='command:jupyter.viewOutput'>log</a> for further details."
          ]
        }
      ],
      "source": [
        "open(\"model.tflite\", \"wb\").write(tfl_model)\n",
        "!apt-get update && apt-get -qq install xxd\n",
        "!xxd -c 60 -i model.tflite > model64v1.cpp"
      ]
    }
  ],
  "metadata": {
    "accelerator": "GPU",
    "colab": {
      "collapsed_sections": [],
      "name": "chapter05.ipynb",
      "provenance": []
    },
    "kernelspec": {
      "display_name": "Python 3",
      "name": "python3"
    },
    "language_info": {
      "codemirror_mode": {
        "name": "ipython",
        "version": 3
      },
      "file_extension": ".py",
      "mimetype": "text/x-python",
      "name": "python",
      "nbconvert_exporter": "python",
      "pygments_lexer": "ipython3",
      "version": "3.10.6"
    }
  },
  "nbformat": 4,
  "nbformat_minor": 0
}
