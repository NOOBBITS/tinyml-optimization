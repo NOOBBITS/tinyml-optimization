{
  "cells": [
    {
      "attachments": {},
      "cell_type": "markdown",
      "metadata": {
        "id": "7xc2grXmGVo4"
      },
      "source": [
        "# Chapter 5 - Indoor Scene Classification with TFLu and the Arduino Nano"
      ]
    },
    {
      "cell_type": "code",
      "execution_count": 1,
      "metadata": {
        "id": "bAenHrKFofOR"
      },
      "outputs": [
        {
          "name": "stderr",
          "output_type": "stream",
          "text": [
            "UsageError: Line magic function `%tensorflow_version` not found.\n"
          ]
        }
      ],
      "source": [
        "%tensorflow_version 2.x"
      ]
    },
    {
      "attachments": {},
      "cell_type": "markdown",
      "metadata": {
        "id": "bCS8r9jvlfFi"
      },
      "source": [
        "### Python libraries"
      ]
    },
    {
      "cell_type": "code",
      "execution_count": 2,
      "metadata": {
        "id": "9IzYsIvDlgx_"
      },
      "outputs": [
        {
          "name": "stderr",
          "output_type": "stream",
          "text": [
            "2023-07-06 18:00:03.198630: I tensorflow/core/platform/cpu_feature_guard.cc:193] This TensorFlow binary is optimized with oneAPI Deep Neural Network Library (oneDNN) to use the following CPU instructions in performance-critical operations:  AVX2 FMA\n",
            "To enable them in other operations, rebuild TensorFlow with the appropriate compiler flags.\n",
            "2023-07-06 18:00:03.605095: W tensorflow/compiler/xla/stream_executor/platform/default/dso_loader.cc:64] Could not load dynamic library 'libcudart.so.11.0'; dlerror: libcudart.so.11.0: cannot open shared object file: No such file or directory\n",
            "2023-07-06 18:00:03.605143: I tensorflow/compiler/xla/stream_executor/cuda/cudart_stub.cc:29] Ignore above cudart dlerror if you do not have a GPU set up on your machine.\n",
            "2023-07-06 18:00:04.979054: W tensorflow/compiler/xla/stream_executor/platform/default/dso_loader.cc:64] Could not load dynamic library 'libnvinfer.so.7'; dlerror: libnvinfer.so.7: cannot open shared object file: No such file or directory\n",
            "2023-07-06 18:00:04.979305: W tensorflow/compiler/xla/stream_executor/platform/default/dso_loader.cc:64] Could not load dynamic library 'libnvinfer_plugin.so.7'; dlerror: libnvinfer_plugin.so.7: cannot open shared object file: No such file or directory\n",
            "2023-07-06 18:00:04.979364: W tensorflow/compiler/tf2tensorrt/utils/py_utils.cc:38] TF-TRT Warning: Cannot dlopen some TensorRT libraries. If you would like to use Nvidia GPU with TensorRT, please make sure the missing libraries mentioned above are installed properly.\n"
          ]
        }
      ],
      "source": [
        "import numpy as np\n",
        "import pathlib\n",
        "#!export PROTOCOL_BUFFERS_PYTHON_IMPLEMENTATION=python\n",
        "import tensorflow as tf\n",
        "#import tensorflow_datasets as tfds\n",
        "import zipfile\n",
        "from tensorflow.keras.applications.mobilenet_v2 import MobileNetV2\n",
        "# from tensorflow.keras.models import Model\n",
        "import matplotlib.pyplot as plt"
      ]
    },
    {
      "attachments": {},
      "cell_type": "markdown",
      "metadata": {
        "id": "EJchRFEmnwvl"
      },
      "source": [
        "### Constants"
      ]
    },
    {
      "cell_type": "code",
      "execution_count": 3,
      "metadata": {
        "id": "6VGtgqiVFaY1"
      },
      "outputs": [],
      "source": [
        "MODEL_ALPHA = 0.35\n",
        "MODEL_INPUT_WIDTH = 48\n",
        "MODEL_INPUT_HEIGHT = 48\n",
        "TFL_MODEL_FILE = \"temp.tflite\"\n",
        "TFL_MODEL_HEADER_FILE = \"temp_model.h\"\n",
        "TF_MODEL = \"temp\""
      ]
    },
    {
      "attachments": {},
      "cell_type": "markdown",
      "metadata": {
        "id": "3J8L3YW_htYw"
      },
      "source": [
        "## Transfer learning with Keras"
      ]
    },
    {
      "attachments": {},
      "cell_type": "markdown",
      "metadata": {
        "id": "YSlp-mPQhwuY"
      },
      "source": [
        "### Unzip the dataset (dataset.zip) SKIP THIS STEP\n"
      ]
    },
    {
      "cell_type": "code",
      "execution_count": 4,
      "metadata": {
        "id": "Tp1VN1OZGuEn"
      },
      "outputs": [],
      "source": [
        "# with zipfile.ZipFile(\"dataset.zip\", 'r') as zip_ref:\n",
        "#   zip_ref.extractall(\".\")\n",
        "# data_dir = \"dataset\""
      ]
    },
    {
      "attachments": {},
      "cell_type": "markdown",
      "metadata": {
        "id": "HMqMhiuvGpam"
      },
      "source": [
        "### Prepare the train (80%) and validation (20%) datasets"
      ]
    },
    {
      "cell_type": "code",
      "execution_count": 5,
      "metadata": {
        "id": "jKZ4L-wsBktr"
      },
      "outputs": [
        {
          "name": "stdout",
          "output_type": "stream",
          "text": [
            "Found 135 files belonging to 3 classes.\n",
            "Using 108 files for training.\n",
            "Found 135 files belonging to 3 classes.\n",
            "Using 27 files for validation.\n"
          ]
        },
        {
          "name": "stderr",
          "output_type": "stream",
          "text": [
            "2023-07-06 18:00:08.212071: W tensorflow/compiler/xla/stream_executor/platform/default/dso_loader.cc:64] Could not load dynamic library 'libcudart.so.11.0'; dlerror: libcudart.so.11.0: cannot open shared object file: No such file or directory\n",
            "2023-07-06 18:00:08.212546: W tensorflow/compiler/xla/stream_executor/platform/default/dso_loader.cc:64] Could not load dynamic library 'libcublas.so.11'; dlerror: libcublas.so.11: cannot open shared object file: No such file or directory\n",
            "2023-07-06 18:00:08.212609: W tensorflow/compiler/xla/stream_executor/platform/default/dso_loader.cc:64] Could not load dynamic library 'libcublasLt.so.11'; dlerror: libcublasLt.so.11: cannot open shared object file: No such file or directory\n",
            "2023-07-06 18:00:08.212695: W tensorflow/compiler/xla/stream_executor/platform/default/dso_loader.cc:64] Could not load dynamic library 'libcufft.so.10'; dlerror: libcufft.so.10: cannot open shared object file: No such file or directory\n",
            "2023-07-06 18:00:08.212764: W tensorflow/compiler/xla/stream_executor/platform/default/dso_loader.cc:64] Could not load dynamic library 'libcurand.so.10'; dlerror: libcurand.so.10: cannot open shared object file: No such file or directory\n",
            "2023-07-06 18:00:08.212803: W tensorflow/compiler/xla/stream_executor/platform/default/dso_loader.cc:64] Could not load dynamic library 'libcusolver.so.11'; dlerror: libcusolver.so.11: cannot open shared object file: No such file or directory\n",
            "2023-07-06 18:00:08.212838: W tensorflow/compiler/xla/stream_executor/platform/default/dso_loader.cc:64] Could not load dynamic library 'libcusparse.so.11'; dlerror: libcusparse.so.11: cannot open shared object file: No such file or directory\n",
            "2023-07-06 18:00:08.212906: W tensorflow/compiler/xla/stream_executor/platform/default/dso_loader.cc:64] Could not load dynamic library 'libcudnn.so.8'; dlerror: libcudnn.so.8: cannot open shared object file: No such file or directory\n",
            "2023-07-06 18:00:08.212925: W tensorflow/core/common_runtime/gpu/gpu_device.cc:1934] Cannot dlopen some GPU libraries. Please make sure the missing libraries mentioned above are installed properly if you would like to use GPU. Follow the guide at https://www.tensorflow.org/install/gpu for how to download and setup the required libraries for your platform.\n",
            "Skipping registering GPU devices...\n",
            "2023-07-06 18:00:08.215884: I tensorflow/core/platform/cpu_feature_guard.cc:193] This TensorFlow binary is optimized with oneAPI Deep Neural Network Library (oneDNN) to use the following CPU instructions in performance-critical operations:  AVX2 FMA\n",
            "To enable them in other operations, rebuild TensorFlow with the appropriate compiler flags.\n"
          ]
        }
      ],
      "source": [
        "data_dir=\"datasetv2v1hq\"\n",
        "train_ds = tf.keras.utils.image_dataset_from_directory(\n",
        "  data_dir,\n",
        "  validation_split=0.2,\n",
        "  subset=\"training\",\n",
        "  seed=123,\n",
        "  interpolation=\"bilinear\",\n",
        "  image_size=(MODEL_INPUT_WIDTH, MODEL_INPUT_HEIGHT)\n",
        "  )\n",
        "\n",
        "val_ds = tf.keras.utils.image_dataset_from_directory(\n",
        "  data_dir,\n",
        "  validation_split=0.2,\n",
        "  subset=\"validation\",\n",
        "  seed=123,\n",
        "  interpolation=\"bilinear\",\n",
        "  image_size=(MODEL_INPUT_WIDTH, MODEL_INPUT_HEIGHT)\n",
        "  )"
      ]
    },
    {
      "attachments": {},
      "cell_type": "markdown",
      "metadata": {
        "id": "mWxKsXM0iMxj"
      },
      "source": [
        "### Get the name of the classes"
      ]
    },
    {
      "cell_type": "code",
      "execution_count": 6,
      "metadata": {
        "id": "zLWkCbjYDVHJ"
      },
      "outputs": [
        {
          "name": "stdout",
          "output_type": "stream",
          "text": [
            "['paper', 'rock', 'scissors']\n"
          ]
        }
      ],
      "source": [
        "class_names = train_ds.class_names\n",
        "num_classes = len(class_names)\n",
        "print(class_names)"
      ]
    },
    {
      "attachments": {},
      "cell_type": "markdown",
      "metadata": {
        "id": "vEsZQCsUHaeb"
      },
      "source": [
        "### Rescale the pixel values from [0, 255] to [-1, 1]"
      ]
    },
    {
      "cell_type": "code",
      "execution_count": 7,
      "metadata": {
        "id": "-lFJZj50HhMV"
      },
      "outputs": [
        {
          "name": "stdout",
          "output_type": "stream",
          "text": [
            "WARNING:tensorflow:From /home/aditya/.local/lib/python3.10/site-packages/tensorflow/python/autograph/pyct/static_analysis/liveness.py:83: Analyzer.lamba_check (from tensorflow.python.autograph.pyct.static_analysis.liveness) is deprecated and will be removed after 2023-09-23.\n",
            "Instructions for updating:\n",
            "Lambda fuctions will be no more assumed to be used in the statement where they are used, or at least in the same block. https://github.com/tensorflow/tensorflow/issues/56089\n"
          ]
        }
      ],
      "source": [
        "rescale = tf.keras.layers.Rescaling(1./255, offset= -1)\n",
        "train_ds = train_ds.map(lambda x, y: (rescale(x), y))\n",
        "val_ds   = val_ds.map(lambda x, y: (rescale(x), y))"
      ]
    },
    {
      "attachments": {},
      "cell_type": "markdown",
      "metadata": {
        "id": "OK0nFgtFSwsF"
      },
      "source": [
        "### Import the MobileNet v2 pre-trained model"
      ]
    },
    {
      "cell_type": "code",
      "execution_count": 8,
      "metadata": {
        "id": "DbhSn1Bl-LZ7"
      },
      "outputs": [
        {
          "name": "stdout",
          "output_type": "stream",
          "text": [
            "WARNING:tensorflow:`input_shape` is undefined or non-square, or `rows` is not in [96, 128, 160, 192, 224]. Weights for input shape (224, 224) will be loaded as the default.\n"
          ]
        }
      ],
      "source": [
        "# https://github.com/keras-team/keras-applications/blob/master/keras_applications/mobilenet_v2.py\n",
        "base_model = MobileNetV2(input_shape=(MODEL_INPUT_WIDTH, MODEL_INPUT_HEIGHT, 3),\n",
        "                         include_top=False,\n",
        "                         weights='imagenet',\n",
        "                         alpha=0.35)\n",
        "base_model.trainable = False\n",
        "\n",
        "feat_extr = base_model"
      ]
    },
    {
      "attachments": {},
      "cell_type": "markdown",
      "metadata": {
        "id": "lOCL5dx-MmlD"
      },
      "source": [
        "### Augment the input data"
      ]
    },
    {
      "cell_type": "code",
      "execution_count": 9,
      "metadata": {
        "id": "7ebIppPRjUKF"
      },
      "outputs": [
        {
          "name": "stdout",
          "output_type": "stream",
          "text": [
            "WARNING:tensorflow:Using a while_loop for converting RngReadAndSkip cause there is no registered converter for this op.\n",
            "WARNING:tensorflow:Using a while_loop for converting Bitcast cause there is no registered converter for this op.\n",
            "WARNING:tensorflow:Using a while_loop for converting Bitcast cause there is no registered converter for this op.\n",
            "WARNING:tensorflow:Using a while_loop for converting StatelessRandomUniformV2 cause there is no registered converter for this op.\n",
            "WARNING:tensorflow:Using a while_loop for converting ImageProjectiveTransformV3 cause there is no registered converter for this op.\n",
            "WARNING:tensorflow:Using a while_loop for converting RngReadAndSkip cause there is no registered converter for this op.\n",
            "WARNING:tensorflow:Using a while_loop for converting Bitcast cause there is no registered converter for this op.\n",
            "WARNING:tensorflow:Using a while_loop for converting Bitcast cause there is no registered converter for this op.\n",
            "WARNING:tensorflow:Using a while_loop for converting StatelessRandomUniformV2 cause there is no registered converter for this op.\n",
            "WARNING:tensorflow:Using a while_loop for converting RngReadAndSkip cause there is no registered converter for this op.\n",
            "WARNING:tensorflow:Using a while_loop for converting Bitcast cause there is no registered converter for this op.\n",
            "WARNING:tensorflow:Using a while_loop for converting Bitcast cause there is no registered converter for this op.\n",
            "WARNING:tensorflow:Using a while_loop for converting StatelessRandomUniformV2 cause there is no registered converter for this op.\n",
            "WARNING:tensorflow:Using a while_loop for converting RngReadAndSkip cause there is no registered converter for this op.\n",
            "WARNING:tensorflow:Using a while_loop for converting Bitcast cause there is no registered converter for this op.\n",
            "WARNING:tensorflow:Using a while_loop for converting Bitcast cause there is no registered converter for this op.\n",
            "WARNING:tensorflow:Using a while_loop for converting StatelessRandomUniformV2 cause there is no registered converter for this op.\n",
            "WARNING:tensorflow:Using a while_loop for converting ImageProjectiveTransformV3 cause there is no registered converter for this op.\n",
            "WARNING:tensorflow:Using a while_loop for converting RngReadAndSkip cause there is no registered converter for this op.\n",
            "WARNING:tensorflow:Using a while_loop for converting Bitcast cause there is no registered converter for this op.\n",
            "WARNING:tensorflow:Using a while_loop for converting Bitcast cause there is no registered converter for this op.\n",
            "WARNING:tensorflow:Using a while_loop for converting StatelessRandomUniformV2 cause there is no registered converter for this op.\n",
            "WARNING:tensorflow:Using a while_loop for converting RngReadAndSkip cause there is no registered converter for this op.\n",
            "WARNING:tensorflow:Using a while_loop for converting Bitcast cause there is no registered converter for this op.\n",
            "WARNING:tensorflow:Using a while_loop for converting Bitcast cause there is no registered converter for this op.\n",
            "WARNING:tensorflow:Using a while_loop for converting StatelessRandomUniformV2 cause there is no registered converter for this op.\n",
            "WARNING:tensorflow:Using a while_loop for converting RngReadAndSkip cause there is no registered converter for this op.\n",
            "WARNING:tensorflow:Using a while_loop for converting Bitcast cause there is no registered converter for this op.\n",
            "WARNING:tensorflow:Using a while_loop for converting Bitcast cause there is no registered converter for this op.\n",
            "WARNING:tensorflow:Using a while_loop for converting StatelessRandomUniformV2 cause there is no registered converter for this op.\n",
            "WARNING:tensorflow:Using a while_loop for converting ImageProjectiveTransformV3 cause there is no registered converter for this op.\n",
            "WARNING:tensorflow:Using a while_loop for converting RngReadAndSkip cause there is no registered converter for this op.\n",
            "WARNING:tensorflow:Using a while_loop for converting Bitcast cause there is no registered converter for this op.\n",
            "WARNING:tensorflow:Using a while_loop for converting Bitcast cause there is no registered converter for this op.\n",
            "WARNING:tensorflow:Using a while_loop for converting StatelessRandomUniformV2 cause there is no registered converter for this op.\n",
            "WARNING:tensorflow:Using a while_loop for converting RngReadAndSkip cause there is no registered converter for this op.\n",
            "WARNING:tensorflow:Using a while_loop for converting Bitcast cause there is no registered converter for this op.\n",
            "WARNING:tensorflow:Using a while_loop for converting Bitcast cause there is no registered converter for this op.\n",
            "WARNING:tensorflow:Using a while_loop for converting StatelessRandomUniformV2 cause there is no registered converter for this op.\n"
          ]
        }
      ],
      "source": [
        "augmen = tf.keras.Sequential([\n",
        "  tf.keras.layers.experimental.preprocessing.RandomRotation(0.2),\n",
        "  tf.keras.layers.experimental.preprocessing.RandomFlip('horizontal_and_vertical'),\n",
        "  #tf.keras.layers.experimental.preprocessing.RandomZoom(0.1, 0.1),\n",
        "  tf.keras.layers.experimental.preprocessing.RandomTranslation(0.1, 0.1)\n",
        "])\n",
        "\n",
        "train_ds = train_ds.map(lambda x, y: (augmen(x), y))\n",
        "val_ds   = val_ds.map(lambda x, y: (augmen(x), y))"
      ]
    },
    {
      "attachments": {},
      "cell_type": "markdown",
      "metadata": {
        "id": "Qhw11eldjZoz"
      },
      "source": [
        "### Prepare the classification head"
      ]
    },
    {
      "cell_type": "code",
      "execution_count": 10,
      "metadata": {
        "id": "gC5CVjRNMn7q"
      },
      "outputs": [],
      "source": [
        "global_avg_layer = tf.keras.layers.GlobalAveragePooling2D()\n",
        "dense_layer = tf.keras.layers.Dense(num_classes, activation='softmax')"
      ]
    },
    {
      "attachments": {},
      "cell_type": "markdown",
      "metadata": {
        "id": "IZYMkd0yM5tb"
      },
      "source": [
        "### Build the model architecture"
      ]
    },
    {
      "cell_type": "code",
      "execution_count": 11,
      "metadata": {
        "id": "r-DTz_x5M7bg"
      },
      "outputs": [],
      "source": [
        "inputs = tf.keras.Input(shape=(MODEL_INPUT_WIDTH, MODEL_INPUT_HEIGHT, 3))\n",
        "x = global_avg_layer(feat_extr.layers[-1].output)\n",
        "x = tf.keras.layers.Dropout(0.3)(x)\n",
        "outputs = dense_layer(x)\n",
        "model = tf.keras.Model(inputs=feat_extr.inputs, outputs=outputs)"
      ]
    },
    {
      "attachments": {},
      "cell_type": "markdown",
      "metadata": {
        "id": "X4AoQHO1j1a3"
      },
      "source": [
        "### Compile the model with a 0.0005 learning rate"
      ]
    },
    {
      "cell_type": "code",
      "execution_count": 12,
      "metadata": {
        "id": "ZHPUqQNijqE5"
      },
      "outputs": [],
      "source": [
        "lr = 0.0005\n",
        "model.compile(\n",
        "  optimizer=tf.keras.optimizers.Adam(learning_rate=lr),\n",
        "  loss=tf.losses.SparseCategoricalCrossentropy(from_logits=False),\n",
        "  metrics=['accuracy'])"
      ]
    },
    {
      "attachments": {},
      "cell_type": "markdown",
      "metadata": {
        "id": "x4M-8ftzj89-"
      },
      "source": [
        "### Model summary"
      ]
    },
    {
      "cell_type": "code",
      "execution_count": 13,
      "metadata": {
        "id": "WFXJSd6fj415"
      },
      "outputs": [],
      "source": [
        "# model.summary()"
      ]
    },
    {
      "attachments": {},
      "cell_type": "markdown",
      "metadata": {
        "id": "25W5CUAVj_I9"
      },
      "source": [
        "### Train the model with 10 epochs"
      ]
    },
    {
      "cell_type": "code",
      "execution_count": 14,
      "metadata": {
        "id": "na0GBGTQkavr"
      },
      "outputs": [
        {
          "name": "stdout",
          "output_type": "stream",
          "text": [
            "Epoch 1/50\n",
            "4/4 [==============================] - 4s 600ms/step - loss: 1.6905 - accuracy: 0.3704 - val_loss: 1.6177 - val_accuracy: 0.2222\n",
            "Epoch 2/50\n",
            "4/4 [==============================] - 1s 379ms/step - loss: 1.4050 - accuracy: 0.3519 - val_loss: 1.4578 - val_accuracy: 0.1852\n",
            "Epoch 3/50\n",
            "4/4 [==============================] - 1s 411ms/step - loss: 1.4294 - accuracy: 0.3889 - val_loss: 1.2575 - val_accuracy: 0.4815\n",
            "Epoch 4/50\n",
            "4/4 [==============================] - 1s 402ms/step - loss: 1.4089 - accuracy: 0.3796 - val_loss: 1.1732 - val_accuracy: 0.4444\n",
            "Epoch 5/50\n",
            "4/4 [==============================] - 1s 388ms/step - loss: 1.1845 - accuracy: 0.4352 - val_loss: 1.1009 - val_accuracy: 0.5185\n",
            "Epoch 6/50\n",
            "4/4 [==============================] - 1s 358ms/step - loss: 1.1758 - accuracy: 0.4444 - val_loss: 1.0753 - val_accuracy: 0.4815\n",
            "Epoch 7/50\n",
            "4/4 [==============================] - 1s 357ms/step - loss: 1.1690 - accuracy: 0.4537 - val_loss: 1.0719 - val_accuracy: 0.5185\n",
            "Epoch 8/50\n",
            "4/4 [==============================] - 1s 354ms/step - loss: 1.0592 - accuracy: 0.4815 - val_loss: 1.0531 - val_accuracy: 0.5185\n",
            "Epoch 9/50\n",
            "4/4 [==============================] - 1s 358ms/step - loss: 1.0873 - accuracy: 0.5278 - val_loss: 1.1483 - val_accuracy: 0.4444\n",
            "Epoch 10/50\n",
            "4/4 [==============================] - 1s 357ms/step - loss: 1.0851 - accuracy: 0.5185 - val_loss: 1.0804 - val_accuracy: 0.4815\n",
            "Epoch 11/50\n",
            "4/4 [==============================] - 1s 280ms/step - loss: 1.1475 - accuracy: 0.5000 - val_loss: 1.1352 - val_accuracy: 0.4815\n",
            "Epoch 12/50\n",
            "4/4 [==============================] - 1s 284ms/step - loss: 1.0228 - accuracy: 0.5370 - val_loss: 1.1373 - val_accuracy: 0.3333\n",
            "Epoch 13/50\n",
            "4/4 [==============================] - 1s 280ms/step - loss: 1.0074 - accuracy: 0.5278 - val_loss: 0.9480 - val_accuracy: 0.5185\n",
            "Epoch 14/50\n",
            "4/4 [==============================] - 1s 284ms/step - loss: 0.9665 - accuracy: 0.5833 - val_loss: 0.9533 - val_accuracy: 0.5556\n",
            "Epoch 15/50\n",
            "4/4 [==============================] - 1s 284ms/step - loss: 0.9280 - accuracy: 0.5278 - val_loss: 1.0953 - val_accuracy: 0.4444\n",
            "Epoch 16/50\n",
            "4/4 [==============================] - 1s 281ms/step - loss: 0.9752 - accuracy: 0.5463 - val_loss: 1.0590 - val_accuracy: 0.4815\n",
            "Epoch 17/50\n",
            "4/4 [==============================] - 1s 280ms/step - loss: 0.9662 - accuracy: 0.5370 - val_loss: 1.1195 - val_accuracy: 0.3704\n",
            "Epoch 18/50\n",
            "4/4 [==============================] - 1s 282ms/step - loss: 0.9357 - accuracy: 0.6204 - val_loss: 1.0559 - val_accuracy: 0.5185\n",
            "Epoch 19/50\n",
            "4/4 [==============================] - 1s 284ms/step - loss: 0.8607 - accuracy: 0.5556 - val_loss: 1.0198 - val_accuracy: 0.4444\n",
            "Epoch 20/50\n",
            "4/4 [==============================] - 1s 287ms/step - loss: 0.9409 - accuracy: 0.5833 - val_loss: 0.9734 - val_accuracy: 0.5926\n",
            "Epoch 21/50\n",
            "4/4 [==============================] - 1s 281ms/step - loss: 0.9196 - accuracy: 0.6111 - val_loss: 1.0300 - val_accuracy: 0.4815\n",
            "Epoch 22/50\n",
            "4/4 [==============================] - 1s 282ms/step - loss: 0.9177 - accuracy: 0.5648 - val_loss: 0.9539 - val_accuracy: 0.5556\n",
            "Epoch 23/50\n",
            "4/4 [==============================] - 1s 286ms/step - loss: 0.9440 - accuracy: 0.6111 - val_loss: 1.0227 - val_accuracy: 0.5185\n",
            "Epoch 24/50\n",
            "4/4 [==============================] - 1s 286ms/step - loss: 0.8543 - accuracy: 0.5926 - val_loss: 1.0411 - val_accuracy: 0.5185\n",
            "Epoch 25/50\n",
            "4/4 [==============================] - 1s 291ms/step - loss: 0.7395 - accuracy: 0.6852 - val_loss: 0.8006 - val_accuracy: 0.5926\n",
            "Epoch 26/50\n",
            "4/4 [==============================] - 1s 283ms/step - loss: 0.8796 - accuracy: 0.5926 - val_loss: 0.9286 - val_accuracy: 0.4815\n",
            "Epoch 27/50\n",
            "4/4 [==============================] - 1s 283ms/step - loss: 0.8148 - accuracy: 0.6111 - val_loss: 0.9508 - val_accuracy: 0.4444\n",
            "Epoch 28/50\n",
            "4/4 [==============================] - 1s 279ms/step - loss: 0.8153 - accuracy: 0.6296 - val_loss: 0.8431 - val_accuracy: 0.6296\n",
            "Epoch 29/50\n",
            "4/4 [==============================] - 1s 279ms/step - loss: 0.8837 - accuracy: 0.6019 - val_loss: 0.8592 - val_accuracy: 0.6667\n",
            "Epoch 30/50\n",
            "4/4 [==============================] - 1s 290ms/step - loss: 0.9392 - accuracy: 0.5370 - val_loss: 0.8786 - val_accuracy: 0.6296\n",
            "Epoch 31/50\n",
            "4/4 [==============================] - 1s 423ms/step - loss: 0.8847 - accuracy: 0.6111 - val_loss: 0.8735 - val_accuracy: 0.5926\n",
            "Epoch 32/50\n",
            "4/4 [==============================] - 1s 397ms/step - loss: 0.8525 - accuracy: 0.6481 - val_loss: 0.9333 - val_accuracy: 0.5926\n",
            "Epoch 33/50\n",
            "4/4 [==============================] - 1s 409ms/step - loss: 0.6953 - accuracy: 0.7500 - val_loss: 0.8612 - val_accuracy: 0.5556\n",
            "Epoch 34/50\n",
            "4/4 [==============================] - 1s 340ms/step - loss: 0.8415 - accuracy: 0.5926 - val_loss: 1.1327 - val_accuracy: 0.5185\n",
            "Epoch 35/50\n",
            "4/4 [==============================] - 1s 365ms/step - loss: 0.7038 - accuracy: 0.7315 - val_loss: 0.9784 - val_accuracy: 0.4444\n",
            "Epoch 36/50\n",
            "4/4 [==============================] - 1s 382ms/step - loss: 0.7341 - accuracy: 0.6667 - val_loss: 1.0411 - val_accuracy: 0.5926\n",
            "Epoch 37/50\n",
            "4/4 [==============================] - 1s 358ms/step - loss: 0.8225 - accuracy: 0.6204 - val_loss: 0.8504 - val_accuracy: 0.5185\n",
            "Epoch 38/50\n",
            "4/4 [==============================] - 1s 440ms/step - loss: 0.7534 - accuracy: 0.6944 - val_loss: 0.9304 - val_accuracy: 0.5926\n",
            "Epoch 39/50\n",
            "4/4 [==============================] - 1s 337ms/step - loss: 0.7515 - accuracy: 0.6759 - val_loss: 0.8670 - val_accuracy: 0.5926\n",
            "Epoch 40/50\n",
            "4/4 [==============================] - 1s 451ms/step - loss: 0.6812 - accuracy: 0.6944 - val_loss: 0.7120 - val_accuracy: 0.6667\n",
            "Epoch 41/50\n",
            "4/4 [==============================] - 1s 305ms/step - loss: 0.7197 - accuracy: 0.7500 - val_loss: 0.8565 - val_accuracy: 0.5556\n",
            "Epoch 42/50\n",
            "4/4 [==============================] - 1s 334ms/step - loss: 0.8348 - accuracy: 0.6204 - val_loss: 0.8046 - val_accuracy: 0.6296\n",
            "Epoch 43/50\n",
            "4/4 [==============================] - 1s 331ms/step - loss: 0.6990 - accuracy: 0.6944 - val_loss: 0.8784 - val_accuracy: 0.5926\n",
            "Epoch 44/50\n",
            "4/4 [==============================] - 1s 343ms/step - loss: 0.5952 - accuracy: 0.6944 - val_loss: 0.9255 - val_accuracy: 0.5926\n",
            "Epoch 45/50\n",
            "4/4 [==============================] - 1s 312ms/step - loss: 0.7296 - accuracy: 0.7037 - val_loss: 0.9774 - val_accuracy: 0.5926\n",
            "Epoch 46/50\n",
            "4/4 [==============================] - 1s 353ms/step - loss: 0.6295 - accuracy: 0.7685 - val_loss: 0.8493 - val_accuracy: 0.7037\n",
            "Epoch 47/50\n",
            "4/4 [==============================] - 1s 325ms/step - loss: 0.7422 - accuracy: 0.6574 - val_loss: 0.9524 - val_accuracy: 0.5556\n",
            "Epoch 48/50\n",
            "4/4 [==============================] - 1s 335ms/step - loss: 0.6393 - accuracy: 0.7037 - val_loss: 0.7262 - val_accuracy: 0.6667\n",
            "Epoch 49/50\n",
            "4/4 [==============================] - 1s 374ms/step - loss: 0.7945 - accuracy: 0.6759 - val_loss: 0.7852 - val_accuracy: 0.6667\n",
            "Epoch 50/50\n",
            "4/4 [==============================] - 1s 350ms/step - loss: 0.6500 - accuracy: 0.7130 - val_loss: 0.8597 - val_accuracy: 0.6667\n"
          ]
        }
      ],
      "source": [
        "history=model.fit(\n",
        "  train_ds,\n",
        "  validation_data=val_ds,\n",
        "  epochs=50\n",
        ")"
      ]
    },
    {
      "cell_type": "code",
      "execution_count": 15,
      "metadata": {},
      "outputs": [
        {
          "data": {
            "image/png": "[encoded data removed]",
            "text/plain": [
              "<Figure size 640x480 with 1 Axes>"
            ]
          },
          "metadata": {},
          "output_type": "display_data"
        }
      ],
      "source": [
        "plt.plot(history.history['accuracy'])\n",
        "plt.plot(history.history['val_accuracy'])\n",
        "plt.title('model accuracy')\n",
        "plt.ylabel('accuracy')\n",
        "plt.xlabel('epoch')\n",
        "plt.legend(['train', 'val'], loc='upper left')\n",
        "plt.show()"
      ]
    },
    {
      "cell_type": "code",
      "execution_count": 16,
      "metadata": {},
      "outputs": [
        {
          "data": {
            "image/png": "[encoded data removed]",
            "text/plain": [
              "<Figure size 640x480 with 1 Axes>"
            ]
          },
          "metadata": {},
          "output_type": "display_data"
        }
      ],
      "source": [
        "plt.plot(history.history['loss'])\n",
        "plt.plot(history.history['val_loss'])\n",
        "plt.title('model loss')\n",
        "plt.ylabel('loss')\n",
        "plt.xlabel('epoch')\n",
        "plt.legend(['train', 'val'], loc='upper left')\n",
        "plt.show()"
      ]
    },
    {
      "attachments": {},
      "cell_type": "markdown",
      "metadata": {
        "id": "U0tsAdGikFa_"
      },
      "source": [
        "### Save the TensorFlow model"
      ]
    },
    {
      "cell_type": "code",
      "execution_count": 17,
      "metadata": {
        "id": "rOUI3vtLtYKh"
      },
      "outputs": [
        {
          "name": "stderr",
          "output_type": "stream",
          "text": [
            "WARNING:absl:Found untraced functions such as _jit_compiled_convolution_op, _jit_compiled_convolution_op, _jit_compiled_convolution_op, _jit_compiled_convolution_op, _jit_compiled_convolution_op while saving (showing 5 of 53). These functions will not be directly callable after loading.\n"
          ]
        },
        {
          "name": "stdout",
          "output_type": "stream",
          "text": [
            "INFO:tensorflow:Assets written to: temp/assets\n"
          ]
        },
        {
          "name": "stderr",
          "output_type": "stream",
          "text": [
            "INFO:tensorflow:Assets written to: temp/assets\n"
          ]
        }
      ],
      "source": [
        "model.save(TF_MODEL)"
      ]
    },
    {
      "attachments": {},
      "cell_type": "markdown",
      "metadata": {
        "id": "KntdZZ5ruM7Z"
      },
      "source": [
        "## Preparing and testing the quantized TFLite model"
      ]
    },
    {
      "attachments": {},
      "cell_type": "markdown",
      "metadata": {
        "id": "srHkdaf_kk97"
      },
      "source": [
        "### Unzip the test dataset (test_samples.zip)"
      ]
    },
    {
      "cell_type": "code",
      "execution_count": 18,
      "metadata": {
        "id": "ZxnVbqxkkspY"
      },
      "outputs": [],
      "source": [
        "# with zipfile.ZipFile(\"test_samples.zip\", 'r') as zip_ref:\n",
        "#     zip_ref.extractall(\".\")\n",
        "# test_dir = \"dataset\""
      ]
    },
    {
      "attachments": {},
      "cell_type": "markdown",
      "metadata": {
        "id": "jzTiU6qQk_Bv"
      },
      "source": [
        "### Rescale the pixel values from [0, 255] to [-1, 1]"
      ]
    },
    {
      "cell_type": "code",
      "execution_count": 19,
      "metadata": {
        "id": "vYHpua21lGXp"
      },
      "outputs": [
        {
          "name": "stdout",
          "output_type": "stream",
          "text": [
            "Found 135 files belonging to 3 classes.\n"
          ]
        }
      ],
      "source": [
        "test_dir=\"datasetv2v1hq\"\n",
        "test_ds = tf.keras.utils.image_dataset_from_directory(test_dir,\n",
        "                                                      interpolation=\"bilinear\",\n",
        "                                                      image_size=(MODEL_INPUT_WIDTH, MODEL_INPUT_HEIGHT))\n",
        "test_ds  = test_ds.map(lambda x, y: (rescale(x), y))"
      ]
    },
    {
      "attachments": {},
      "cell_type": "markdown",
      "metadata": {
        "id": "riqPFiWllkdg"
      },
      "source": [
        "### Quantize the TensorFlow model with the TFLite converter"
      ]
    },
    {
      "cell_type": "code",
      "execution_count": 20,
      "metadata": {
        "id": "ALWbwZKBuNl8"
      },
      "outputs": [
        {
          "name": "stderr",
          "output_type": "stream",
          "text": [
            "2023-07-06 18:06:11.105684: W tensorflow/compiler/mlir/lite/python/tf_tfl_flatbuffer_helpers.cc:362] Ignored output_format.\n",
            "2023-07-06 18:06:11.106089: W tensorflow/compiler/mlir/lite/python/tf_tfl_flatbuffer_helpers.cc:365] Ignored drop_control_dependency.\n",
            "2023-07-06 18:06:11.135705: I tensorflow/cc/saved_model/reader.cc:45] Reading SavedModel from: temp\n",
            "2023-07-06 18:06:11.209854: I tensorflow/cc/saved_model/reader.cc:89] Reading meta graph with tags { serve }\n",
            "2023-07-06 18:06:11.210083: I tensorflow/cc/saved_model/reader.cc:130] Reading SavedModel debug info (if present) from: temp\n",
            "2023-07-06 18:06:11.361553: I tensorflow/compiler/mlir/mlir_graph_optimization_pass.cc:357] MLIR V1 optimization pass is not enabled\n",
            "2023-07-06 18:06:13.987240: I tensorflow/compiler/mlir/tensorflow/utils/dump_mlir_util.cc:268] disabling MLIR crash reproducer, set env var `MLIR_CRASH_REPRODUCER_DIRECTORY` to enable.\n",
            "fully_quantize: 0, inference_type: 6, input_inference_type: INT8, output_inference_type: FLOAT32\n"
          ]
        }
      ],
      "source": [
        "repr_ds = test_ds.unbatch()\n",
        "\n",
        "def representative_data_gen():\n",
        "  for i_value, o_value in repr_ds.batch(1).take(48):\n",
        "    yield [i_value]\n",
        "\n",
        "converter = tf.lite.TFLiteConverter.from_saved_model(TF_MODEL)\n",
        "converter.representative_dataset = tf.lite.RepresentativeDataset(representative_data_gen)\n",
        "converter.optimizations = [tf.lite.Optimize.DEFAULT]\n",
        "converter.target_spec.supported_ops = [tf.lite.OpsSet.TFLITE_BUILTINS_INT8]\n",
        "converter.inference_input_type = tf.int8\n",
        "\n",
        "tfl_model = converter.convert()"
      ]
    },
    {
      "attachments": {},
      "cell_type": "markdown",
      "metadata": {
        "id": "nQg4FbwzluB8"
      },
      "source": [
        "### Get the TFLite model size in bytes"
      ]
    },
    {
      "cell_type": "code",
      "execution_count": 21,
      "metadata": {
        "id": "IFIpV1uUlxiZ"
      },
      "outputs": [
        {
          "name": "stdout",
          "output_type": "stream",
          "text": [
            "618664 bytes\n"
          ]
        }
      ],
      "source": [
        "size_tfl_model = len(tfl_model)\n",
        "print(len(tfl_model), \"bytes\")"
      ]
    },
    {
      "attachments": {},
      "cell_type": "markdown",
      "metadata": {
        "id": "1Br6hq8Cl4nU"
      },
      "source": [
        "### Initialize the TFLite interpreter"
      ]
    },
    {
      "cell_type": "code",
      "execution_count": 22,
      "metadata": {
        "id": "ACsaQjxzP2Wd"
      },
      "outputs": [
        {
          "name": "stderr",
          "output_type": "stream",
          "text": [
            "INFO: Created TensorFlow Lite XNNPACK delegate for CPU.\n"
          ]
        }
      ],
      "source": [
        "# Initialize the TFLite interpreter\n",
        "interpreter = tf.lite.Interpreter(model_content=tfl_model)\n",
        "\n",
        "# Allocate the tensors\n",
        "interpreter.allocate_tensors()"
      ]
    },
    {
      "attachments": {},
      "cell_type": "markdown",
      "metadata": {
        "id": "OxxhFk-7l9J2"
      },
      "source": [
        "### Get input quantization parameters"
      ]
    },
    {
      "cell_type": "code",
      "execution_count": 23,
      "metadata": {
        "id": "nrH3uM8Gl_Hg"
      },
      "outputs": [],
      "source": [
        "# Get input/output layer information\n",
        "i_details = interpreter.get_input_details()[0]\n",
        "o_details = interpreter.get_output_details()[0]\n",
        "\n",
        "# Get input quantization parameters.\n",
        "i_quant = i_details[\"quantization_parameters\"]\n",
        "i_scale      = i_quant['scales'][0]\n",
        "i_zero_point = i_quant['zero_points'][0]"
      ]
    },
    {
      "attachments": {},
      "cell_type": "markdown",
      "metadata": {
        "id": "WQcFhKfumT1B"
      },
      "source": [
        "### Evaluate the accuracy of the quantized TFLite model"
      ]
    },
    {
      "cell_type": "code",
      "execution_count": 24,
      "metadata": {
        "id": "1vlIBfMHmWT-"
      },
      "outputs": [
        {
          "name": "stdout",
          "output_type": "stream",
          "text": [
            "Accuracy: 0.4074074074074074\n"
          ]
        }
      ],
      "source": [
        "test_ds0 = val_ds.unbatch()\n",
        "\n",
        "num_correct_samples = 0\n",
        "num_total_samples   = len(list(test_ds0.batch(1)))\n",
        "\n",
        "for i_value, o_value in test_ds0.batch(1):\n",
        "  i_value = (i_value / i_scale) + i_zero_point\n",
        "  i_value = tf.cast(i_value, dtype=tf.int8)\n",
        "  interpreter.set_tensor(i_details[\"index\"], i_value)\n",
        "  interpreter.invoke()\n",
        "  o_pred = interpreter.get_tensor(o_details[\"index\"])[0]\n",
        "\n",
        "  if np.argmax(o_pred) == o_value:\n",
        "    num_correct_samples += 1\n",
        "\n",
        "print(\"Accuracy:\", num_correct_samples/num_total_samples)"
      ]
    },
    {
      "attachments": {},
      "cell_type": "markdown",
      "metadata": {
        "id": "tM-ZaNUHmkBm"
      },
      "source": [
        "### Convert the TFLite model to C-byte array with xxd"
      ]
    },
    {
      "cell_type": "code",
      "execution_count": 25,
      "metadata": {
        "id": "3kAnQgmI0QK_"
      },
      "outputs": [
        {
          "name": "stdout",
          "output_type": "stream",
          "text": [
            "Reading package lists... Done\n",
            "E: Could not open lock file /var/lib/apt/lists/lock - open (13: Permission denied)\n",
            "E: Unable to lock directory /var/lib/apt/lists/\n",
            "W: Problem unlinking the file /var/cache/apt/pkgcache.bin - RemoveCaches (13: Permission denied)\n",
            "W: Problem unlinking the file /var/cache/apt/srcpkgcache.bin - RemoveCaches (13: Permission denied)\n"
          ]
        }
      ],
      "source": [
        "open(\"model.tflite\", \"wb\").write(tfl_model)\n",
        "!apt-get update && apt-get -qq install xxd\n",
        "!xxd -c 60 -i model.tflite > modelv5.cpp"
      ]
    }
  ],
  "metadata": {
    "accelerator": "GPU",
    "colab": {
      "collapsed_sections": [],
      "name": "chapter05.ipynb",
      "provenance": []
    },
    "kernelspec": {
      "display_name": "Python 3",
      "name": "python3"
    },
    "language_info": {
      "codemirror_mode": {
        "name": "ipython",
        "version": 3
      },
      "file_extension": ".py",
      "mimetype": "text/x-python",
      "name": "python",
      "nbconvert_exporter": "python",
      "pygments_lexer": "ipython3",
      "version": "3.10.6"
    }
  },
  "nbformat": 4,
  "nbformat_minor": 0
}
