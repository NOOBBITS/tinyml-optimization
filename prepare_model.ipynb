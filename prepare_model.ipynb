{
  "cells": [
    {
      "attachments": {},
      "cell_type": "markdown",
      "metadata": {
        "id": "7xc2grXmGVo4"
      },
      "source": [
        "# Chapter 5 - Indoor Scene Classification with TFLu and the Arduino Nano"
      ]
    },
    {
      "cell_type": "code",
      "execution_count": 1,
      "metadata": {
        "id": "bAenHrKFofOR"
      },
      "outputs": [
        {
          "name": "stderr",
          "output_type": "stream",
          "text": [
            "UsageError: Line magic function `%tensorflow_version` not found.\n"
          ]
        }
      ],
      "source": [
        "%tensorflow_version 2.x"
      ]
    },
    {
      "attachments": {},
      "cell_type": "markdown",
      "metadata": {
        "id": "bCS8r9jvlfFi"
      },
      "source": [
        "### Python libraries"
      ]
    },
    {
      "cell_type": "code",
      "execution_count": 2,
      "metadata": {
        "id": "9IzYsIvDlgx_"
      },
      "outputs": [
        {
          "name": "stderr",
          "output_type": "stream",
          "text": [
            "2023-07-06 18:13:01.219919: I tensorflow/core/platform/cpu_feature_guard.cc:193] This TensorFlow binary is optimized with oneAPI Deep Neural Network Library (oneDNN) to use the following CPU instructions in performance-critical operations:  AVX2 FMA\n",
            "To enable them in other operations, rebuild TensorFlow with the appropriate compiler flags.\n",
            "2023-07-06 18:13:01.612859: W tensorflow/compiler/xla/stream_executor/platform/default/dso_loader.cc:64] Could not load dynamic library 'libcudart.so.11.0'; dlerror: libcudart.so.11.0: cannot open shared object file: No such file or directory\n",
            "2023-07-06 18:13:01.612935: I tensorflow/compiler/xla/stream_executor/cuda/cudart_stub.cc:29] Ignore above cudart dlerror if you do not have a GPU set up on your machine.\n",
            "2023-07-06 18:13:02.895959: W tensorflow/compiler/xla/stream_executor/platform/default/dso_loader.cc:64] Could not load dynamic library 'libnvinfer.so.7'; dlerror: libnvinfer.so.7: cannot open shared object file: No such file or directory\n",
            "2023-07-06 18:13:02.896127: W tensorflow/compiler/xla/stream_executor/platform/default/dso_loader.cc:64] Could not load dynamic library 'libnvinfer_plugin.so.7'; dlerror: libnvinfer_plugin.so.7: cannot open shared object file: No such file or directory\n",
            "2023-07-06 18:13:02.896138: W tensorflow/compiler/tf2tensorrt/utils/py_utils.cc:38] TF-TRT Warning: Cannot dlopen some TensorRT libraries. If you would like to use Nvidia GPU with TensorRT, please make sure the missing libraries mentioned above are installed properly.\n"
          ]
        }
      ],
      "source": [
        "import numpy as np\n",
        "import pathlib\n",
        "#!export PROTOCOL_BUFFERS_PYTHON_IMPLEMENTATION=python\n",
        "import tensorflow as tf\n",
        "#import tensorflow_datasets as tfds\n",
        "import zipfile\n",
        "from tensorflow.keras.applications.mobilenet_v2 import MobileNetV2\n",
        "# from tensorflow.keras.models import Model\n",
        "import matplotlib.pyplot as plt"
      ]
    },
    {
      "attachments": {},
      "cell_type": "markdown",
      "metadata": {
        "id": "EJchRFEmnwvl"
      },
      "source": [
        "### Constants"
      ]
    },
    {
      "cell_type": "code",
      "execution_count": 3,
      "metadata": {
        "id": "6VGtgqiVFaY1"
      },
      "outputs": [],
      "source": [
        "MODEL_ALPHA = 0.35\n",
        "MODEL_INPUT_WIDTH = 48\n",
        "MODEL_INPUT_HEIGHT = 48\n",
        "TFL_MODEL_FILE = \"temp.tflite\"\n",
        "TFL_MODEL_HEADER_FILE = \"temp_model.h\"\n",
        "TF_MODEL = \"temp\""
      ]
    },
    {
      "attachments": {},
      "cell_type": "markdown",
      "metadata": {
        "id": "3J8L3YW_htYw"
      },
      "source": [
        "## Transfer learning with Keras"
      ]
    },
    {
      "attachments": {},
      "cell_type": "markdown",
      "metadata": {
        "id": "YSlp-mPQhwuY"
      },
      "source": [
        "### Unzip the dataset (dataset.zip) SKIP THIS STEP\n"
      ]
    },
    {
      "cell_type": "code",
      "execution_count": 4,
      "metadata": {
        "id": "Tp1VN1OZGuEn"
      },
      "outputs": [],
      "source": [
        "# with zipfile.ZipFile(\"dataset.zip\", 'r') as zip_ref:\n",
        "#   zip_ref.extractall(\".\")\n",
        "# data_dir = \"dataset\""
      ]
    },
    {
      "attachments": {},
      "cell_type": "markdown",
      "metadata": {
        "id": "HMqMhiuvGpam"
      },
      "source": [
        "### Prepare the train (80%) and validation (20%) datasets"
      ]
    },
    {
      "cell_type": "code",
      "execution_count": 5,
      "metadata": {
        "id": "jKZ4L-wsBktr"
      },
      "outputs": [
        {
          "name": "stdout",
          "output_type": "stream",
          "text": [
            "Found 135 files belonging to 3 classes.\n",
            "Using 108 files for training.\n",
            "Found 135 files belonging to 3 classes.\n",
            "Using 27 files for validation.\n"
          ]
        },
        {
          "name": "stderr",
          "output_type": "stream",
          "text": [
            "2023-07-06 18:13:06.220851: W tensorflow/compiler/xla/stream_executor/platform/default/dso_loader.cc:64] Could not load dynamic library 'libcudart.so.11.0'; dlerror: libcudart.so.11.0: cannot open shared object file: No such file or directory\n",
            "2023-07-06 18:13:06.221160: W tensorflow/compiler/xla/stream_executor/platform/default/dso_loader.cc:64] Could not load dynamic library 'libcublas.so.11'; dlerror: libcublas.so.11: cannot open shared object file: No such file or directory\n",
            "2023-07-06 18:13:06.221208: W tensorflow/compiler/xla/stream_executor/platform/default/dso_loader.cc:64] Could not load dynamic library 'libcublasLt.so.11'; dlerror: libcublasLt.so.11: cannot open shared object file: No such file or directory\n",
            "2023-07-06 18:13:06.221402: W tensorflow/compiler/xla/stream_executor/platform/default/dso_loader.cc:64] Could not load dynamic library 'libcufft.so.10'; dlerror: libcufft.so.10: cannot open shared object file: No such file or directory\n",
            "2023-07-06 18:13:06.221627: W tensorflow/compiler/xla/stream_executor/platform/default/dso_loader.cc:64] Could not load dynamic library 'libcurand.so.10'; dlerror: libcurand.so.10: cannot open shared object file: No such file or directory\n",
            "2023-07-06 18:13:06.221845: W tensorflow/compiler/xla/stream_executor/platform/default/dso_loader.cc:64] Could not load dynamic library 'libcusolver.so.11'; dlerror: libcusolver.so.11: cannot open shared object file: No such file or directory\n",
            "2023-07-06 18:13:06.221893: W tensorflow/compiler/xla/stream_executor/platform/default/dso_loader.cc:64] Could not load dynamic library 'libcusparse.so.11'; dlerror: libcusparse.so.11: cannot open shared object file: No such file or directory\n",
            "2023-07-06 18:13:06.221928: W tensorflow/compiler/xla/stream_executor/platform/default/dso_loader.cc:64] Could not load dynamic library 'libcudnn.so.8'; dlerror: libcudnn.so.8: cannot open shared object file: No such file or directory\n",
            "2023-07-06 18:13:06.221942: W tensorflow/core/common_runtime/gpu/gpu_device.cc:1934] Cannot dlopen some GPU libraries. Please make sure the missing libraries mentioned above are installed properly if you would like to use GPU. Follow the guide at https://www.tensorflow.org/install/gpu for how to download and setup the required libraries for your platform.\n",
            "Skipping registering GPU devices...\n",
            "2023-07-06 18:13:06.225951: I tensorflow/core/platform/cpu_feature_guard.cc:193] This TensorFlow binary is optimized with oneAPI Deep Neural Network Library (oneDNN) to use the following CPU instructions in performance-critical operations:  AVX2 FMA\n",
            "To enable them in other operations, rebuild TensorFlow with the appropriate compiler flags.\n"
          ]
        }
      ],
      "source": [
        "data_dir=\"datasetv2v1hq\"\n",
        "train_ds = tf.keras.utils.image_dataset_from_directory(\n",
        "  data_dir,\n",
        "  validation_split=0.2,\n",
        "  subset=\"training\",\n",
        "  seed=123,\n",
        "  interpolation=\"bilinear\",\n",
        "  image_size=(MODEL_INPUT_WIDTH, MODEL_INPUT_HEIGHT)\n",
        "  )\n",
        "\n",
        "val_ds = tf.keras.utils.image_dataset_from_directory(\n",
        "  data_dir,\n",
        "  validation_split=0.2,\n",
        "  subset=\"validation\",\n",
        "  seed=123,\n",
        "  interpolation=\"bilinear\",\n",
        "  image_size=(MODEL_INPUT_WIDTH, MODEL_INPUT_HEIGHT)\n",
        "  )"
      ]
    },
    {
      "attachments": {},
      "cell_type": "markdown",
      "metadata": {
        "id": "mWxKsXM0iMxj"
      },
      "source": [
        "### Get the name of the classes"
      ]
    },
    {
      "cell_type": "code",
      "execution_count": 6,
      "metadata": {
        "id": "zLWkCbjYDVHJ"
      },
      "outputs": [
        {
          "name": "stdout",
          "output_type": "stream",
          "text": [
            "['paper', 'rock', 'scissors']\n"
          ]
        }
      ],
      "source": [
        "class_names = train_ds.class_names\n",
        "num_classes = len(class_names)\n",
        "print(class_names)"
      ]
    },
    {
      "attachments": {},
      "cell_type": "markdown",
      "metadata": {
        "id": "vEsZQCsUHaeb"
      },
      "source": [
        "### Rescale the pixel values from [0, 255] to [-1, 1]"
      ]
    },
    {
      "cell_type": "code",
      "execution_count": 7,
      "metadata": {
        "id": "-lFJZj50HhMV"
      },
      "outputs": [
        {
          "name": "stdout",
          "output_type": "stream",
          "text": [
            "WARNING:tensorflow:From /home/aditya/.local/lib/python3.10/site-packages/tensorflow/python/autograph/pyct/static_analysis/liveness.py:83: Analyzer.lamba_check (from tensorflow.python.autograph.pyct.static_analysis.liveness) is deprecated and will be removed after 2023-09-23.\n",
            "Instructions for updating:\n",
            "Lambda fuctions will be no more assumed to be used in the statement where they are used, or at least in the same block. https://github.com/tensorflow/tensorflow/issues/56089\n"
          ]
        }
      ],
      "source": [
        "rescale = tf.keras.layers.Rescaling(1./255, offset= -1)\n",
        "train_ds = train_ds.map(lambda x, y: (rescale(x), y))\n",
        "val_ds   = val_ds.map(lambda x, y: (rescale(x), y))"
      ]
    },
    {
      "attachments": {},
      "cell_type": "markdown",
      "metadata": {
        "id": "OK0nFgtFSwsF"
      },
      "source": [
        "### Import the MobileNet v2 pre-trained model"
      ]
    },
    {
      "cell_type": "code",
      "execution_count": 8,
      "metadata": {
        "id": "DbhSn1Bl-LZ7"
      },
      "outputs": [
        {
          "name": "stdout",
          "output_type": "stream",
          "text": [
            "WARNING:tensorflow:`input_shape` is undefined or non-square, or `rows` is not in [96, 128, 160, 192, 224]. Weights for input shape (224, 224) will be loaded as the default.\n"
          ]
        }
      ],
      "source": [
        "# https://github.com/keras-team/keras-applications/blob/master/keras_applications/mobilenet_v2.py\n",
        "base_model = MobileNetV2(input_shape=(MODEL_INPUT_WIDTH, MODEL_INPUT_HEIGHT, 3),\n",
        "                         include_top=False,\n",
        "                         weights='imagenet',\n",
        "                         alpha=0.35)\n",
        "base_model.trainable = False\n",
        "\n",
        "feat_extr = base_model"
      ]
    },
    {
      "attachments": {},
      "cell_type": "markdown",
      "metadata": {
        "id": "lOCL5dx-MmlD"
      },
      "source": [
        "### Augment the input data"
      ]
    },
    {
      "cell_type": "code",
      "execution_count": 9,
      "metadata": {
        "id": "7ebIppPRjUKF"
      },
      "outputs": [
        {
          "name": "stdout",
          "output_type": "stream",
          "text": [
            "WARNING:tensorflow:Using a while_loop for converting RngReadAndSkip cause there is no registered converter for this op.\n",
            "WARNING:tensorflow:Using a while_loop for converting Bitcast cause there is no registered converter for this op.\n",
            "WARNING:tensorflow:Using a while_loop for converting Bitcast cause there is no registered converter for this op.\n",
            "WARNING:tensorflow:Using a while_loop for converting StatelessRandomUniformV2 cause there is no registered converter for this op.\n",
            "WARNING:tensorflow:Using a while_loop for converting ImageProjectiveTransformV3 cause there is no registered converter for this op.\n",
            "WARNING:tensorflow:Using a while_loop for converting RngReadAndSkip cause there is no registered converter for this op.\n",
            "WARNING:tensorflow:Using a while_loop for converting Bitcast cause there is no registered converter for this op.\n",
            "WARNING:tensorflow:Using a while_loop for converting Bitcast cause there is no registered converter for this op.\n",
            "WARNING:tensorflow:Using a while_loop for converting StatelessRandomUniformV2 cause there is no registered converter for this op.\n",
            "WARNING:tensorflow:Using a while_loop for converting RngReadAndSkip cause there is no registered converter for this op.\n",
            "WARNING:tensorflow:Using a while_loop for converting Bitcast cause there is no registered converter for this op.\n",
            "WARNING:tensorflow:Using a while_loop for converting Bitcast cause there is no registered converter for this op.\n",
            "WARNING:tensorflow:Using a while_loop for converting StatelessRandomUniformV2 cause there is no registered converter for this op.\n",
            "WARNING:tensorflow:Using a while_loop for converting RngReadAndSkip cause there is no registered converter for this op.\n",
            "WARNING:tensorflow:Using a while_loop for converting Bitcast cause there is no registered converter for this op.\n",
            "WARNING:tensorflow:Using a while_loop for converting Bitcast cause there is no registered converter for this op.\n",
            "WARNING:tensorflow:Using a while_loop for converting StatelessRandomUniformV2 cause there is no registered converter for this op.\n",
            "WARNING:tensorflow:Using a while_loop for converting ImageProjectiveTransformV3 cause there is no registered converter for this op.\n",
            "WARNING:tensorflow:Using a while_loop for converting RngReadAndSkip cause there is no registered converter for this op.\n",
            "WARNING:tensorflow:Using a while_loop for converting Bitcast cause there is no registered converter for this op.\n",
            "WARNING:tensorflow:Using a while_loop for converting Bitcast cause there is no registered converter for this op.\n",
            "WARNING:tensorflow:Using a while_loop for converting StatelessRandomUniformV2 cause there is no registered converter for this op.\n",
            "WARNING:tensorflow:Using a while_loop for converting RngReadAndSkip cause there is no registered converter for this op.\n",
            "WARNING:tensorflow:Using a while_loop for converting Bitcast cause there is no registered converter for this op.\n",
            "WARNING:tensorflow:Using a while_loop for converting Bitcast cause there is no registered converter for this op.\n",
            "WARNING:tensorflow:Using a while_loop for converting StatelessRandomUniformV2 cause there is no registered converter for this op.\n",
            "WARNING:tensorflow:Using a while_loop for converting RngReadAndSkip cause there is no registered converter for this op.\n",
            "WARNING:tensorflow:Using a while_loop for converting Bitcast cause there is no registered converter for this op.\n",
            "WARNING:tensorflow:Using a while_loop for converting Bitcast cause there is no registered converter for this op.\n",
            "WARNING:tensorflow:Using a while_loop for converting StatelessRandomUniformV2 cause there is no registered converter for this op.\n",
            "WARNING:tensorflow:Using a while_loop for converting ImageProjectiveTransformV3 cause there is no registered converter for this op.\n",
            "WARNING:tensorflow:Using a while_loop for converting RngReadAndSkip cause there is no registered converter for this op.\n",
            "WARNING:tensorflow:Using a while_loop for converting Bitcast cause there is no registered converter for this op.\n",
            "WARNING:tensorflow:Using a while_loop for converting Bitcast cause there is no registered converter for this op.\n",
            "WARNING:tensorflow:Using a while_loop for converting StatelessRandomUniformV2 cause there is no registered converter for this op.\n",
            "WARNING:tensorflow:Using a while_loop for converting RngReadAndSkip cause there is no registered converter for this op.\n",
            "WARNING:tensorflow:Using a while_loop for converting Bitcast cause there is no registered converter for this op.\n",
            "WARNING:tensorflow:Using a while_loop for converting Bitcast cause there is no registered converter for this op.\n",
            "WARNING:tensorflow:Using a while_loop for converting StatelessRandomUniformV2 cause there is no registered converter for this op.\n"
          ]
        }
      ],
      "source": [
        "augmen = tf.keras.Sequential([\n",
        "  tf.keras.layers.experimental.preprocessing.RandomRotation(0.2),\n",
        "  tf.keras.layers.experimental.preprocessing.RandomFlip('horizontal_and_vertical'),\n",
        "  #tf.keras.layers.experimental.preprocessing.RandomZoom(0.1, 0.1),\n",
        "  tf.keras.layers.experimental.preprocessing.RandomTranslation(0.1, 0.1)\n",
        "])\n",
        "\n",
        "train_ds = train_ds.map(lambda x, y: (augmen(x), y))\n",
        "val_ds   = val_ds.map(lambda x, y: (augmen(x), y))"
      ]
    },
    {
      "attachments": {},
      "cell_type": "markdown",
      "metadata": {
        "id": "Qhw11eldjZoz"
      },
      "source": [
        "### Prepare the classification head"
      ]
    },
    {
      "cell_type": "code",
      "execution_count": 10,
      "metadata": {
        "id": "gC5CVjRNMn7q"
      },
      "outputs": [],
      "source": [
        "global_avg_layer = tf.keras.layers.GlobalAveragePooling2D()\n",
        "dense_layer = tf.keras.layers.Dense(num_classes, activation='softmax')"
      ]
    },
    {
      "attachments": {},
      "cell_type": "markdown",
      "metadata": {
        "id": "IZYMkd0yM5tb"
      },
      "source": [
        "### Build the model architecture"
      ]
    },
    {
      "cell_type": "code",
      "execution_count": 11,
      "metadata": {
        "id": "r-DTz_x5M7bg"
      },
      "outputs": [],
      "source": [
        "inputs = tf.keras.Input(shape=(MODEL_INPUT_WIDTH, MODEL_INPUT_HEIGHT, 3))\n",
        "x = global_avg_layer(feat_extr.layers[-1].output)\n",
        "x = tf.keras.layers.Dropout(0.2)(x)\n",
        "outputs = dense_layer(x)\n",
        "model = tf.keras.Model(inputs=feat_extr.inputs, outputs=outputs)"
      ]
    },
    {
      "attachments": {},
      "cell_type": "markdown",
      "metadata": {
        "id": "X4AoQHO1j1a3"
      },
      "source": [
        "### Compile the model with a 0.0005 learning rate"
      ]
    },
    {
      "cell_type": "code",
      "execution_count": 12,
      "metadata": {
        "id": "ZHPUqQNijqE5"
      },
      "outputs": [],
      "source": [
        "lr = 0.0005\n",
        "model.compile(\n",
        "  optimizer=tf.keras.optimizers.Adam(learning_rate=lr),\n",
        "  loss=tf.losses.SparseCategoricalCrossentropy(from_logits=False),\n",
        "  metrics=['accuracy'])"
      ]
    },
    {
      "attachments": {},
      "cell_type": "markdown",
      "metadata": {
        "id": "x4M-8ftzj89-"
      },
      "source": [
        "### Model summary"
      ]
    },
    {
      "cell_type": "code",
      "execution_count": 13,
      "metadata": {
        "id": "WFXJSd6fj415"
      },
      "outputs": [],
      "source": [
        "# model.summary()"
      ]
    },
    {
      "attachments": {},
      "cell_type": "markdown",
      "metadata": {
        "id": "25W5CUAVj_I9"
      },
      "source": [
        "### Train the model with 10 epochs"
      ]
    },
    {
      "cell_type": "code",
      "execution_count": 14,
      "metadata": {
        "id": "na0GBGTQkavr"
      },
      "outputs": [
        {
          "name": "stdout",
          "output_type": "stream",
          "text": [
            "Epoch 1/100\n",
            "4/4 [==============================] - 4s 680ms/step - loss: 1.5016 - accuracy: 0.4259 - val_loss: 1.4209 - val_accuracy: 0.4444\n",
            "Epoch 2/100\n",
            "4/4 [==============================] - 1s 371ms/step - loss: 1.3358 - accuracy: 0.3796 - val_loss: 1.1429 - val_accuracy: 0.4444\n",
            "Epoch 3/100\n",
            "4/4 [==============================] - 1s 320ms/step - loss: 1.3186 - accuracy: 0.4259 - val_loss: 1.2514 - val_accuracy: 0.4444\n",
            "Epoch 4/100\n",
            "4/4 [==============================] - 1s 314ms/step - loss: 1.2523 - accuracy: 0.3981 - val_loss: 1.0919 - val_accuracy: 0.3333\n",
            "Epoch 5/100\n",
            "4/4 [==============================] - 1s 304ms/step - loss: 1.2286 - accuracy: 0.4537 - val_loss: 1.1927 - val_accuracy: 0.4074\n",
            "Epoch 6/100\n",
            "4/4 [==============================] - 1s 298ms/step - loss: 1.1417 - accuracy: 0.4630 - val_loss: 1.2082 - val_accuracy: 0.2963\n",
            "Epoch 7/100\n",
            "4/4 [==============================] - 1s 296ms/step - loss: 1.1813 - accuracy: 0.4167 - val_loss: 1.0717 - val_accuracy: 0.4074\n",
            "Epoch 8/100\n",
            "4/4 [==============================] - 1s 285ms/step - loss: 1.0787 - accuracy: 0.5278 - val_loss: 1.1510 - val_accuracy: 0.4815\n",
            "Epoch 9/100\n",
            "4/4 [==============================] - 1s 322ms/step - loss: 1.0510 - accuracy: 0.5000 - val_loss: 1.1176 - val_accuracy: 0.3704\n",
            "Epoch 10/100\n",
            "4/4 [==============================] - 1s 281ms/step - loss: 1.1238 - accuracy: 0.4907 - val_loss: 1.1131 - val_accuracy: 0.3704\n",
            "Epoch 11/100\n",
            "4/4 [==============================] - 1s 323ms/step - loss: 0.9250 - accuracy: 0.5741 - val_loss: 1.0129 - val_accuracy: 0.5185\n",
            "Epoch 12/100\n",
            "4/4 [==============================] - 1s 289ms/step - loss: 1.0019 - accuracy: 0.5185 - val_loss: 1.0794 - val_accuracy: 0.4444\n",
            "Epoch 13/100\n",
            "4/4 [==============================] - 1s 299ms/step - loss: 0.9583 - accuracy: 0.5648 - val_loss: 0.9416 - val_accuracy: 0.5556\n",
            "Epoch 14/100\n",
            "4/4 [==============================] - 1s 287ms/step - loss: 0.9617 - accuracy: 0.5370 - val_loss: 0.9711 - val_accuracy: 0.5556\n",
            "Epoch 15/100\n",
            "4/4 [==============================] - 1s 389ms/step - loss: 0.9112 - accuracy: 0.5926 - val_loss: 1.1281 - val_accuracy: 0.4074\n",
            "Epoch 16/100\n",
            "4/4 [==============================] - 1s 302ms/step - loss: 0.9280 - accuracy: 0.6019 - val_loss: 0.9560 - val_accuracy: 0.5556\n",
            "Epoch 17/100\n",
            "4/4 [==============================] - 1s 284ms/step - loss: 0.8956 - accuracy: 0.6667 - val_loss: 0.8374 - val_accuracy: 0.6296\n",
            "Epoch 18/100\n",
            "4/4 [==============================] - 1s 303ms/step - loss: 0.9052 - accuracy: 0.6296 - val_loss: 0.8756 - val_accuracy: 0.5556\n",
            "Epoch 19/100\n",
            "4/4 [==============================] - 1s 284ms/step - loss: 0.9036 - accuracy: 0.6019 - val_loss: 0.9865 - val_accuracy: 0.6296\n",
            "Epoch 20/100\n",
            "4/4 [==============================] - 1s 432ms/step - loss: 0.8823 - accuracy: 0.5741 - val_loss: 0.8593 - val_accuracy: 0.5556\n",
            "Epoch 21/100\n",
            "4/4 [==============================] - 1s 324ms/step - loss: 0.9004 - accuracy: 0.5185 - val_loss: 0.8196 - val_accuracy: 0.6667\n",
            "Epoch 22/100\n",
            "4/4 [==============================] - 1s 312ms/step - loss: 0.8700 - accuracy: 0.6296 - val_loss: 0.9955 - val_accuracy: 0.4444\n",
            "Epoch 23/100\n",
            "4/4 [==============================] - 1s 325ms/step - loss: 0.7998 - accuracy: 0.6204 - val_loss: 0.7473 - val_accuracy: 0.6296\n",
            "Epoch 24/100\n",
            "4/4 [==============================] - 1s 362ms/step - loss: 0.8234 - accuracy: 0.6481 - val_loss: 0.8918 - val_accuracy: 0.4815\n",
            "Epoch 25/100\n",
            "4/4 [==============================] - 1s 321ms/step - loss: 0.7739 - accuracy: 0.6389 - val_loss: 0.9310 - val_accuracy: 0.4815\n",
            "Epoch 26/100\n",
            "4/4 [==============================] - 1s 322ms/step - loss: 0.7729 - accuracy: 0.6481 - val_loss: 0.9720 - val_accuracy: 0.5926\n",
            "Epoch 27/100\n",
            "4/4 [==============================] - 1s 336ms/step - loss: 0.7063 - accuracy: 0.6759 - val_loss: 0.8836 - val_accuracy: 0.5926\n",
            "Epoch 28/100\n",
            "4/4 [==============================] - 1s 316ms/step - loss: 0.7819 - accuracy: 0.6389 - val_loss: 0.8643 - val_accuracy: 0.5926\n",
            "Epoch 29/100\n",
            "4/4 [==============================] - 1s 331ms/step - loss: 0.7645 - accuracy: 0.6852 - val_loss: 0.8844 - val_accuracy: 0.5185\n",
            "Epoch 30/100\n",
            "4/4 [==============================] - 1s 363ms/step - loss: 0.7842 - accuracy: 0.6389 - val_loss: 0.8403 - val_accuracy: 0.6667\n",
            "Epoch 31/100\n",
            "4/4 [==============================] - 1s 353ms/step - loss: 0.6494 - accuracy: 0.7500 - val_loss: 0.8692 - val_accuracy: 0.5926\n",
            "Epoch 32/100\n",
            "4/4 [==============================] - 1s 334ms/step - loss: 0.7968 - accuracy: 0.6481 - val_loss: 0.9070 - val_accuracy: 0.4815\n",
            "Epoch 33/100\n",
            "4/4 [==============================] - 1s 330ms/step - loss: 0.7086 - accuracy: 0.6667 - val_loss: 0.6870 - val_accuracy: 0.6667\n",
            "Epoch 34/100\n",
            "4/4 [==============================] - 1s 312ms/step - loss: 0.7972 - accuracy: 0.7037 - val_loss: 0.7972 - val_accuracy: 0.6296\n",
            "Epoch 35/100\n",
            "4/4 [==============================] - 1s 401ms/step - loss: 0.7382 - accuracy: 0.6481 - val_loss: 0.6269 - val_accuracy: 0.8148\n",
            "Epoch 36/100\n",
            "4/4 [==============================] - 1s 345ms/step - loss: 0.6739 - accuracy: 0.6852 - val_loss: 0.7657 - val_accuracy: 0.6667\n",
            "Epoch 37/100\n",
            "4/4 [==============================] - 1s 313ms/step - loss: 0.6860 - accuracy: 0.7037 - val_loss: 0.8679 - val_accuracy: 0.5926\n",
            "Epoch 38/100\n",
            "4/4 [==============================] - 1s 320ms/step - loss: 0.7358 - accuracy: 0.6481 - val_loss: 0.7838 - val_accuracy: 0.6296\n",
            "Epoch 39/100\n",
            "4/4 [==============================] - 1s 320ms/step - loss: 0.7088 - accuracy: 0.6944 - val_loss: 0.7073 - val_accuracy: 0.8148\n",
            "Epoch 40/100\n",
            "4/4 [==============================] - 1s 319ms/step - loss: 0.6570 - accuracy: 0.7037 - val_loss: 0.7833 - val_accuracy: 0.6667\n",
            "Epoch 41/100\n",
            "4/4 [==============================] - 1s 323ms/step - loss: 0.6735 - accuracy: 0.7130 - val_loss: 0.7172 - val_accuracy: 0.7037\n",
            "Epoch 42/100\n",
            "4/4 [==============================] - 1s 306ms/step - loss: 0.7679 - accuracy: 0.6667 - val_loss: 0.7890 - val_accuracy: 0.5926\n",
            "Epoch 43/100\n",
            "4/4 [==============================] - 1s 315ms/step - loss: 0.6629 - accuracy: 0.6852 - val_loss: 0.8501 - val_accuracy: 0.6667\n",
            "Epoch 44/100\n",
            "4/4 [==============================] - 1s 351ms/step - loss: 0.6355 - accuracy: 0.7407 - val_loss: 0.8933 - val_accuracy: 0.5926\n",
            "Epoch 45/100\n",
            "4/4 [==============================] - 1s 347ms/step - loss: 0.5972 - accuracy: 0.7315 - val_loss: 0.7534 - val_accuracy: 0.7778\n",
            "Epoch 46/100\n",
            "4/4 [==============================] - 1s 353ms/step - loss: 0.6059 - accuracy: 0.7500 - val_loss: 0.8069 - val_accuracy: 0.5926\n",
            "Epoch 47/100\n",
            "4/4 [==============================] - 1s 334ms/step - loss: 0.6110 - accuracy: 0.7685 - val_loss: 0.8805 - val_accuracy: 0.6667\n",
            "Epoch 48/100\n",
            "4/4 [==============================] - 1s 322ms/step - loss: 0.6583 - accuracy: 0.7407 - val_loss: 0.7674 - val_accuracy: 0.6296\n",
            "Epoch 49/100\n",
            "4/4 [==============================] - 1s 350ms/step - loss: 0.6413 - accuracy: 0.7593 - val_loss: 0.7560 - val_accuracy: 0.6296\n",
            "Epoch 50/100\n",
            "4/4 [==============================] - 1s 320ms/step - loss: 0.6656 - accuracy: 0.6944 - val_loss: 0.8149 - val_accuracy: 0.7407\n",
            "Epoch 51/100\n",
            "4/4 [==============================] - 1s 320ms/step - loss: 0.5342 - accuracy: 0.8241 - val_loss: 0.6883 - val_accuracy: 0.7407\n",
            "Epoch 52/100\n",
            "4/4 [==============================] - 1s 327ms/step - loss: 0.6374 - accuracy: 0.6667 - val_loss: 0.9567 - val_accuracy: 0.5926\n",
            "Epoch 53/100\n",
            "4/4 [==============================] - 1s 315ms/step - loss: 0.6346 - accuracy: 0.7315 - val_loss: 0.7630 - val_accuracy: 0.7037\n",
            "Epoch 54/100\n",
            "4/4 [==============================] - 1s 316ms/step - loss: 0.6810 - accuracy: 0.7130 - val_loss: 0.7235 - val_accuracy: 0.7037\n",
            "Epoch 55/100\n",
            "4/4 [==============================] - 1s 324ms/step - loss: 0.5831 - accuracy: 0.7037 - val_loss: 0.6528 - val_accuracy: 0.8148\n",
            "Epoch 56/100\n",
            "4/4 [==============================] - 1s 309ms/step - loss: 0.5705 - accuracy: 0.7500 - val_loss: 0.8024 - val_accuracy: 0.6296\n",
            "Epoch 57/100\n",
            "4/4 [==============================] - 1s 322ms/step - loss: 0.5607 - accuracy: 0.7315 - val_loss: 0.7274 - val_accuracy: 0.5926\n",
            "Epoch 58/100\n",
            "4/4 [==============================] - 1s 321ms/step - loss: 0.7049 - accuracy: 0.6852 - val_loss: 0.9098 - val_accuracy: 0.5556\n",
            "Epoch 59/100\n",
            "4/4 [==============================] - 1s 319ms/step - loss: 0.5848 - accuracy: 0.7500 - val_loss: 0.7175 - val_accuracy: 0.6296\n",
            "Epoch 60/100\n",
            "4/4 [==============================] - 1s 344ms/step - loss: 0.5549 - accuracy: 0.7593 - val_loss: 0.7266 - val_accuracy: 0.7037\n",
            "Epoch 61/100\n",
            "4/4 [==============================] - 1s 316ms/step - loss: 0.5784 - accuracy: 0.7500 - val_loss: 0.7202 - val_accuracy: 0.7407\n",
            "Epoch 62/100\n",
            "4/4 [==============================] - 1s 328ms/step - loss: 0.5907 - accuracy: 0.7407 - val_loss: 0.7681 - val_accuracy: 0.6296\n",
            "Epoch 63/100\n",
            "4/4 [==============================] - 1s 330ms/step - loss: 0.6316 - accuracy: 0.7407 - val_loss: 0.6770 - val_accuracy: 0.7407\n",
            "Epoch 64/100\n",
            "4/4 [==============================] - 1s 336ms/step - loss: 0.5555 - accuracy: 0.7963 - val_loss: 0.5998 - val_accuracy: 0.7037\n",
            "Epoch 65/100\n",
            "4/4 [==============================] - 1s 318ms/step - loss: 0.6172 - accuracy: 0.7315 - val_loss: 0.7906 - val_accuracy: 0.7037\n",
            "Epoch 66/100\n",
            "4/4 [==============================] - 1s 327ms/step - loss: 0.5519 - accuracy: 0.7407 - val_loss: 0.7419 - val_accuracy: 0.6667\n",
            "Epoch 67/100\n",
            "4/4 [==============================] - 1s 372ms/step - loss: 0.5691 - accuracy: 0.7407 - val_loss: 0.6341 - val_accuracy: 0.7407\n",
            "Epoch 68/100\n",
            "4/4 [==============================] - 1s 389ms/step - loss: 0.5564 - accuracy: 0.7685 - val_loss: 0.7948 - val_accuracy: 0.7037\n",
            "Epoch 69/100\n",
            "4/4 [==============================] - 1s 317ms/step - loss: 0.5591 - accuracy: 0.7593 - val_loss: 0.6564 - val_accuracy: 0.7778\n",
            "Epoch 70/100\n",
            "4/4 [==============================] - 1s 316ms/step - loss: 0.6131 - accuracy: 0.7222 - val_loss: 0.5904 - val_accuracy: 0.7407\n",
            "Epoch 71/100\n",
            "4/4 [==============================] - 1s 358ms/step - loss: 0.5613 - accuracy: 0.7685 - val_loss: 0.7978 - val_accuracy: 0.7037\n",
            "Epoch 72/100\n",
            "4/4 [==============================] - 1s 315ms/step - loss: 0.5529 - accuracy: 0.7593 - val_loss: 0.7426 - val_accuracy: 0.7037\n",
            "Epoch 73/100\n",
            "4/4 [==============================] - 1s 315ms/step - loss: 0.6044 - accuracy: 0.7500 - val_loss: 0.5999 - val_accuracy: 0.7407\n",
            "Epoch 74/100\n",
            "4/4 [==============================] - 1s 323ms/step - loss: 0.5692 - accuracy: 0.7500 - val_loss: 0.6676 - val_accuracy: 0.6296\n",
            "Epoch 75/100\n",
            "4/4 [==============================] - 1s 384ms/step - loss: 0.5037 - accuracy: 0.8056 - val_loss: 0.7883 - val_accuracy: 0.5926\n",
            "Epoch 76/100\n",
            "4/4 [==============================] - 1s 333ms/step - loss: 0.5959 - accuracy: 0.7500 - val_loss: 0.7457 - val_accuracy: 0.6667\n",
            "Epoch 77/100\n",
            "4/4 [==============================] - 1s 322ms/step - loss: 0.6249 - accuracy: 0.7222 - val_loss: 0.7733 - val_accuracy: 0.5926\n",
            "Epoch 78/100\n",
            "4/4 [==============================] - 1s 355ms/step - loss: 0.5946 - accuracy: 0.7685 - val_loss: 0.6543 - val_accuracy: 0.6667\n",
            "Epoch 79/100\n",
            "4/4 [==============================] - 1s 331ms/step - loss: 0.5053 - accuracy: 0.7963 - val_loss: 0.7330 - val_accuracy: 0.7407\n",
            "Epoch 80/100\n",
            "4/4 [==============================] - 1s 312ms/step - loss: 0.5244 - accuracy: 0.7778 - val_loss: 0.8377 - val_accuracy: 0.5556\n",
            "Epoch 81/100\n",
            "4/4 [==============================] - 1s 334ms/step - loss: 0.6004 - accuracy: 0.7685 - val_loss: 0.7235 - val_accuracy: 0.6667\n",
            "Epoch 82/100\n",
            "4/4 [==============================] - 1s 328ms/step - loss: 0.5838 - accuracy: 0.8056 - val_loss: 0.6557 - val_accuracy: 0.7407\n",
            "Epoch 83/100\n",
            "4/4 [==============================] - 1s 319ms/step - loss: 0.4464 - accuracy: 0.8611 - val_loss: 0.8197 - val_accuracy: 0.6296\n",
            "Epoch 84/100\n",
            "4/4 [==============================] - 1s 325ms/step - loss: 0.5500 - accuracy: 0.7778 - val_loss: 0.7438 - val_accuracy: 0.7407\n",
            "Epoch 85/100\n",
            "4/4 [==============================] - 1s 316ms/step - loss: 0.4995 - accuracy: 0.7870 - val_loss: 0.7920 - val_accuracy: 0.7037\n",
            "Epoch 86/100\n",
            "4/4 [==============================] - 1s 315ms/step - loss: 0.5929 - accuracy: 0.7500 - val_loss: 0.8370 - val_accuracy: 0.6296\n",
            "Epoch 87/100\n",
            "4/4 [==============================] - 1s 319ms/step - loss: 0.4408 - accuracy: 0.8519 - val_loss: 0.5468 - val_accuracy: 0.7407\n",
            "Epoch 88/100\n",
            "4/4 [==============================] - 1s 315ms/step - loss: 0.5525 - accuracy: 0.8241 - val_loss: 0.8120 - val_accuracy: 0.7037\n",
            "Epoch 89/100\n",
            "4/4 [==============================] - 1s 336ms/step - loss: 0.5492 - accuracy: 0.7963 - val_loss: 0.6617 - val_accuracy: 0.7778\n",
            "Epoch 90/100\n",
            "4/4 [==============================] - 1s 361ms/step - loss: 0.4814 - accuracy: 0.7778 - val_loss: 0.6983 - val_accuracy: 0.7037\n",
            "Epoch 91/100\n",
            "4/4 [==============================] - 1s 369ms/step - loss: 0.4684 - accuracy: 0.8519 - val_loss: 0.7956 - val_accuracy: 0.7407\n",
            "Epoch 92/100\n",
            "4/4 [==============================] - 1s 324ms/step - loss: 0.4610 - accuracy: 0.8796 - val_loss: 0.7601 - val_accuracy: 0.7407\n",
            "Epoch 93/100\n",
            "4/4 [==============================] - 1s 329ms/step - loss: 0.4665 - accuracy: 0.8148 - val_loss: 0.7673 - val_accuracy: 0.6667\n",
            "Epoch 94/100\n",
            "4/4 [==============================] - 1s 312ms/step - loss: 0.5231 - accuracy: 0.8056 - val_loss: 0.6880 - val_accuracy: 0.6667\n",
            "Epoch 95/100\n",
            "4/4 [==============================] - 1s 326ms/step - loss: 0.5608 - accuracy: 0.7315 - val_loss: 0.8143 - val_accuracy: 0.7037\n",
            "Epoch 96/100\n",
            "4/4 [==============================] - 1s 310ms/step - loss: 0.4710 - accuracy: 0.8426 - val_loss: 0.7796 - val_accuracy: 0.7037\n",
            "Epoch 97/100\n",
            "4/4 [==============================] - 1s 313ms/step - loss: 0.5453 - accuracy: 0.7963 - val_loss: 0.6731 - val_accuracy: 0.6667\n",
            "Epoch 98/100\n",
            "4/4 [==============================] - 1s 320ms/step - loss: 0.4210 - accuracy: 0.8426 - val_loss: 0.7586 - val_accuracy: 0.7407\n",
            "Epoch 99/100\n",
            "4/4 [==============================] - 1s 314ms/step - loss: 0.4376 - accuracy: 0.8426 - val_loss: 0.7791 - val_accuracy: 0.6667\n",
            "Epoch 100/100\n",
            "4/4 [==============================] - 1s 329ms/step - loss: 0.5381 - accuracy: 0.7407 - val_loss: 0.7125 - val_accuracy: 0.7407\n"
          ]
        }
      ],
      "source": [
        "history=model.fit(\n",
        "  train_ds,\n",
        "  validation_data=val_ds,\n",
        "  epochs=100\n",
        ")"
      ]
    },
    {
      "cell_type": "code",
      "execution_count": 15,
      "metadata": {},
      "outputs": [
        {
          "data": {
            "image/png": "[encoded data removed]",
            "text/plain": [
              "<Figure size 640x480 with 1 Axes>"
            ]
          },
          "metadata": {},
          "output_type": "display_data"
        }
      ],
      "source": [
        "plt.plot(history.history['accuracy'])\n",
        "plt.plot(history.history['val_accuracy'])\n",
        "plt.title('model accuracy')\n",
        "plt.ylabel('accuracy')\n",
        "plt.xlabel('epoch')\n",
        "plt.legend(['train', 'val'], loc='upper left')\n",
        "plt.show()"
      ]
    },
    {
      "cell_type": "code",
      "execution_count": 16,
      "metadata": {},
      "outputs": [
        {
          "data": {
            "image/png": "[encoded data removed]",
            "text/plain": [
              "<Figure size 640x480 with 1 Axes>"
            ]
          },
          "metadata": {},
          "output_type": "display_data"
        }
      ],
      "source": [
        "plt.plot(history.history['loss'])\n",
        "plt.plot(history.history['val_loss'])\n",
        "plt.title('model loss')\n",
        "plt.ylabel('loss')\n",
        "plt.xlabel('epoch')\n",
        "plt.legend(['train', 'val'], loc='upper left')\n",
        "plt.show()"
      ]
    },
    {
      "attachments": {},
      "cell_type": "markdown",
      "metadata": {
        "id": "U0tsAdGikFa_"
      },
      "source": [
        "### Save the TensorFlow model"
      ]
    },
    {
      "cell_type": "code",
      "execution_count": 17,
      "metadata": {
        "id": "rOUI3vtLtYKh"
      },
      "outputs": [
        {
          "name": "stderr",
          "output_type": "stream",
          "text": [
            "WARNING:absl:Found untraced functions such as _jit_compiled_convolution_op, _jit_compiled_convolution_op, _jit_compiled_convolution_op, _jit_compiled_convolution_op, _jit_compiled_convolution_op while saving (showing 5 of 53). These functions will not be directly callable after loading.\n"
          ]
        },
        {
          "name": "stdout",
          "output_type": "stream",
          "text": [
            "INFO:tensorflow:Assets written to: temp/assets\n"
          ]
        },
        {
          "name": "stderr",
          "output_type": "stream",
          "text": [
            "INFO:tensorflow:Assets written to: temp/assets\n"
          ]
        }
      ],
      "source": [
        "model.save(TF_MODEL)"
      ]
    },
    {
      "attachments": {},
      "cell_type": "markdown",
      "metadata": {
        "id": "KntdZZ5ruM7Z"
      },
      "source": [
        "## Preparing and testing the quantized TFLite model"
      ]
    },
    {
      "attachments": {},
      "cell_type": "markdown",
      "metadata": {
        "id": "srHkdaf_kk97"
      },
      "source": [
        "### Unzip the test dataset (test_samples.zip)"
      ]
    },
    {
      "cell_type": "code",
      "execution_count": 18,
      "metadata": {
        "id": "ZxnVbqxkkspY"
      },
      "outputs": [],
      "source": [
        "# with zipfile.ZipFile(\"test_samples.zip\", 'r') as zip_ref:\n",
        "#     zip_ref.extractall(\".\")\n",
        "# test_dir = \"dataset\""
      ]
    },
    {
      "attachments": {},
      "cell_type": "markdown",
      "metadata": {
        "id": "jzTiU6qQk_Bv"
      },
      "source": [
        "### Rescale the pixel values from [0, 255] to [-1, 1]"
      ]
    },
    {
      "cell_type": "code",
      "execution_count": 19,
      "metadata": {
        "id": "vYHpua21lGXp"
      },
      "outputs": [
        {
          "name": "stdout",
          "output_type": "stream",
          "text": [
            "Found 135 files belonging to 3 classes.\n"
          ]
        }
      ],
      "source": [
        "test_dir=\"datasetv2v1hq\"\n",
        "test_ds = tf.keras.utils.image_dataset_from_directory(test_dir,\n",
        "                                                      interpolation=\"bilinear\",\n",
        "                                                      image_size=(MODEL_INPUT_WIDTH, MODEL_INPUT_HEIGHT))\n",
        "test_ds  = test_ds.map(lambda x, y: (rescale(x), y))"
      ]
    },
    {
      "attachments": {},
      "cell_type": "markdown",
      "metadata": {
        "id": "riqPFiWllkdg"
      },
      "source": [
        "### Quantize the TensorFlow model with the TFLite converter"
      ]
    },
    {
      "cell_type": "code",
      "execution_count": 20,
      "metadata": {
        "id": "ALWbwZKBuNl8"
      },
      "outputs": [
        {
          "name": "stderr",
          "output_type": "stream",
          "text": [
            "2023-07-06 18:16:19.085425: W tensorflow/compiler/mlir/lite/python/tf_tfl_flatbuffer_helpers.cc:362] Ignored output_format.\n",
            "2023-07-06 18:16:19.085568: W tensorflow/compiler/mlir/lite/python/tf_tfl_flatbuffer_helpers.cc:365] Ignored drop_control_dependency.\n",
            "2023-07-06 18:16:19.090852: I tensorflow/cc/saved_model/reader.cc:45] Reading SavedModel from: temp\n",
            "2023-07-06 18:16:19.132100: I tensorflow/cc/saved_model/reader.cc:89] Reading meta graph with tags { serve }\n",
            "2023-07-06 18:16:19.132227: I tensorflow/cc/saved_model/reader.cc:130] Reading SavedModel debug info (if present) from: temp\n",
            "2023-07-06 18:16:19.302088: I tensorflow/compiler/mlir/mlir_graph_optimization_pass.cc:357] MLIR V1 optimization pass is not enabled\n",
            "2023-07-06 18:16:20.619384: I tensorflow/compiler/mlir/tensorflow/utils/dump_mlir_util.cc:268] disabling MLIR crash reproducer, set env var `MLIR_CRASH_REPRODUCER_DIRECTORY` to enable.\n",
            "fully_quantize: 0, inference_type: 6, input_inference_type: INT8, output_inference_type: FLOAT32\n"
          ]
        }
      ],
      "source": [
        "repr_ds = test_ds.unbatch()\n",
        "\n",
        "def representative_data_gen():\n",
        "  for i_value, o_value in repr_ds.batch(1).take(48):\n",
        "    yield [i_value]\n",
        "\n",
        "converter = tf.lite.TFLiteConverter.from_saved_model(TF_MODEL)\n",
        "converter.representative_dataset = tf.lite.RepresentativeDataset(representative_data_gen)\n",
        "converter.optimizations = [tf.lite.Optimize.DEFAULT]\n",
        "converter.target_spec.supported_ops = [tf.lite.OpsSet.TFLITE_BUILTINS_INT8]\n",
        "converter.inference_input_type = tf.int8\n",
        "\n",
        "tfl_model = converter.convert()"
      ]
    },
    {
      "attachments": {},
      "cell_type": "markdown",
      "metadata": {
        "id": "nQg4FbwzluB8"
      },
      "source": [
        "### Get the TFLite model size in bytes"
      ]
    },
    {
      "cell_type": "code",
      "execution_count": 21,
      "metadata": {
        "id": "IFIpV1uUlxiZ"
      },
      "outputs": [
        {
          "name": "stdout",
          "output_type": "stream",
          "text": [
            "618664 bytes\n"
          ]
        }
      ],
      "source": [
        "size_tfl_model = len(tfl_model)\n",
        "print(len(tfl_model), \"bytes\")"
      ]
    },
    {
      "attachments": {},
      "cell_type": "markdown",
      "metadata": {
        "id": "1Br6hq8Cl4nU"
      },
      "source": [
        "### Initialize the TFLite interpreter"
      ]
    },
    {
      "cell_type": "code",
      "execution_count": 22,
      "metadata": {
        "id": "ACsaQjxzP2Wd"
      },
      "outputs": [
        {
          "name": "stderr",
          "output_type": "stream",
          "text": [
            "INFO: Created TensorFlow Lite XNNPACK delegate for CPU.\n"
          ]
        }
      ],
      "source": [
        "# Initialize the TFLite interpreter\n",
        "interpreter = tf.lite.Interpreter(model_content=tfl_model)\n",
        "\n",
        "# Allocate the tensors\n",
        "interpreter.allocate_tensors()"
      ]
    },
    {
      "attachments": {},
      "cell_type": "markdown",
      "metadata": {
        "id": "OxxhFk-7l9J2"
      },
      "source": [
        "### Get input quantization parameters"
      ]
    },
    {
      "cell_type": "code",
      "execution_count": 23,
      "metadata": {
        "id": "nrH3uM8Gl_Hg"
      },
      "outputs": [],
      "source": [
        "# Get input/output layer information\n",
        "i_details = interpreter.get_input_details()[0]\n",
        "o_details = interpreter.get_output_details()[0]\n",
        "\n",
        "# Get input quantization parameters.\n",
        "i_quant = i_details[\"quantization_parameters\"]\n",
        "i_scale      = i_quant['scales'][0]\n",
        "i_zero_point = i_quant['zero_points'][0]"
      ]
    },
    {
      "attachments": {},
      "cell_type": "markdown",
      "metadata": {
        "id": "WQcFhKfumT1B"
      },
      "source": [
        "### Evaluate the accuracy of the quantized TFLite model"
      ]
    },
    {
      "cell_type": "code",
      "execution_count": 32,
      "metadata": {
        "id": "1vlIBfMHmWT-"
      },
      "outputs": [
        {
          "name": "stdout",
          "output_type": "stream",
          "text": [
            "Accuracy: 0.5185185185185185\n"
          ]
        },
        {
          "ename": "",
          "evalue": "",
          "output_type": "error",
          "traceback": [
            "\u001b[1;31mThe Kernel crashed while executing code in the the current cell or a previous cell. Please review the code in the cell(s) to identify a possible cause of the failure. Click <a href='https://aka.ms/vscodeJupyterKernelCrash'>here</a> for more info. View Jupyter <a href='command:jupyter.viewOutput'>log</a> for further details."
          ]
        }
      ],
      "source": [
        "test_ds0 = val_ds.unbatch()\n",
        "\n",
        "num_correct_samples = 0\n",
        "num_total_samples   = len(list(test_ds0.batch(1)))\n",
        "\n",
        "for i_value, o_value in test_ds0.batch(1):\n",
        "  i_value = (i_value / i_scale) + i_zero_point\n",
        "  i_value = tf.cast(i_value, dtype=tf.int8)\n",
        "  interpreter.set_tensor(i_details[\"index\"], i_value)\n",
        "  interpreter.invoke()\n",
        "  o_pred = interpreter.get_tensor(o_details[\"index\"])[0]\n",
        "\n",
        "  if np.argmax(o_pred) == o_value:\n",
        "    num_correct_samples += 1\n",
        "\n",
        "print(\"Accuracy:\", num_correct_samples/num_total_samples)"
      ]
    },
    {
      "attachments": {},
      "cell_type": "markdown",
      "metadata": {
        "id": "tM-ZaNUHmkBm"
      },
      "source": [
        "### Convert the TFLite model to C-byte array with xxd"
      ]
    },
    {
      "cell_type": "code",
      "execution_count": 25,
      "metadata": {
        "id": "3kAnQgmI0QK_"
      },
      "outputs": [
        {
          "name": "stdout",
          "output_type": "stream",
          "text": [
            "Reading package lists... Done\n",
            "E: Could not open lock file /var/lib/apt/lists/lock - open (13: Permission denied)\n",
            "E: Unable to lock directory /var/lib/apt/lists/\n",
            "W: Problem unlinking the file /var/cache/apt/pkgcache.bin - RemoveCaches (13: Permission denied)\n",
            "W: Problem unlinking the file /var/cache/apt/srcpkgcache.bin - RemoveCaches (13: Permission denied)\n"
          ]
        }
      ],
      "source": [
        "open(\"model.tflite\", \"wb\").write(tfl_model)\n",
        "!apt-get update && apt-get -qq install xxd\n",
        "!xxd -c 60 -i model.tflite > modelv6.cpp"
      ]
    }
  ],
  "metadata": {
    "accelerator": "GPU",
    "colab": {
      "collapsed_sections": [],
      "name": "chapter05.ipynb",
      "provenance": []
    },
    "kernelspec": {
      "display_name": "Python 3",
      "name": "python3"
    },
    "language_info": {
      "codemirror_mode": {
        "name": "ipython",
        "version": 3
      },
      "file_extension": ".py",
      "mimetype": "text/x-python",
      "name": "python",
      "nbconvert_exporter": "python",
      "pygments_lexer": "ipython3",
      "version": "3.10.6"
    }
  },
  "nbformat": 4,
  "nbformat_minor": 0
}
